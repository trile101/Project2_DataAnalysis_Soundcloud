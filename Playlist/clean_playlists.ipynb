{
 "cells": [
  {
   "cell_type": "code",
   "execution_count": 1,
   "id": "cda8d60f",
   "metadata": {
    "ExecuteTime": {
     "end_time": "2021-12-18T13:14:36.177424Z",
     "start_time": "2021-12-18T13:14:34.500980Z"
    }
   },
   "outputs": [],
   "source": [
    "import numpy as np\n",
    "import pandas as pd\n",
    "import matplotlib.pyplot as plt\n",
    "import seaborn as sns"
   ]
  },
  {
   "cell_type": "markdown",
   "id": "6b9ade3d",
   "metadata": {},
   "source": [
    "#### **1. Kiểm tra tổng quan về tập dữ liệu ban đầu**"
   ]
  },
  {
   "cell_type": "code",
   "execution_count": 2,
   "id": "11e668c5",
   "metadata": {
    "ExecuteTime": {
     "end_time": "2021-12-18T13:14:36.254147Z",
     "start_time": "2021-12-18T13:14:36.180343Z"
    },
    "scrolled": false
   },
   "outputs": [
    {
     "data": {
      "text/plain": [
       "(2093, 32)"
      ]
     },
     "execution_count": 2,
     "metadata": {},
     "output_type": "execute_result"
    }
   ],
   "source": [
    "raw_pl = pd.read_csv(\"playlist.csv\", sep = '\\t')\n",
    "raw_pl.drop(columns=\"index\", inplace=True)\n",
    "\n",
    "# tao bản copy để xử lý dữ liệu\n",
    "new_pl = raw_pl.copy()\n",
    "new_pl.shape"
   ]
  },
  {
   "cell_type": "markdown",
   "id": "0a426c0f",
   "metadata": {},
   "source": [
    "Tập dữ liệu `playlists` ban đầu có  `2093` mẫu và `32` thuộc tính. Tóm tắt về các thuộc tính của tập dữ liệu:\n",
    "\n",
    "|Thuộc tính|Kiểu dữ liệu|     Ý nghĩa của dữ liệu\n",
    "|:-----------:|:----------------:|:---------:|\n",
    "|**artwork_url**|Chuỗi |URL ảnh của playlist|\n",
    "|**created_at**|Thời gian|Thời gian khởi tạo playlist|  \n",
    "|**description**|Chuỗi|Mô tả của người đăng tải| \n",
    "|**duration**|Số nguyên|Tổng thời gian các track nhạc trong playlist|\n",
    "|**embeddable_by**|Chuỗi|Đối tượng có quyền nhúng track hoặc playlist này|\n",
    "|**genre**|Chuỗi|Thể loại nhạc của playlist|\n",
    "|**id**|Kiểu phân loại|Định danh cho playlist|\n",
    "|**kind**|Chuỗi|Loại user|\n",
    "|**label_name**|Chuỗi|Hãng thu âm|\n",
    "|**last_modified**|Thời gian|Lần chỉnh sửa cuối cùng của tác giả| \n",
    "|**license**|Chuỗi|Giấy phép|\n",
    "|**likes_count**|Số nguyên|Số lượt yêu thích của playlist|\n",
    "|**managed_by_feeds**|Luận lý|Playlist có được quản lý bởi Feed|\n",
    "|**permalink**|Chuỗi|Đường dẫn cố định của tài nguyên|\n",
    "|**permalink_url**|Chuỗi|Đường dẫn đến trang Soundcloud |  \n",
    "|**public**|Luận lý|Playlist có công khai hay không?|\n",
    "|**purchase_title**|Chuỗi|     \n",
    "|**purchase_url**|Chuỗi|       \n",
    "|**release_date**|Thời gian|Thời gian xuất bản playlist|   \n",
    "|**reposts_count**|Số nguyên|Số lượt đăng lại playlist|\n",
    "|**secret_token**|Chuỗi|\n",
    "|**sharing**|Chuỗi|Chế độ chia sẻ công khai hay riêng tư|\n",
    "|**tag_list**|Chuỗi|Danh sách các tag của playlist|\n",
    "|**title**|Chuỗi|Tiêu đề playlist|    \n",
    "|**uri**|Chuỗi|Đường dẫn API của playlist|    \n",
    "|**user_id**|Kiểu phân loại|Định danh của người sở hữu playlist|   \n",
    "|**set_type**|Chuỗi|Định dạng đĩa|\n",
    "|**is_album**|Luận lý|Playlist có phải album hay không|\n",
    "|**published_at**|Thời gian|Thời điểm đăng tải playlist|   \n",
    "|**display_date**|Thời gian|Thời điểm playlist hiển thị|   \n",
    "|**track_count**|Số nguyên|Số lượng track trong playlist|\n",
    "|**tracks**|Chuỗi|Danh sách id của các track trong playlist được ngăn cách bởi \",\"|"
   ]
  },
  {
   "cell_type": "code",
   "execution_count": 3,
   "id": "efe77d42",
   "metadata": {
    "ExecuteTime": {
     "end_time": "2021-12-18T13:14:36.286059Z",
     "start_time": "2021-12-18T13:14:36.261127Z"
    }
   },
   "outputs": [
    {
     "name": "stdout",
     "output_type": "stream",
     "text": [
      "<class 'pandas.core.frame.DataFrame'>\n",
      "RangeIndex: 2093 entries, 0 to 2092\n",
      "Data columns (total 32 columns):\n",
      " #   Column            Non-Null Count  Dtype  \n",
      "---  ------            --------------  -----  \n",
      " 0   artwork_url       1190 non-null   object \n",
      " 1   created_at        2093 non-null   object \n",
      " 2   description       798 non-null    object \n",
      " 3   duration          2093 non-null   int64  \n",
      " 4   embeddable_by     2093 non-null   object \n",
      " 5   genre             1273 non-null   object \n",
      " 6   id                2093 non-null   int64  \n",
      " 7   kind              2093 non-null   object \n",
      " 8   label_name        414 non-null    object \n",
      " 9   last_modified     2093 non-null   object \n",
      " 10  license           2093 non-null   object \n",
      " 11  likes_count       2093 non-null   int64  \n",
      " 12  managed_by_feeds  2093 non-null   bool   \n",
      " 13  permalink         2093 non-null   object \n",
      " 14  permalink_url     2093 non-null   object \n",
      " 15  public            2093 non-null   bool   \n",
      " 16  purchase_title    178 non-null    object \n",
      " 17  purchase_url      459 non-null    object \n",
      " 18  release_date      776 non-null    object \n",
      " 19  reposts_count     2093 non-null   int64  \n",
      " 20  secret_token      0 non-null      float64\n",
      " 21  sharing           2093 non-null   object \n",
      " 22  tag_list          829 non-null    object \n",
      " 23  title             2093 non-null   object \n",
      " 24  uri               2093 non-null   object \n",
      " 25  user_id           2093 non-null   int64  \n",
      " 26  set_type          748 non-null    object \n",
      " 27  is_album          2093 non-null   bool   \n",
      " 28  published_at      1034 non-null   object \n",
      " 29  display_date      2093 non-null   object \n",
      " 30  track_count       2093 non-null   int64  \n",
      " 31  tracks            1919 non-null   object \n",
      "dtypes: bool(3), float64(1), int64(6), object(22)\n",
      "memory usage: 480.5+ KB\n"
     ]
    }
   ],
   "source": [
    "new_pl.info()"
   ]
  },
  {
   "cell_type": "markdown",
   "id": "1e7a7f9c",
   "metadata": {},
   "source": [
    "Theo quan sát đầu tiên thì thuộc tính `secret_token` không có dữ liệu do đó ta sẽ xoá cột này đi"
   ]
  },
  {
   "cell_type": "code",
   "execution_count": 4,
   "id": "198dfa76",
   "metadata": {
    "ExecuteTime": {
     "end_time": "2021-12-18T13:14:36.301018Z",
     "start_time": "2021-12-18T13:14:36.291048Z"
    }
   },
   "outputs": [],
   "source": [
    "new_pl.drop(columns=[\"secret_token\"], inplace=True)"
   ]
  },
  {
   "cell_type": "markdown",
   "id": "7826fe12",
   "metadata": {},
   "source": [
    "#### **2. Phân tích các thuộc tính định danh của tập `playlists`**"
   ]
  },
  {
   "cell_type": "markdown",
   "id": "5dc8d29d",
   "metadata": {},
   "source": [
    "Dựa vào bảng tóm tắt các thuộc tính của tập dữ liệu, có thể chọn ra những thuộc tính có vai trò định danh cho `playlist` như `id`, `permalink`, `permalink_url` và `uri`"
   ]
  },
  {
   "cell_type": "code",
   "execution_count": 5,
   "id": "6ad88b99",
   "metadata": {
    "ExecuteTime": {
     "end_time": "2021-12-18T13:14:36.331937Z",
     "start_time": "2021-12-18T13:14:36.304030Z"
    }
   },
   "outputs": [
    {
     "name": "stdout",
     "output_type": "stream",
     "text": [
      "Số lượng id khác nhau: 2093\n",
      "Số lượng permalink khác nhau: 2003\n",
      "Số lượng permalink_url khác nhau: 2093\n",
      "Số lượng uri khác nhau: 2093\n"
     ]
    }
   ],
   "source": [
    "print(f\"Số lượng id khác nhau: {new_pl['id'].nunique()}\")\n",
    "print(f\"Số lượng permalink khác nhau: {new_pl['permalink'].nunique()}\")\n",
    "print(f\"Số lượng permalink_url khác nhau: {new_pl['permalink_url'].nunique()}\")\n",
    "print(f\"Số lượng uri khác nhau: {new_pl['uri'].nunique()}\")"
   ]
  },
  {
   "cell_type": "markdown",
   "id": "eeea1033",
   "metadata": {},
   "source": [
    "Số lượng các giá trị khác nhau của các thuộc tính này là như nhau, đều đó có nghĩa chúng đóng vai trò là tương tự nhau trong tập dữ liệu, tuy nhiên ở đây chúng ta sẽ chỉ giữ lại hai thuộc tính đó là `id` và `permalink_url` của tập dữ liệu với mục đích định danh cũng như truy cập đến đường dẫn của `playlist`sau này."
   ]
  },
  {
   "cell_type": "code",
   "execution_count": 6,
   "id": "575db3e8",
   "metadata": {
    "ExecuteTime": {
     "end_time": "2021-12-18T13:14:36.347896Z",
     "start_time": "2021-12-18T13:14:36.333932Z"
    }
   },
   "outputs": [],
   "source": [
    "new_pl.drop(columns=[\"permalink\", \"uri\"], inplace=True)"
   ]
  },
  {
   "cell_type": "markdown",
   "id": "d856a775",
   "metadata": {},
   "source": [
    "#### **3. Phân tích các thuộc tính có dấu hiệu tương đồng về thông tin**"
   ]
  },
  {
   "cell_type": "markdown",
   "id": "c6ee02a0",
   "metadata": {},
   "source": [
    "Theo như bảng tóm tắt các thuộc tính ở trên, có thể thấy các thuộc tính `created_at`, `last_modified`, `release_date`, `published_at` và `display_date` là các thuộc tính chỉ thời gian, mặc dù có ý nghĩa khác nhau nhưng chúng khá tương đồng nhau về mặt thông tin mà chúng mang lại:\n",
    "- `created_at` là thời điểm mà playlist được khởi tạo.\n",
    "- `last_modified` là thời điểm mà lần cuối playlist được chỉnh sửa.\n",
    "- `release_date` là thời điểm mà playlist được xuất bản.\n",
    "- `published_at` là thời điểm mà playlist chính thức được phát hành.\n",
    "- `display_date` là thời điểm mà playlist hiển thị trên `Soundcloud`\n",
    "\n",
    "Nếu xét theo các mốc thời gian như vậy, thì thuộc tính `display_date` sẽ là phù hợp nhất để được giữ lại vì nó là thời điểm mà người sử dụng `Soundcloud` có thể truy cập vào playlist. Do đó, ta sẽ loại bỏ các thuộc tính còn lại."
   ]
  },
  {
   "cell_type": "code",
   "execution_count": 7,
   "id": "50547ac8",
   "metadata": {
    "ExecuteTime": {
     "end_time": "2021-12-18T13:14:36.378811Z",
     "start_time": "2021-12-18T13:14:36.349888Z"
    }
   },
   "outputs": [],
   "source": [
    "new_pl.drop(columns=[\"created_at\", \"last_modified\", \"release_date\", \"published_at\"], inplace=True)"
   ]
  },
  {
   "cell_type": "markdown",
   "id": "406d4918",
   "metadata": {},
   "source": [
    "#### **4. Phân tích các thuộc tính không đóng góp nhiều vào việc phân tích dữ liệu**"
   ]
  },
  {
   "cell_type": "code",
   "execution_count": 8,
   "id": "8b2e9846",
   "metadata": {
    "ExecuteTime": {
     "end_time": "2021-12-18T13:14:36.409729Z",
     "start_time": "2021-12-18T13:14:36.382801Z"
    }
   },
   "outputs": [
    {
     "data": {
      "text/plain": [
       "artwork_url          903\n",
       "description         1295\n",
       "duration               0\n",
       "embeddable_by          0\n",
       "genre                820\n",
       "id                     0\n",
       "kind                   0\n",
       "label_name          1679\n",
       "license                0\n",
       "likes_count            0\n",
       "managed_by_feeds       0\n",
       "permalink_url          0\n",
       "public                 0\n",
       "purchase_title      1915\n",
       "purchase_url        1634\n",
       "reposts_count          0\n",
       "sharing                0\n",
       "tag_list            1264\n",
       "title                  0\n",
       "user_id                0\n",
       "set_type            1345\n",
       "is_album               0\n",
       "display_date           0\n",
       "track_count            0\n",
       "tracks               174\n",
       "dtype: int64"
      ]
     },
     "execution_count": 8,
     "metadata": {},
     "output_type": "execute_result"
    }
   ],
   "source": [
    "new_pl.isnull().sum()"
   ]
  },
  {
   "cell_type": "markdown",
   "id": "cd5fad35",
   "metadata": {},
   "source": [
    "Sau các bước phân tích ở trên, chúng ta còn lại `25` thuộc tính đối với tập dữ liệu ban đầu, tuy nhiên qua quan sát những thuộc tính còn lại cũng như số lượng giá trị bị thiếu của chúng, ta nhận thấy được có 1 số thuộc tính sẽ không có đóng góp đáng kể cho bước phân tích dữ liệu như sau:\n",
    "- `artwork_url`\n",
    "- `label_name`\n",
    "- `description`\n",
    "- `kind`\n",
    "- `embeddable_by`\n",
    "- `license`\n",
    "- `managed_by_feeds`\n",
    "- `public`\n",
    "- `purchase_url`\n",
    "- `purchase_title`\n",
    "- `sharing`\n",
    "- `tag_list`\n",
    "- `set_type`\n",
    "- `title`\n",
    "\n",
    "Tiến hành loại bỏ các cột trên ra khỏi dữ liệu."
   ]
  },
  {
   "cell_type": "code",
   "execution_count": 9,
   "id": "0c931fab",
   "metadata": {
    "ExecuteTime": {
     "end_time": "2021-12-18T13:14:36.441644Z",
     "start_time": "2021-12-18T13:14:36.413719Z"
    }
   },
   "outputs": [],
   "source": [
    "new_pl.drop(columns=[\"artwork_url\", \"label_name\", \"description\", \"kind\", \"embeddable_by\", \"license\", \"title\",\n",
    "                     \"managed_by_feeds\", \"public\", \"purchase_url\", \"purchase_title\", \"sharing\", \"tag_list\", \"set_type\"], inplace=True)"
   ]
  },
  {
   "cell_type": "markdown",
   "id": "cc3442ec",
   "metadata": {},
   "source": [
    "**Tổng kết quá trình phân tích và chọn lọc dữ liệu cần thiết:**\n",
    "1. Loại bỏ cột `index`.\n",
    "2. Thuộc tính `secret_token` không có dữ liệu do đó sẽ bị xoá đi.\n",
    "3. Các thuộc tính định danh gồm có `playlist` như:\n",
    "- `id`\n",
    "- `permalink`\n",
    "- `permalink_url`\n",
    "- `uri`\n",
    "    - Ta chỉ giữ lại `id` để định danh và `permalink_url` để truy cập đến playlist.\n",
    "4. Các thuộc tính có sự tương đồng về thông tin mang lại như:\n",
    "- `created_at`\n",
    "- `last_modified`\n",
    "- `release_date`\n",
    "- `published_at`\n",
    "- `display_date`\n",
    "    - Ta chỉ giữ lại `display_date` vì đây là thời điểm mà chính thức mọi người có thể thấy và truy cập vào playlist\n",
    "5. Các thuộc tính không đóng góp nhiều vào việc phân tích dữ liệu:\n",
    "- `artwork_url`\n",
    "- `label_name`\n",
    "- `description`\n",
    "- `kind`\n",
    "- `embeddable_by`\n",
    "- `license`\n",
    "- `managed_by_feeds`\n",
    "- `public`\n",
    "- `purchase_url`\n",
    "- `purchase_title`\n",
    "- `sharing`\n",
    "- `tag_list`\n",
    "- `set_type`\n",
    "- `title`\n",
    "    - Các cột này sẽ bị loại bỏ.\n",
    "6. Các thuộc tính còn lại trong tập dữ liệu gồm có:\n",
    "- `id`\n",
    "- `permalink_url`\n",
    "- `genre`\n",
    "- `duration`\n",
    "- `likes_count`\n",
    "- `reposts_count`\n",
    "- `user_id`\n",
    "- `is_album`\n",
    "- `display_date`\n",
    "- `track_count`\n",
    "- `tracks`"
   ]
  },
  {
   "cell_type": "markdown",
   "id": "78040646",
   "metadata": {},
   "source": [
    "#### **5. Tiền xử lý dữ liệu**"
   ]
  },
  {
   "cell_type": "code",
   "execution_count": 10,
   "id": "6a38b981",
   "metadata": {
    "ExecuteTime": {
     "end_time": "2021-12-18T13:14:36.472560Z",
     "start_time": "2021-12-18T13:14:36.443638Z"
    },
    "scrolled": true
   },
   "outputs": [
    {
     "name": "stdout",
     "output_type": "stream",
     "text": [
      "<class 'pandas.core.frame.DataFrame'>\n",
      "RangeIndex: 2093 entries, 0 to 2092\n",
      "Data columns (total 11 columns):\n",
      " #   Column         Non-Null Count  Dtype \n",
      "---  ------         --------------  ----- \n",
      " 0   duration       2093 non-null   int64 \n",
      " 1   genre          1273 non-null   object\n",
      " 2   id             2093 non-null   int64 \n",
      " 3   likes_count    2093 non-null   int64 \n",
      " 4   permalink_url  2093 non-null   object\n",
      " 5   reposts_count  2093 non-null   int64 \n",
      " 6   user_id        2093 non-null   int64 \n",
      " 7   is_album       2093 non-null   bool  \n",
      " 8   display_date   2093 non-null   object\n",
      " 9   track_count    2093 non-null   int64 \n",
      " 10  tracks         1919 non-null   object\n",
      "dtypes: bool(1), int64(6), object(4)\n",
      "memory usage: 165.7+ KB\n"
     ]
    }
   ],
   "source": [
    "new_pl.info()"
   ]
  },
  {
   "cell_type": "markdown",
   "id": "51efbf25",
   "metadata": {},
   "source": [
    "Theo quan sát thì trong `11` thuộc tính còn lại, có hai thuộc tính bị thiếu dữ liệu là `genre` và `tracks`, ta tiến hành phân tích và xử lý các trường hợp thiếu dữ liệu này"
   ]
  },
  {
   "cell_type": "markdown",
   "id": "944f49fb",
   "metadata": {
    "ExecuteTime": {
     "end_time": "2021-12-16T10:12:58.627366Z",
     "start_time": "2021-12-16T10:12:58.613403Z"
    }
   },
   "source": [
    "##### **5.1 Phân tích và xử lý thuộc tính `tracks`**"
   ]
  },
  {
   "cell_type": "code",
   "execution_count": 11,
   "id": "aac50bdd",
   "metadata": {
    "ExecuteTime": {
     "end_time": "2021-12-18T13:14:36.488526Z",
     "start_time": "2021-12-18T13:14:36.474556Z"
    },
    "scrolled": true
   },
   "outputs": [
    {
     "name": "stdout",
     "output_type": "stream",
     "text": [
      "Số lượng giá trị bị thiếu của thuộc tính tracks là 174\n",
      "Phần trăm giá trị bị thiếu của thuộc tính tracks là 8.31%\n"
     ]
    }
   ],
   "source": [
    "num_miss =  new_pl[\"tracks\"].isnull().sum()\n",
    "rate_miss = num_miss / len(new_pl) * 100\n",
    "print(f'Số lượng giá trị bị thiếu của thuộc tính tracks là {num_miss}')\n",
    "print(f'Phần trăm giá trị bị thiếu của thuộc tính tracks là {round(rate_miss, 2)}%')"
   ]
  },
  {
   "cell_type": "markdown",
   "id": "a0ebbdd0",
   "metadata": {},
   "source": [
    "Có thể thấy số lượng giá trị bị thiếu của cột tracks là rất ít, chỉ chiếm 8.31% toàn bộ. Mặt khác, việc ta phân tích dữ liệu tập dữ liệu `playlist` rỗng không có `track` nào là điều vô nghĩa vì không có gì để nhận xét. Vì lý do đó, chúng ta sẽ tiến hành loại bỏ các `playlist` bị thiếu thuộc tính `tracks` đi."
   ]
  },
  {
   "cell_type": "code",
   "execution_count": 12,
   "id": "1430fc54",
   "metadata": {
    "ExecuteTime": {
     "end_time": "2021-12-18T13:14:36.520432Z",
     "start_time": "2021-12-18T13:14:36.495499Z"
    }
   },
   "outputs": [],
   "source": [
    "new_pl.drop(new_pl[pd.isna(new_pl['tracks'])].index, inplace=True)\n",
    "new_pl = new_pl.reset_index(drop=True)"
   ]
  },
  {
   "cell_type": "code",
   "execution_count": 13,
   "id": "471d6eff",
   "metadata": {
    "ExecuteTime": {
     "end_time": "2021-12-18T13:14:36.536390Z",
     "start_time": "2021-12-18T13:14:36.526417Z"
    }
   },
   "outputs": [
    {
     "data": {
      "text/plain": [
       "0"
      ]
     },
     "execution_count": 13,
     "metadata": {},
     "output_type": "execute_result"
    }
   ],
   "source": [
    " new_pl[\"tracks\"].isnull().sum()"
   ]
  },
  {
   "cell_type": "markdown",
   "id": "fcac5750",
   "metadata": {},
   "source": [
    "Số lượng giá trị bị thiếu của cột `tracks` đã là 0, tiếp tục xử lý tiếp thuộc tính `genre`"
   ]
  },
  {
   "cell_type": "markdown",
   "id": "5dc92b19",
   "metadata": {},
   "source": [
    "##### **5.2 Phân tích và xử lý thuộc tính `genre`**"
   ]
  },
  {
   "cell_type": "code",
   "execution_count": 14,
   "id": "5674c633",
   "metadata": {
    "ExecuteTime": {
     "end_time": "2021-12-18T13:14:36.567306Z",
     "start_time": "2021-12-18T13:14:36.540379Z"
    }
   },
   "outputs": [
    {
     "data": {
      "text/plain": [
       "array([nan, 'Electronic', 'Alternative', 'Country', 'African House Music',\n",
       "       'Techno Minimal', 'techno', 'Techno', 'SuperSpeedPowerPopRock',\n",
       "       'Ambient', 'Jazz Fusion, Balearic', 'Soul',\n",
       "       'Soul, Funk, R&B, Disco, 80s, G.I. DISCO', 'G.I. Disco', 'Muzak',\n",
       "       'field recordings', 'Experimental', 'Latin', 'Hip Hop',\n",
       "       'Folk & Singer-Songwriter', 'Brazil', 'DeepHouse', 'Jazz',\n",
       "       'Freestyle', 'House', 'pop rock ', 'Pop Rock', 'Detroit Techno',\n",
       "       '\"Pop\"', 'DANCE & ELECTRONIC', 'Dance | House | Deep',\n",
       "       'Hardtechno', 'OPERATE', 'Classical',\n",
       "       '\"Dance & Electronic\" (Dance/Techno/Disco)', 'Deep House',\n",
       "       'Downbeat', 'Soundtrack', 'DJ Spinna ', 'HOUSE',\n",
       "       'Deep\\\\ House\\\\ Club', 'soundtrack', 'Rap Hiphop', 'DJ-Sets',\n",
       "       'Dance', 'innervisions', 'World', 'NTS Radio', 'Hunee',\n",
       "       'Hunch Music', 'house ', 'Dance | House | Tech House',\n",
       "       'Experimental Electronic', 'Reggae', 'blog, podcast',\n",
       "       'Melodic Techno', 'Pop', 'Music From Outer Space', 'italectro',\n",
       "       'Carl Borg', 'Fish Go Deep', 'Simbad', 'Detroit techno',\n",
       "       'Reggae Dancehall', 'Sci-fi Ballads', 'Tension', 'Boxed Melody',\n",
       "       'Wooden Downtempo', 'Bassbient', 'Electronic/Dance', 'radio',\n",
       "       'Rock', 'Alternative Rock', 'Electronic Pop', 'Dance | House',\n",
       "       'Bach', 'Religion & Spirituality', 'Hip-hop & Rap', 'Jazz Hip-Hop',\n",
       "       'Dance | Techno', 'music', 'Music # Adult Dance music', 'Remix',\n",
       "       'Minimal', 'Smiley Fingers', 'Dear Deer', 'Soulful House', 'Disco',\n",
       "       'beatdown', 'Ultrastrtetch', 'U_stretch', 'What about now?',\n",
       "       'Tags', 'no life', 'NU DISCO-FUNK', 'Nu Disco', 'Dana Ruh',\n",
       "       'Field Recordings', 'Electronica',\n",
       "       'Field Recording New York Outdoor Indoor ', 'Dub Techno',\n",
       "       'Dance - Soulful House', 'Elettronica', 'jimpster', 'DJ',\n",
       "       'Drum Loops', 'Drum loops',\n",
       "       'soul house afro downtempo jazz dubstep', '2014',\n",
       "       'House & Disco & Tech Shit too', 'psychobilly / exotica',\n",
       "       'Musiques de films', 'sifflement', 'Synth ', 'Hip Hop/Rap',\n",
       "       'Electronica/Dance', 'Jungle', 'Dance | House | Disco',\n",
       "       'Drum & Bass', 'Junkbeats', 'electronca', 'electronica',\n",
       "       'urban sound', 'Contemporary Classical', 'Jazz & Blues',\n",
       "       'tech- house', 'Raw', 'Deep house', 'bootleg', 'lo-fi',\n",
       "       'Jazz Funk', 'ambient', 'house', 'pop/electronica',\n",
       "       'Indie Dance / Nu Disco', 'Tech\\\\ House', 'Deep\\\\ House',\n",
       "       'House Electronic', 'Weird', 'Breakbeat', 'Cozmico', 'agargara',\n",
       "       'salad bowls are a social construct', 'genre', 'serato',\n",
       "       'deep house', 'techno / techhouse', 'Good Music', 'Remixes',\n",
       "       'Quality Booty Music', 'Electronic Music', 'Deep / Techno',\n",
       "       '90Tech-Trip', 'livejam', 'Fachwerk', 'Tech House',\n",
       "       'DANCE & ELECTRONIC/TECHNO', 'Nu-disco', 'outernational',\n",
       "       'Gafalow Rhythm', 'Hip-hop/Rap', 'Chill Out', 'downtempo', 'Tech',\n",
       "       'Dance & EDM', 'Breaks', 'electronic', 'sense', 'Pop Electronic',\n",
       "       'Radio SFX', 'black music', 'Acid House', 'Metal',\n",
       "       'nouvelle caledonie', 'Comedy', 'ARNO', 'Clima ', 'Raoul K',\n",
       "       'M-A-E', 'Heat', 'Deep Techno', 'Raw House', 'Edits',\n",
       "       'Free Downloads', 'eclectic & soulful ', 'Ambient techno',\n",
       "       'Love Rapp', 'guitar looping', 'Industrial', 'progressive',\n",
       "       'Broken Beat', 'Disco Rap', 'Rap', 'spoken word commercial',\n",
       "       'Underground', 'IR', 'Indie dance', 'Modern Classical', 'old',\n",
       "       'old spice', 'House / Techno', 'techno / tech house',\n",
       "       'Techno / Tech House', 'DEMOU', 'Leftfield/IDM',\n",
       "       'Triptech Deep Slowtech', 'chocolatefünk', 'boombap', 'heat',\n",
       "       'housediscotech', 'mixtape', 'Music', 'Speedcore', 'HipHop',\n",
       "       'Experimental Synth', 'reggae', 'Berlin', 'lovers punk',\n",
       "       'Kraut Pop', 'kraut pop', 'R&B', 'E-Boogie/New Disco',\n",
       "       'Brokenbeat', 'Storytelling', 'Kenny Bobien', 'Italo Disco',\n",
       "       'Aphex Twin', 'Van Hai', 'Intimacy', 'Freedom',\n",
       "       'electronic, melancholic', 'Beats', 'other',\n",
       "       'Leftfield Electronics', 'Estroe ', 'estroe', 'Solo Piano', 'IDM',\n",
       "       'R&B & Soul', \"r'n'b\", 'general records', 'Various', 'hiphop ',\n",
       "       'djmix', 'Hiphop', 'Triphip', 'Nu Jazz | Headz | Grooves',\n",
       "       'house | electro | broken beat', 'Deep', 'Deep Heat',\n",
       "       'Sleepy house and proud of it, bitches', 'Deep as fuq muzik',\n",
       "       'Deep as Fuq', 'Oceanic Hour Glass', 'B-sides', 'Album',\n",
       "       'Indie Dance', 'Bass', 'Hip-Hop', 'Techno / Electro ',\n",
       "       'Techno / Electro', 'Trascendental Electronic Music', 'electro',\n",
       "       'Hip Hobby', 'polka rap', 'Soundart', 'Karizma ', 'GOOD MUSIK',\n",
       "       'blanali', 'ByzantineChant', 'Spacetechnohousefunk',\n",
       "       'indie elektropop', 'Mix', 'WAVES', 'Caotico', 'stephenjkroos',\n",
       "       'rickwade', 's3a', 'kez ', '4004', 'creativeswingalliance',\n",
       "       'uglydrums', 'facesrecords', 'Leftfield & Chill Out - Ambient',\n",
       "       'Deep Techhouse', 'Ray Harris', 'new wawe alternative', 'Podcast',\n",
       "       'dub techno', 'Ralph Lawson', 'Techno Dub', 'lounge',\n",
       "       'Loop Dynamics', 'demo', 'roots', 'score', 'Footwork',\n",
       "       'Juke | Footwork', 'Electro',\n",
       "       'Experimental \\\\ Post Rock \\\\ Electronica', 'experimental',\n",
       "       'Indietronica', 'SpaceRock', 'spacerock', 'AF', 'Chris Karpas',\n",
       "       'Grant Boden', 'phD', 'Downtempo', 'indie pop',\n",
       "       'Joyfull Family Records', 'downtown party network',\n",
       "       'childrens songs', 'experimental electronic', 'idm', 'bytebeat',\n",
       "       'EAM', 'eam, drone, noise', 'Esoteric', 'Ambient Electronic'],\n",
       "      dtype=object)"
      ]
     },
     "execution_count": 14,
     "metadata": {},
     "output_type": "execute_result"
    }
   ],
   "source": [
    "new_pl['genre'].unique()"
   ]
  },
  {
   "cell_type": "markdown",
   "id": "f3ee4c17",
   "metadata": {},
   "source": [
    "- Theo như quan sát sơ bộ thì số lượng các giá trị khác nhau của thuộc tính `genre` là rất nhiều và có rất nhiều những giá trị không phù hợp cũng như rất khó để tiến hành phân tích dữ liệu sau này nếu như chúng ta giữ nguyên như vậy. Thuộc tính `genre` rất quan trọng do đó ta cần phải xử lý cột này và đưa các giá trị về dạng chuẩn.\n",
    "- Dạng chuẩn ở đây chính là các thể loại âm nhạc (music) và âm thanh (audio) mà hiện nay Soundcloud đang có. File `genre_file.txt` chứa toàn bộ các thể loại của Soundcloud."
   ]
  },
  {
   "cell_type": "code",
   "execution_count": 15,
   "id": "2098516d",
   "metadata": {
    "ExecuteTime": {
     "end_time": "2021-12-18T13:14:36.584269Z",
     "start_time": "2021-12-18T13:14:36.574289Z"
    },
    "scrolled": true
   },
   "outputs": [
    {
     "name": "stdout",
     "output_type": "stream",
     "text": [
      "Số thể loại hiện nay của Soundcloud là 41\n",
      "['Alternative Rock', 'Ambient', 'Classical', 'Country', 'Dance & EDM', 'Dancehall', 'Deep House', 'Disco', 'Drum & Bass', 'Dubstep', 'Electronic', 'Folk & Singer-Songwriter', 'Hip-hop & Rap', 'House', 'Indie', 'Jazz & Blues', 'Latin', 'Metal', 'Piano', 'Pop', 'R&B & Soul', 'Reggae', 'Reggaeton', 'Rock', 'Soundtrack', 'Techno', 'Trance', 'Trap', 'Triphop', 'World', 'Audiobooks', 'Business', 'Comedy', 'Entertainment', 'Learning', 'News & Politics', 'Religion & Spirituality', 'Science', 'Sports', 'Storytelling', 'Technology']\n"
     ]
    }
   ],
   "source": [
    "with open(\"genre_file.txt\", mode='r') as fin:\n",
    "    std_genre = fin.read().strip().split('\\n')\n",
    "    \n",
    "print(f\"Số thể loại hiện nay của Soundcloud là {len(std_genre)}\")\n",
    "print(std_genre)"
   ]
  },
  {
   "cell_type": "markdown",
   "id": "b6bcecf8",
   "metadata": {},
   "source": [
    "Tiến hành xử lý các giá trị `genre` không chuẩn bằng cách chuyển chúng về NaN (rỗng), để dễ dàng và thuận tiện cho quá trình xử lý ngôn ngữ, chuyển tất cả giá trị về dạng chữ thường cũng như xoá đi hết những khoảng trắng thừa."
   ]
  },
  {
   "cell_type": "code",
   "execution_count": 16,
   "id": "51168d12",
   "metadata": {
    "ExecuteTime": {
     "end_time": "2021-12-18T13:14:36.613183Z",
     "start_time": "2021-12-18T13:14:36.591244Z"
    },
    "scrolled": true
   },
   "outputs": [],
   "source": [
    "new_pl['genre'] = new_pl['genre'].str.strip()\n",
    "new_pl['genre'] = new_pl['genre'].str.lower()"
   ]
  },
  {
   "cell_type": "code",
   "execution_count": 17,
   "id": "71412a03",
   "metadata": {
    "ExecuteTime": {
     "end_time": "2021-12-18T13:14:36.692981Z",
     "start_time": "2021-12-18T13:14:36.615181Z"
    }
   },
   "outputs": [],
   "source": [
    "noise_genre = {\n",
    "    'superspeedpowerpoprock', 'soul', 'muzak', 'field recordings', 'experimental', 'brazil',\n",
    "    'freestyle', 'operate', 'downbeat', 'dj spinna', 'dj-sets', 'innervisions', 'nts radio', 'hunee',\n",
    "    'hunch music', 'blog, podcast', 'music from outer space', 'italectro', 'carl borg', 'fish go deep', \n",
    "    'simbad', 'tension', 'boxed melody', 'wooden downtempo', 'bassbient', 'radio','LUV', 'Lets Link',\n",
    "    'music # adult dance music', 'remix', 'minimal', 'smiley fingers', 'smiley fingers', 'dear deer',\n",
    "    'beatdown', 'ultrastrtetch', 'u_stretch', 'what about now?', 'tags', 'no life', 'downtown party network',\n",
    "    'nu disco-funk', 'dana ruh', 'field recording new york outdoor indoor', 'jimpster', \n",
    "    'dj', 'drum loops', '2014', 'house & disco & tech shit too','psychobilly / exotica', 'musiques de films', \n",
    "    'sifflement', 'synth', 'jungle', 'junkbeats', 'urban sound', 'tech- house', 'raw', \n",
    "    'bootleg', 'weird','breakbeat','cozmico', 'agargara', 'salad bowls are a social construct', \n",
    "    'genre','serato','good music', 'remixes', 'quality booty music', '90tech-trip','livejam', 'fachwerk', \n",
    "    'outernational','gafalow rhythm', 'chill out', 'downtempo', 'breaks', 'sense', 'radio sfx', 'black music', \n",
    "    'acid house', 'nouvelle caledonie', 'arno', 'clima', 'raoul k', 'm-a-e','heat','edits', 'free downloads', \n",
    "    'eclectic & soulful', 'love rapp', 'guitar looping', 'industrial', 'progressive', 'broken beat',\n",
    "    'underground HARLOW', 'ir', 'old', 'old spice', 'demou', 'leftfield/idm', 'triptech deep slowtech',\n",
    "    'chocolatefünk', 'boombap', 'housediscotech', 'mixtape', 'speedcore', 'experimental synth', 'berlin', 'lovers punk',\n",
    "    'brokenbeat', 'kenny bobien', 'aphex twin', 'van hai', 'intimacy', 'freedom', 'electronic, melancholic', 'beats', \n",
    "    'other', 'leftfield electronics', 'estroe', 'idm', 'general records', 'various', 'djmix', 'music',\n",
    "    'triphip', 'nu jazz | headz | grooves','house | electro | broken beat', 'soul house afro downtempo jazz dubstep',\n",
    "    'sleepy house and proud of it, bitches', 'deep as fuq muzik','deep as fuq', 'oceanic hour glass', \n",
    "    'b-sides', 'album', 'bass','trascendental electronic music','electro', 'hip hobby', 'soundart', 'karizma',\n",
    "    'good musik', 'blanali', 'byzantinechant', 'spacetechnohousefunk', 'indie elektropop', 'mix', 'waves', \n",
    "    'caotico', 'stephenjkroos', 'rickwade', 's3a', 'kez', '4004', 'creativeswingalliance','uglydrums', 'facesrecords', \n",
    "    'leftfield & chill out - ambient', 'ray harris', 'podcast', 'ralph lawson', 'spoken word commercial',\n",
    "    'lounge', 'loop dynamics', 'demo', 'roots', 'score', 'footwork', 'juke | footwork', 'chris karpas',\n",
    "    'experimental \\\\ post rock \\\\ electronica', 'spacerock', 'af', 'downtown party network',\n",
    "    'chris karpas', 'grant boden', 'phd', 'joyfull family records', 'childrens songs', 'bach',\n",
    "    'bytebeat', 'eam', 'eam, drone, noise', 'esoteric'}\n",
    "\n",
    "for index, val in enumerate(new_pl[\"genre\"].tolist()):\n",
    "    # chỉ xét các dòng có genre <> NaN\n",
    "    if not pd.isna(val):\n",
    "        if val in noise_genre:\n",
    "            new_pl.loc[index, 'genre'] = np.nan"
   ]
  },
  {
   "cell_type": "code",
   "execution_count": 18,
   "id": "970415a5",
   "metadata": {
    "ExecuteTime": {
     "end_time": "2021-12-18T13:14:36.708928Z",
     "start_time": "2021-12-18T13:14:36.693967Z"
    }
   },
   "outputs": [
    {
     "data": {
      "text/plain": [
       "array([nan, 'electronic', 'alternative', 'country', 'african house music',\n",
       "       'techno minimal', 'techno', 'ambient', 'jazz fusion, balearic',\n",
       "       'soul, funk, r&b, disco, 80s, g.i. disco', 'g.i. disco', 'latin',\n",
       "       'hip hop', 'folk & singer-songwriter', 'deephouse', 'jazz',\n",
       "       'house', 'pop rock', 'detroit techno', '\"pop\"',\n",
       "       'dance & electronic', 'dance | house | deep', 'hardtechno',\n",
       "       'classical', '\"dance & electronic\" (dance/techno/disco)',\n",
       "       'deep house', 'soundtrack', 'deep\\\\ house\\\\ club', 'rap hiphop',\n",
       "       'dance', 'world', 'dance | house | tech house',\n",
       "       'experimental electronic', 'reggae', 'melodic techno', 'pop',\n",
       "       'reggae dancehall', 'sci-fi ballads', 'electronic/dance', 'rock',\n",
       "       'alternative rock', 'electronic pop', 'dance | house',\n",
       "       'religion & spirituality', 'hip-hop & rap', 'jazz hip-hop',\n",
       "       'dance | techno', 'soulful house', 'disco', 'nu disco',\n",
       "       'electronica', 'dub techno', 'dance - soulful house',\n",
       "       'elettronica', 'hip hop/rap', 'electronica/dance',\n",
       "       'dance | house | disco', 'drum & bass', 'electronca',\n",
       "       'contemporary classical', 'jazz & blues', 'lo-fi', 'jazz funk',\n",
       "       'pop/electronica', 'indie dance / nu disco', 'tech\\\\ house',\n",
       "       'deep\\\\ house', 'house electronic', 'techno / techhouse',\n",
       "       'electronic music', 'deep / techno', 'tech house',\n",
       "       'dance & electronic/techno', 'nu-disco', 'hip-hop/rap', 'tech',\n",
       "       'dance & edm', 'pop electronic', 'metal', 'comedy', 'deep techno',\n",
       "       'raw house', 'ambient techno', 'disco rap', 'rap', 'underground',\n",
       "       'indie dance', 'modern classical', 'house / techno',\n",
       "       'techno / tech house', 'hiphop', 'kraut pop', 'r&b',\n",
       "       'e-boogie/new disco', 'storytelling', 'italo disco', 'solo piano',\n",
       "       'r&b & soul', \"r'n'b\", 'deep', 'deep heat', 'hip-hop',\n",
       "       'techno / electro', 'polka rap', 'deep techhouse',\n",
       "       'new wawe alternative', 'techno dub', 'indietronica', 'indie pop',\n",
       "       'ambient electronic'], dtype=object)"
      ]
     },
     "execution_count": 18,
     "metadata": {},
     "output_type": "execute_result"
    }
   ],
   "source": [
    "new_pl['genre'].unique()"
   ]
  },
  {
   "cell_type": "markdown",
   "id": "ac878c38",
   "metadata": {},
   "source": [
    "Tiến hành xử lí dữ liệu bị nhiễu bằng cách đưa chúng về dạng chuẩn các thể loại hiện có trên Soundcloud đã nói ở trên, riêng những ô bị thiếu dữ liệu thì sẽ được thay thế bằng `general` nghĩa là những `playlist` này được xem như là tổng hợp các thể loại nhạc chứ không thuộc thể loại nhất định nào cả."
   ]
  },
  {
   "cell_type": "code",
   "execution_count": 19,
   "id": "ad45c765",
   "metadata": {
    "ExecuteTime": {
     "end_time": "2021-12-18T13:14:36.755047Z",
     "start_time": "2021-12-18T13:14:36.710922Z"
    },
    "scrolled": true
   },
   "outputs": [],
   "source": [
    "alt_genre = [\n",
    "    ['alternative', 'new wawe alternative', 'alternative rock'],\n",
    "    ['ambient techno', 'ambient electronic', 'ambient'],\n",
    "    ['contemporary classical', 'modern classical', 'classical'],\n",
    "    ['deephouse', 'deep\\\\ house\\\\ club', 'deep\\\\ house', 'deep', 'deep heat',\n",
    "     'deep / techno', 'deep techno', 'deep techhouse', 'deep house'],\n",
    "    ['dance & electronic', '\"dance & electronic\" (dance/techno/disco)', 'dance & electronic/techno', 'dance & edm'],\n",
    "    ['dance | house | deep', 'dance', 'dance | house | tech house', 'dance | house', 'dance | techno',\n",
    "     'dance - soulful house', 'dance | house | disco', 'dancehall'],\n",
    "    ['nu disco', 'g.i. disco', 'nu-disco', 'disco rap', 'e-boogie/new disco', 'italo disco', 'disco'],\n",
    "    ['experimental electronic', 'electronic/dance', 'electronic pop', 'electronca', 'electronca',\n",
    "     'elettronica', 'electronica', 'electronica/dance', 'electronic music', 'electronic'],\n",
    "    ['hip hop', 'rap hiphop', 'hip hop/rap', 'hip-hop/rap', 'hiphop', 'hip-hop', 'rap', \n",
    "     'underground', 'jazz hip-hop', 'polka rap', 'hip-hop & rap'],\n",
    "    ['african house music', 'soulful house', 'tech\\\\ house', 'house electronic', 'tech house', 'raw house',\n",
    "     'house / techno', 'house'],\n",
    "    ['indie dance', 'indie dance / nu disco', 'indietronica', 'indie pop', 'indie'],\n",
    "    ['jazz fusion, balearic', 'jazz', 'jazz funk', 'jazz & blues'],\n",
    "    ['solo piano', 'piano'],\n",
    "    ['pop rock', '\"pop\"', 'pop/electronica', 'pop electronic', 'kraut pop', 'pop'],\n",
    "    ['soul, funk, r&b, disco, 80s, g.i. disco', 'r&b', \"r'n'b\", 'r&b & soul'],\n",
    "    ['reggae dancehall', 'reggae'],\n",
    "    ['techno minimal', 'detroit techno', 'hardtechno', 'melodic techno', 'dub techno',\n",
    "     'techno / techhouse', 'tech house', 'tech', 'techno / tech house', 'techno / electro'\n",
    "     'techno dub', 'techno / electro', 'techno dub', 'techno'],\n",
    "    ['sci-fi ballads', 'ballad'],\n",
    "    [np.nan, 'general']\n",
    "]\n",
    "\n",
    "for alt in alt_genre:\n",
    "    new_pl[\"genre\"] = new_pl[\"genre\"].replace(alt[:-1], alt[-1])"
   ]
  },
  {
   "cell_type": "code",
   "execution_count": 20,
   "id": "d225e911",
   "metadata": {
    "ExecuteTime": {
     "end_time": "2021-12-18T13:14:36.770009Z",
     "start_time": "2021-12-18T13:14:36.757044Z"
    }
   },
   "outputs": [
    {
     "data": {
      "text/plain": [
       "array(['general', 'electronic', 'alternative rock', 'country', 'house',\n",
       "       'techno', 'ambient', 'jazz & blues', 'r&b & soul', 'disco',\n",
       "       'latin', 'hip-hop & rap', 'folk & singer-songwriter', 'deep house',\n",
       "       'pop', 'dance & edm', 'dancehall', 'classical', 'soundtrack',\n",
       "       'world', 'reggae', 'ballad', 'rock', 'religion & spirituality',\n",
       "       'drum & bass', 'lo-fi', 'indie', 'metal', 'comedy', 'storytelling',\n",
       "       'piano'], dtype=object)"
      ]
     },
     "execution_count": 20,
     "metadata": {},
     "output_type": "execute_result"
    }
   ],
   "source": [
    "new_pl['genre'].unique()"
   ]
  },
  {
   "cell_type": "markdown",
   "id": "601b91ad",
   "metadata": {},
   "source": [
    "Kiểm tra tập dữ liệu sau khi đã xử lý xong cả hai trường bị thiếu dữ liệu là `tracks` và `genre`"
   ]
  },
  {
   "cell_type": "code",
   "execution_count": 21,
   "id": "2a318217",
   "metadata": {
    "ExecuteTime": {
     "end_time": "2021-12-18T13:14:36.801318Z",
     "start_time": "2021-12-18T13:14:36.773023Z"
    }
   },
   "outputs": [
    {
     "name": "stdout",
     "output_type": "stream",
     "text": [
      "<class 'pandas.core.frame.DataFrame'>\n",
      "RangeIndex: 1919 entries, 0 to 1918\n",
      "Data columns (total 11 columns):\n",
      " #   Column         Non-Null Count  Dtype \n",
      "---  ------         --------------  ----- \n",
      " 0   duration       1919 non-null   int64 \n",
      " 1   genre          1919 non-null   object\n",
      " 2   id             1919 non-null   int64 \n",
      " 3   likes_count    1919 non-null   int64 \n",
      " 4   permalink_url  1919 non-null   object\n",
      " 5   reposts_count  1919 non-null   int64 \n",
      " 6   user_id        1919 non-null   int64 \n",
      " 7   is_album       1919 non-null   bool  \n",
      " 8   display_date   1919 non-null   object\n",
      " 9   track_count    1919 non-null   int64 \n",
      " 10  tracks         1919 non-null   object\n",
      "dtypes: bool(1), int64(6), object(4)\n",
      "memory usage: 151.9+ KB\n"
     ]
    }
   ],
   "source": [
    "new_pl.info()"
   ]
  },
  {
   "cell_type": "markdown",
   "id": "81186b8c",
   "metadata": {},
   "source": [
    "Có thể thấy là dữ liệu đã được điền đầy đủ, tuy nhiên kiểu dữ liệu của chúng có vẻ chưa phù hợp!"
   ]
  },
  {
   "cell_type": "markdown",
   "id": "be08b86d",
   "metadata": {},
   "source": [
    "##### **5.3 Biến đổi thuộc tính**"
   ]
  },
  {
   "cell_type": "markdown",
   "id": "7509509b",
   "metadata": {},
   "source": [
    "- Các thuộc tính `id`, `genre`, `permalink_url`, `user_id` và `tracks` cần được đổi về `string`\n",
    "- Thuộc tính `display_date` chuyển về dạng `datetime` với format `DD-MM-YYYY`"
   ]
  },
  {
   "cell_type": "code",
   "execution_count": 22,
   "id": "08ae71ea",
   "metadata": {
    "ExecuteTime": {
     "end_time": "2021-12-18T13:14:36.832580Z",
     "start_time": "2021-12-18T13:14:36.803317Z"
    }
   },
   "outputs": [],
   "source": [
    "new_pl['id'] = new_pl['id'].astype('string')\n",
    "new_pl['genre'] = new_pl['genre'].astype('string')\n",
    "new_pl['permalink_url'] = new_pl['permalink_url'].astype('string')\n",
    "new_pl['user_id'] = new_pl['user_id'].astype('string')\n",
    "new_pl['tracks'] = new_pl['tracks'].astype('string')"
   ]
  },
  {
   "cell_type": "code",
   "execution_count": 23,
   "id": "87d80071",
   "metadata": {
    "ExecuteTime": {
     "end_time": "2021-12-18T13:14:36.878623Z",
     "start_time": "2021-12-18T13:14:36.835608Z"
    }
   },
   "outputs": [],
   "source": [
    "new_pl['display_date'] = pd.to_datetime(new_pl['display_date']).dt.strftime('%d-%m-%Y')"
   ]
  },
  {
   "cell_type": "markdown",
   "id": "2c6f275e",
   "metadata": {},
   "source": [
    "##### **5.4 Sắp xếp lại thứ tự các thuộc tính**"
   ]
  },
  {
   "cell_type": "code",
   "execution_count": 24,
   "id": "9b394a73",
   "metadata": {
    "ExecuteTime": {
     "end_time": "2021-12-18T13:14:36.894645Z",
     "start_time": "2021-12-18T13:14:36.880652Z"
    }
   },
   "outputs": [],
   "source": [
    "new_pl = new_pl[[\"id\", \"permalink_url\", \"genre\", \"duration\", \"likes_count\", \"reposts_count\", \"user_id\",\n",
    "                \"is_album\", \"display_date\", \"track_count\", \"tracks\"]]"
   ]
  },
  {
   "cell_type": "markdown",
   "id": "bc8c6e51",
   "metadata": {},
   "source": [
    "Xem lại tập dữ liệu cũng như thông tin về các trường của tập dữ liệu"
   ]
  },
  {
   "cell_type": "code",
   "execution_count": 25,
   "id": "7f7cf419",
   "metadata": {
    "ExecuteTime": {
     "end_time": "2021-12-18T13:14:36.925532Z",
     "start_time": "2021-12-18T13:14:36.897609Z"
    }
   },
   "outputs": [
    {
     "name": "stdout",
     "output_type": "stream",
     "text": [
      "<class 'pandas.core.frame.DataFrame'>\n",
      "RangeIndex: 1919 entries, 0 to 1918\n",
      "Data columns (total 11 columns):\n",
      " #   Column         Non-Null Count  Dtype \n",
      "---  ------         --------------  ----- \n",
      " 0   id             1919 non-null   string\n",
      " 1   permalink_url  1919 non-null   string\n",
      " 2   genre          1919 non-null   string\n",
      " 3   duration       1919 non-null   int64 \n",
      " 4   likes_count    1919 non-null   int64 \n",
      " 5   reposts_count  1919 non-null   int64 \n",
      " 6   user_id        1919 non-null   string\n",
      " 7   is_album       1919 non-null   bool  \n",
      " 8   display_date   1919 non-null   object\n",
      " 9   track_count    1919 non-null   int64 \n",
      " 10  tracks         1919 non-null   string\n",
      "dtypes: bool(1), int64(4), object(1), string(5)\n",
      "memory usage: 151.9+ KB\n"
     ]
    }
   ],
   "source": [
    "new_pl.info()"
   ]
  },
  {
   "cell_type": "markdown",
   "id": "f32a6e38",
   "metadata": {},
   "source": [
    "#### **6. Lưu dữ liệu**"
   ]
  },
  {
   "cell_type": "code",
   "execution_count": 26,
   "id": "c6a7cace",
   "metadata": {
    "ExecuteTime": {
     "end_time": "2021-12-18T13:14:36.973449Z",
     "start_time": "2021-12-18T13:14:36.927526Z"
    }
   },
   "outputs": [],
   "source": [
    "new_pl.to_csv(\"New_Playlists.csv\", index=False)"
   ]
  }
 ],
 "metadata": {
  "kernelspec": {
   "display_name": "Python 3 (ipykernel)",
   "language": "python",
   "name": "python3"
  },
  "language_info": {
   "codemirror_mode": {
    "name": "ipython",
    "version": 3
   },
   "file_extension": ".py",
   "mimetype": "text/x-python",
   "name": "python",
   "nbconvert_exporter": "python",
   "pygments_lexer": "ipython3",
   "version": "3.8.8"
  }
 },
 "nbformat": 4,
 "nbformat_minor": 5
}
