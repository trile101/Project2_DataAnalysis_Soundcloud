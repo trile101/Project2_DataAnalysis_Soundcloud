{
 "cells": [
  {
   "cell_type": "code",
   "execution_count": 1,
   "id": "19298c64",
   "metadata": {
    "ExecuteTime": {
     "end_time": "2021-12-20T13:57:11.045694Z",
     "start_time": "2021-12-20T13:57:07.114849Z"
    }
   },
   "outputs": [],
   "source": [
    "import pandas as pd\n",
    "import numpy as np\n",
    "import seaborn as sns\n",
    "import matplotlib.pyplot as plt\n",
    "%matplotlib inline"
   ]
  },
  {
   "cell_type": "markdown",
   "id": "9c2f7cc2",
   "metadata": {},
   "source": [
    "#### **1. Đọc tập dữ liệu `new_playlists` đã tiền xủ lý**"
   ]
  },
  {
   "cell_type": "code",
   "execution_count": 2,
   "id": "afa45888",
   "metadata": {
    "ExecuteTime": {
     "end_time": "2021-12-20T13:57:11.138443Z",
     "start_time": "2021-12-20T13:57:11.052671Z"
    },
    "scrolled": true
   },
   "outputs": [
    {
     "data": {
      "text/html": [
       "<div>\n",
       "<style scoped>\n",
       "    .dataframe tbody tr th:only-of-type {\n",
       "        vertical-align: middle;\n",
       "    }\n",
       "\n",
       "    .dataframe tbody tr th {\n",
       "        vertical-align: top;\n",
       "    }\n",
       "\n",
       "    .dataframe thead th {\n",
       "        text-align: right;\n",
       "    }\n",
       "</style>\n",
       "<table border=\"1\" class=\"dataframe\">\n",
       "  <thead>\n",
       "    <tr style=\"text-align: right;\">\n",
       "      <th></th>\n",
       "      <th>id</th>\n",
       "      <th>permalink_url</th>\n",
       "      <th>genre</th>\n",
       "      <th>duration</th>\n",
       "      <th>likes_count</th>\n",
       "      <th>reposts_count</th>\n",
       "      <th>user_id</th>\n",
       "      <th>is_album</th>\n",
       "      <th>display_date</th>\n",
       "      <th>track_count</th>\n",
       "      <th>tracks</th>\n",
       "    </tr>\n",
       "  </thead>\n",
       "  <tbody>\n",
       "    <tr>\n",
       "      <th>0</th>\n",
       "      <td>1297775500</td>\n",
       "      <td>https://soundcloud.com/henrik/sets/tent-session</td>\n",
       "      <td>general</td>\n",
       "      <td>23088711</td>\n",
       "      <td>3</td>\n",
       "      <td>0</td>\n",
       "      <td>16</td>\n",
       "      <td>False</td>\n",
       "      <td>07-08-2021</td>\n",
       "      <td>3</td>\n",
       "      <td>272612733,649886222,425592600</td>\n",
       "    </tr>\n",
       "    <tr>\n",
       "      <th>1</th>\n",
       "      <td>224489873</td>\n",
       "      <td>https://soundcloud.com/henrik/sets/maui</td>\n",
       "      <td>general</td>\n",
       "      <td>36916723</td>\n",
       "      <td>32</td>\n",
       "      <td>7</td>\n",
       "      <td>16</td>\n",
       "      <td>False</td>\n",
       "      <td>12-05-2016</td>\n",
       "      <td>5</td>\n",
       "      <td>259629933,173516843,237681279,172743281,177856481</td>\n",
       "    </tr>\n",
       "    <tr>\n",
       "      <th>2</th>\n",
       "      <td>5316318</td>\n",
       "      <td>https://soundcloud.com/henrik/sets/all-dranken...</td>\n",
       "      <td>general</td>\n",
       "      <td>14081758</td>\n",
       "      <td>94</td>\n",
       "      <td>22</td>\n",
       "      <td>16</td>\n",
       "      <td>False</td>\n",
       "      <td>02-05-2013</td>\n",
       "      <td>4</td>\n",
       "      <td>23876268,22746957,39007821,59622690</td>\n",
       "    </tr>\n",
       "    <tr>\n",
       "      <th>3</th>\n",
       "      <td>315</td>\n",
       "      <td>https://soundcloud.com/henrik/sets/testset</td>\n",
       "      <td>general</td>\n",
       "      <td>538434</td>\n",
       "      <td>6</td>\n",
       "      <td>1</td>\n",
       "      <td>16</td>\n",
       "      <td>False</td>\n",
       "      <td>22-07-2008</td>\n",
       "      <td>2</td>\n",
       "      <td>19,7793</td>\n",
       "    </tr>\n",
       "    <tr>\n",
       "      <th>4</th>\n",
       "      <td>282653735</td>\n",
       "      <td>https://soundcloud.com/joaoflux/sets/ethiopiques</td>\n",
       "      <td>general</td>\n",
       "      <td>7217789</td>\n",
       "      <td>42</td>\n",
       "      <td>5</td>\n",
       "      <td>20</td>\n",
       "      <td>False</td>\n",
       "      <td>11-12-2016</td>\n",
       "      <td>13</td>\n",
       "      <td>31529637,95060900,125486033,61689615,8547837,3...</td>\n",
       "    </tr>\n",
       "    <tr>\n",
       "      <th>...</th>\n",
       "      <td>...</td>\n",
       "      <td>...</td>\n",
       "      <td>...</td>\n",
       "      <td>...</td>\n",
       "      <td>...</td>\n",
       "      <td>...</td>\n",
       "      <td>...</td>\n",
       "      <td>...</td>\n",
       "      <td>...</td>\n",
       "      <td>...</td>\n",
       "      <td>...</td>\n",
       "    </tr>\n",
       "    <tr>\n",
       "      <th>1914</th>\n",
       "      <td>210806092</td>\n",
       "      <td>https://soundcloud.com/jasonw22/sets/electric-...</td>\n",
       "      <td>general</td>\n",
       "      <td>7089353</td>\n",
       "      <td>0</td>\n",
       "      <td>0</td>\n",
       "      <td>3262</td>\n",
       "      <td>False</td>\n",
       "      <td>30-03-2016</td>\n",
       "      <td>19</td>\n",
       "      <td>162898169,61076838,221302257,166711654,6350155...</td>\n",
       "    </tr>\n",
       "    <tr>\n",
       "      <th>1915</th>\n",
       "      <td>210804688</td>\n",
       "      <td>https://soundcloud.com/jasonw22/sets/discover-...</td>\n",
       "      <td>general</td>\n",
       "      <td>103663575</td>\n",
       "      <td>3</td>\n",
       "      <td>0</td>\n",
       "      <td>3262</td>\n",
       "      <td>False</td>\n",
       "      <td>30-03-2016</td>\n",
       "      <td>114</td>\n",
       "      <td>157156109,86506558,231202268,24989583,87713059...</td>\n",
       "    </tr>\n",
       "    <tr>\n",
       "      <th>1916</th>\n",
       "      <td>210802848</td>\n",
       "      <td>https://soundcloud.com/jasonw22/sets/songs-to-...</td>\n",
       "      <td>general</td>\n",
       "      <td>11673357</td>\n",
       "      <td>0</td>\n",
       "      <td>0</td>\n",
       "      <td>3262</td>\n",
       "      <td>False</td>\n",
       "      <td>30-03-2016</td>\n",
       "      <td>12</td>\n",
       "      <td>251158166,36464600,97671879,25100637,6032837,1...</td>\n",
       "    </tr>\n",
       "    <tr>\n",
       "      <th>1917</th>\n",
       "      <td>210801949</td>\n",
       "      <td>https://soundcloud.com/jasonw22/sets/last-fm-s...</td>\n",
       "      <td>general</td>\n",
       "      <td>223683276</td>\n",
       "      <td>1</td>\n",
       "      <td>0</td>\n",
       "      <td>3262</td>\n",
       "      <td>False</td>\n",
       "      <td>30-03-2016</td>\n",
       "      <td>324</td>\n",
       "      <td>86506558,118908803,24989583,68576416,177473157...</td>\n",
       "    </tr>\n",
       "    <tr>\n",
       "      <th>1918</th>\n",
       "      <td>4311855</td>\n",
       "      <td>https://soundcloud.com/dabourz/sets/early-works</td>\n",
       "      <td>ambient</td>\n",
       "      <td>734369</td>\n",
       "      <td>2</td>\n",
       "      <td>0</td>\n",
       "      <td>3264</td>\n",
       "      <td>True</td>\n",
       "      <td>26-03-2013</td>\n",
       "      <td>2</td>\n",
       "      <td>84981987,84981533</td>\n",
       "    </tr>\n",
       "  </tbody>\n",
       "</table>\n",
       "<p>1919 rows × 11 columns</p>\n",
       "</div>"
      ],
      "text/plain": [
       "              id                                      permalink_url    genre  \\\n",
       "0     1297775500    https://soundcloud.com/henrik/sets/tent-session  general   \n",
       "1      224489873            https://soundcloud.com/henrik/sets/maui  general   \n",
       "2        5316318  https://soundcloud.com/henrik/sets/all-dranken...  general   \n",
       "3            315         https://soundcloud.com/henrik/sets/testset  general   \n",
       "4      282653735   https://soundcloud.com/joaoflux/sets/ethiopiques  general   \n",
       "...          ...                                                ...      ...   \n",
       "1914   210806092  https://soundcloud.com/jasonw22/sets/electric-...  general   \n",
       "1915   210804688  https://soundcloud.com/jasonw22/sets/discover-...  general   \n",
       "1916   210802848  https://soundcloud.com/jasonw22/sets/songs-to-...  general   \n",
       "1917   210801949  https://soundcloud.com/jasonw22/sets/last-fm-s...  general   \n",
       "1918     4311855    https://soundcloud.com/dabourz/sets/early-works  ambient   \n",
       "\n",
       "       duration  likes_count  reposts_count  user_id  is_album display_date  \\\n",
       "0      23088711            3              0       16     False   07-08-2021   \n",
       "1      36916723           32              7       16     False   12-05-2016   \n",
       "2      14081758           94             22       16     False   02-05-2013   \n",
       "3        538434            6              1       16     False   22-07-2008   \n",
       "4       7217789           42              5       20     False   11-12-2016   \n",
       "...         ...          ...            ...      ...       ...          ...   \n",
       "1914    7089353            0              0     3262     False   30-03-2016   \n",
       "1915  103663575            3              0     3262     False   30-03-2016   \n",
       "1916   11673357            0              0     3262     False   30-03-2016   \n",
       "1917  223683276            1              0     3262     False   30-03-2016   \n",
       "1918     734369            2              0     3264      True   26-03-2013   \n",
       "\n",
       "      track_count                                             tracks  \n",
       "0               3                      272612733,649886222,425592600  \n",
       "1               5  259629933,173516843,237681279,172743281,177856481  \n",
       "2               4                23876268,22746957,39007821,59622690  \n",
       "3               2                                            19,7793  \n",
       "4              13  31529637,95060900,125486033,61689615,8547837,3...  \n",
       "...           ...                                                ...  \n",
       "1914           19  162898169,61076838,221302257,166711654,6350155...  \n",
       "1915          114  157156109,86506558,231202268,24989583,87713059...  \n",
       "1916           12  251158166,36464600,97671879,25100637,6032837,1...  \n",
       "1917          324  86506558,118908803,24989583,68576416,177473157...  \n",
       "1918            2                                  84981987,84981533  \n",
       "\n",
       "[1919 rows x 11 columns]"
      ]
     },
     "execution_count": 2,
     "metadata": {},
     "output_type": "execute_result"
    }
   ],
   "source": [
    "playlist = pd.read_csv('New_Playlists.csv', sep=',')\n",
    "playlist"
   ]
  },
  {
   "cell_type": "markdown",
   "id": "1deb50c1",
   "metadata": {},
   "source": [
    "Thông tin về các trường dữ liệu gồm `11` thuộc tính:\n",
    "\n",
    "|Thuộc tính|Kiểu dữ liệu|     Ý nghĩa của dữ liệu\n",
    "|:-----------:|:----------------:|:---------:|\n",
    "|**id**|Kiểu phân loại|Định danh cho playlist|\n",
    "|**permalink_url**|Chuỗi|Đường dẫn đến trang Soundcloud|\n",
    "|**genre**|Chuỗi|Thể loại nhạc của playlist|\n",
    "|**duration**|Số nguyên|Tổng thời gian các track nhạc trong playlist|\n",
    "|**likes_count**|Số nguyên|Số lượt yêu thích của playlist|   \n",
    "|**reposts_count**|Số nguyên|Số lượt đăng lại playlist|    \n",
    "|**user_id**|Kiểu phân loại|Định danh của người sở hữu playlist|\n",
    "|**is_album**|Luận lý|Playlist có phải album hay không|   \n",
    "|**display_date**|Thời gian|Thời điểm playlist hiển thị|   \n",
    "|**track_count**|Số nguyên|Số lượng track trong playlist|\n",
    "|**tracks**|Chuỗi|Danh sách id của các track trong playlist được ngăn cách bởi \",\"|"
   ]
  },
  {
   "cell_type": "code",
   "execution_count": 3,
   "id": "fdd4a60e",
   "metadata": {
    "ExecuteTime": {
     "end_time": "2021-12-20T13:57:11.202271Z",
     "start_time": "2021-12-20T13:57:11.142430Z"
    }
   },
   "outputs": [
    {
     "name": "stdout",
     "output_type": "stream",
     "text": [
      "<class 'pandas.core.frame.DataFrame'>\n",
      "RangeIndex: 1919 entries, 0 to 1918\n",
      "Data columns (total 11 columns):\n",
      " #   Column         Non-Null Count  Dtype \n",
      "---  ------         --------------  ----- \n",
      " 0   id             1919 non-null   int64 \n",
      " 1   permalink_url  1919 non-null   object\n",
      " 2   genre          1919 non-null   object\n",
      " 3   duration       1919 non-null   int64 \n",
      " 4   likes_count    1919 non-null   int64 \n",
      " 5   reposts_count  1919 non-null   int64 \n",
      " 6   user_id        1919 non-null   int64 \n",
      " 7   is_album       1919 non-null   bool  \n",
      " 8   display_date   1919 non-null   object\n",
      " 9   track_count    1919 non-null   int64 \n",
      " 10  tracks         1919 non-null   object\n",
      "dtypes: bool(1), int64(6), object(4)\n",
      "memory usage: 151.9+ KB\n"
     ]
    }
   ],
   "source": [
    "playlist.info()"
   ]
  },
  {
   "cell_type": "markdown",
   "id": "c12af387",
   "metadata": {},
   "source": [
    "**Biến đổi thuộc tính**\n",
    "- Các thuộc tính `id`, `genre`, `permalink_url`, `user_id` và `tracks` cần được đổi về `string`\n",
    "- Thuộc tính `display_date` chuyển về dạng `datetime`"
   ]
  },
  {
   "cell_type": "code",
   "execution_count": 4,
   "id": "647c5570",
   "metadata": {
    "ExecuteTime": {
     "end_time": "2021-12-20T13:57:11.270604Z",
     "start_time": "2021-12-20T13:57:11.207260Z"
    }
   },
   "outputs": [],
   "source": [
    "playlist['id'] = playlist['id'].astype('string')\n",
    "playlist['genre'] = playlist['genre'].astype('string')\n",
    "playlist['permalink_url'] = playlist['permalink_url'].astype('string')\n",
    "playlist['user_id'] = playlist['user_id'].astype('string')\n",
    "playlist['tracks'] = playlist['tracks'].astype('string')\n",
    "playlist['display_date'] = pd.to_datetime(playlist['display_date'], format=\"%d-%m-%Y\")"
   ]
  },
  {
   "cell_type": "markdown",
   "id": "0045e751",
   "metadata": {},
   "source": [
    "#### **2. Đặt ra nhưng câu hỏi và phân tích thông qua trực quan hoá dữ liệu**"
   ]
  },
  {
   "cell_type": "markdown",
   "id": "dcd249cf",
   "metadata": {},
   "source": [
    "Những câu hỏi đặt ra về tập dữ liệu `playlist`:\n",
    "- `Playlist` nào nhận được nhiều lượt yêu thích nhất trong năm 2021?\n",
    "- Yếu tố nào quyết định 1 `playlist` được nhiều người yêu thích:\n",
    "    - Thể loại của playlist (genre)?\n",
    "    - Số lượng `track` của playlist?\n",
    "    - Playlist có phải là album hay không?\n",
    "- Phân tích thuộc tính `is_album`, liệu rằng các playlist có ở trên soundcloud đều là những album ca nhạc chỉnh chu do 1 nghệ sĩ phát hành hay đa phần là do người dùng tự tổng hợp lại.\n",
    "- Không xét đến thể loại `general`, đâu là thể loại âm nhạc được đăng tải nhiều nhất trong vòng 10 năm (2010-2020)? Liệu `hip-hop & rap` có phải là xu hướng âm nhạc của thế giới không nói chung và Soundcloud nói riêng hay không?\n",
    "- Liệu có playlist nào có số lượng track rất ít <= 5 bài nhưng lượt yêu thích lại khá cao >= 1000 likes hay không?"
   ]
  },
  {
   "cell_type": "markdown",
   "id": "3995c949",
   "metadata": {},
   "source": [
    "#### **2.1 Dữ liệu dạng số (numeric)**"
   ]
  },
  {
   "cell_type": "markdown",
   "id": "1318057e",
   "metadata": {},
   "source": [
    "##### **a) Phân tích đơn biến**"
   ]
  },
  {
   "cell_type": "code",
   "execution_count": 5,
   "id": "490b59ce",
   "metadata": {
    "ExecuteTime": {
     "end_time": "2021-12-20T13:57:11.360363Z",
     "start_time": "2021-12-20T13:57:11.282581Z"
    }
   },
   "outputs": [
    {
     "data": {
      "text/html": [
       "<div>\n",
       "<style scoped>\n",
       "    .dataframe tbody tr th:only-of-type {\n",
       "        vertical-align: middle;\n",
       "    }\n",
       "\n",
       "    .dataframe tbody tr th {\n",
       "        vertical-align: top;\n",
       "    }\n",
       "\n",
       "    .dataframe thead th {\n",
       "        text-align: right;\n",
       "    }\n",
       "</style>\n",
       "<table border=\"1\" class=\"dataframe\">\n",
       "  <thead>\n",
       "    <tr style=\"text-align: right;\">\n",
       "      <th></th>\n",
       "      <th>count</th>\n",
       "      <th>mean</th>\n",
       "      <th>std</th>\n",
       "      <th>min</th>\n",
       "      <th>25%</th>\n",
       "      <th>50%</th>\n",
       "      <th>75%</th>\n",
       "      <th>max</th>\n",
       "    </tr>\n",
       "  </thead>\n",
       "  <tbody>\n",
       "    <tr>\n",
       "      <th>duration</th>\n",
       "      <td>1919.0</td>\n",
       "      <td>1.015274e+07</td>\n",
       "      <td>3.835731e+07</td>\n",
       "      <td>16066.0</td>\n",
       "      <td>807193.0</td>\n",
       "      <td>1597246.0</td>\n",
       "      <td>4286793.5</td>\n",
       "      <td>964912671.0</td>\n",
       "    </tr>\n",
       "    <tr>\n",
       "      <th>likes_count</th>\n",
       "      <td>1919.0</td>\n",
       "      <td>2.813340e+01</td>\n",
       "      <td>1.446900e+02</td>\n",
       "      <td>0.0</td>\n",
       "      <td>0.0</td>\n",
       "      <td>3.0</td>\n",
       "      <td>15.0</td>\n",
       "      <td>3653.0</td>\n",
       "    </tr>\n",
       "    <tr>\n",
       "      <th>reposts_count</th>\n",
       "      <td>1919.0</td>\n",
       "      <td>4.445545e+00</td>\n",
       "      <td>2.094491e+01</td>\n",
       "      <td>0.0</td>\n",
       "      <td>0.0</td>\n",
       "      <td>0.0</td>\n",
       "      <td>3.0</td>\n",
       "      <td>437.0</td>\n",
       "    </tr>\n",
       "    <tr>\n",
       "      <th>track_count</th>\n",
       "      <td>1919.0</td>\n",
       "      <td>8.064096e+00</td>\n",
       "      <td>1.865134e+01</td>\n",
       "      <td>1.0</td>\n",
       "      <td>3.0</td>\n",
       "      <td>4.0</td>\n",
       "      <td>8.0</td>\n",
       "      <td>477.0</td>\n",
       "    </tr>\n",
       "  </tbody>\n",
       "</table>\n",
       "</div>"
      ],
      "text/plain": [
       "                count          mean           std      min       25%  \\\n",
       "duration       1919.0  1.015274e+07  3.835731e+07  16066.0  807193.0   \n",
       "likes_count    1919.0  2.813340e+01  1.446900e+02      0.0       0.0   \n",
       "reposts_count  1919.0  4.445545e+00  2.094491e+01      0.0       0.0   \n",
       "track_count    1919.0  8.064096e+00  1.865134e+01      1.0       3.0   \n",
       "\n",
       "                     50%        75%          max  \n",
       "duration       1597246.0  4286793.5  964912671.0  \n",
       "likes_count          3.0       15.0       3653.0  \n",
       "reposts_count        0.0        3.0        437.0  \n",
       "track_count          4.0        8.0        477.0  "
      ]
     },
     "execution_count": 5,
     "metadata": {},
     "output_type": "execute_result"
    }
   ],
   "source": [
    "num_pl = playlist.select_dtypes(include = ['float64', 'int64'])\n",
    "num_pl.describe().T"
   ]
  },
  {
   "cell_type": "markdown",
   "id": "38277ce6",
   "metadata": {},
   "source": [
    "**Biểu đồ `histogram` của các biến numeric**"
   ]
  },
  {
   "cell_type": "code",
   "execution_count": 6,
   "id": "7a40fea1",
   "metadata": {
    "ExecuteTime": {
     "end_time": "2021-12-20T13:57:14.783373Z",
     "start_time": "2021-12-20T13:57:11.366349Z"
    }
   },
   "outputs": [
    {
     "data": {
      "image/png": "[encoded data removed]",
      "text/plain": [
       "<Figure size 1152x1152 with 4 Axes>"
      ]
     },
     "metadata": {
      "needs_background": "light"
     },
     "output_type": "display_data"
    }
   ],
   "source": [
    "num_pl.hist(figsize=(16, 16), bins=150);"
   ]
  },
  {
   "cell_type": "markdown",
   "id": "654a9f1c",
   "metadata": {},
   "source": [
    "Nhận xét:\n",
    "- `duration`: Các playlist chủ yếu kéo dài dưới 6 tiếng, có một vài playlist kéo dài gần 10 tiếng.\n",
    "- `likes_count`: Số lượt yêu thích chủ yếu nằm trong khoảng từ 0 đến 500 likes.\n",
    "- `reposts_count`: Số lượt reposts count rất ít, đa số các track đều không được repost lại.\n",
    "- `track_count`: Các playlist có số lương track vừa phải, không quá nhiều và chủ yếu nằm trong khoảng từ 1 đến 100 bài hát."
   ]
  },
  {
   "cell_type": "markdown",
   "id": "a738f7e6",
   "metadata": {},
   "source": [
    "**Biểu đồ `boxplot` của các biến numeric**"
   ]
  },
  {
   "cell_type": "code",
   "execution_count": 7,
   "id": "c1f0e418",
   "metadata": {
    "ExecuteTime": {
     "end_time": "2021-12-20T13:57:15.654079Z",
     "start_time": "2021-12-20T13:57:14.786358Z"
    },
    "scrolled": false
   },
   "outputs": [
    {
     "data": {
      "image/png": "[encoded data removed]",
      "text/plain": [
       "<Figure size 1080x1080 with 4 Axes>"
      ]
     },
     "metadata": {
      "needs_background": "light"
     },
     "output_type": "display_data"
    }
   ],
   "source": [
    "figure, axis = plt.subplots(2, 2, figsize=(15,15))\n",
    "\n",
    "axis[0][0].boxplot(num_pl[\"duration\"])\n",
    "axis[0][0].set_title(\"duration\")\n",
    "\n",
    "axis[0][1].boxplot(num_pl[\"likes_count\"])\n",
    "axis[0][1].set_title(\"likes_count\")\n",
    "\n",
    "axis[1][0].boxplot(num_pl[\"reposts_count\"])\n",
    "axis[1][0].set_title(\"reposts_count\")\n",
    "\n",
    "axis[1][1].boxplot(num_pl[\"track_count\"])\n",
    "axis[1][1].set_title(\"track_count\")\n",
    "\n",
    "plt.show()"
   ]
  },
  {
   "cell_type": "markdown",
   "id": "e4f681fa",
   "metadata": {},
   "source": [
    "Nhận xét:\n",
    "- `duration`: Đa số các playlist có độ dài dưới 4 tiếng, có 1 playlist gần 6 tiếng và có 1 playlist gần 10 tiếng.\n",
    "- `likes_count`: Có 1 playlist có hơn 3500 lượt likes, 3 playlist có lượt likes từ 1000 đến 1500, còn lại đều dưới 500 lượt likes.\n",
    "- `reposts_count`: Số lượt repost khá ít dưới 100 chiếm khá nhiều và có 1 playlist được repost hơn 400 lần.\n",
    "- `track_count`: Đa số các playlist đều có dưới 100 tracks, có 2 playlist có từ 200 đến 300 tracks, có 1 playlist có số lượng tracks rất lớn gần 500 tracks."
   ]
  },
  {
   "cell_type": "markdown",
   "id": "4c4ac9da",
   "metadata": {},
   "source": [
    "**Câu hỏi**: Playlist nào nhận được nhiều lượt yêu thích nhất trong năm 2021?"
   ]
  },
  {
   "cell_type": "markdown",
   "id": "5db5d6a7",
   "metadata": {},
   "source": [
    "Tiến hành lấy ra các playlist có năm là `2021` sau đó sắp xếp chúng theo giá trị `likes_count`. Sau đó trích xuất `10` playlist đầu tiên và vẽ biểu đồ cột minh hoạ."
   ]
  },
  {
   "cell_type": "code",
   "execution_count": 8,
   "id": "b5a08f58",
   "metadata": {
    "ExecuteTime": {
     "end_time": "2021-12-20T13:57:16.108419Z",
     "start_time": "2021-12-20T13:57:15.659065Z"
    }
   },
   "outputs": [
    {
     "data": {
      "image/png": "[encoded data removed]",
      "text/plain": [
       "<Figure size 864x360 with 1 Axes>"
      ]
     },
     "metadata": {
      "needs_background": "light"
     },
     "output_type": "display_data"
    }
   ],
   "source": [
    "pl_2021 = playlist[playlist[\"display_date\"].dt.year == 2021]\n",
    "top_ten = pl_2021[[\"id\", \"likes_count\"]].sort_values(by=\"likes_count\", ascending=False)[0:10]\n",
    "fig = plt.figure(figsize=(12,5))\n",
    "ax = fig.add_axes([0,0,1,1])\n",
    "ax.barh(top_ten[\"id\"], top_ten[\"likes_count\"])\n",
    "ax.set_title(\"Top 10 playlist có số lượng like cao nhất trong năm 2021\")\n",
    "ax.set_ylabel(\"ID\")\n",
    "ax.set_xlabel(\"Likes Count\")\n",
    "for i, v in enumerate(top_ten[\"likes_count\"]):\n",
    "    ax.text(v + 2, i - 0.1, str(v), fontweight='bold')\n",
    "plt.show()"
   ]
  },
  {
   "cell_type": "markdown",
   "id": "7925d12e",
   "metadata": {},
   "source": [
    "Playlist có số lượt yêu thích cao nhất trong năm 2021 là playlist có id là `1270877080` với số lượng yêu thích là `110`. Có lẽ thời gian có mặt của playlist này trên soundcloud là chưa lâu do đó số lượt like khá hạn chế!"
   ]
  },
  {
   "cell_type": "markdown",
   "id": "ac02e8ea",
   "metadata": {},
   "source": [
    "##### **b) Phân tích đa biến**"
   ]
  },
  {
   "cell_type": "markdown",
   "id": "01973d45",
   "metadata": {},
   "source": [
    "Biểu thị sự tương quan (correlation) giữa các thuộc tính thông qua hệ số pearson."
   ]
  },
  {
   "cell_type": "code",
   "execution_count": 9,
   "id": "2796d09f",
   "metadata": {
    "ExecuteTime": {
     "end_time": "2021-12-20T13:57:16.169779Z",
     "start_time": "2021-12-20T13:57:16.114405Z"
    }
   },
   "outputs": [
    {
     "data": {
      "text/html": [
       "<div>\n",
       "<style scoped>\n",
       "    .dataframe tbody tr th:only-of-type {\n",
       "        vertical-align: middle;\n",
       "    }\n",
       "\n",
       "    .dataframe tbody tr th {\n",
       "        vertical-align: top;\n",
       "    }\n",
       "\n",
       "    .dataframe thead th {\n",
       "        text-align: right;\n",
       "    }\n",
       "</style>\n",
       "<table border=\"1\" class=\"dataframe\">\n",
       "  <thead>\n",
       "    <tr style=\"text-align: right;\">\n",
       "      <th></th>\n",
       "      <th>duration</th>\n",
       "      <th>likes_count</th>\n",
       "      <th>reposts_count</th>\n",
       "      <th>track_count</th>\n",
       "    </tr>\n",
       "  </thead>\n",
       "  <tbody>\n",
       "    <tr>\n",
       "      <th>duration</th>\n",
       "      <td>1.000000</td>\n",
       "      <td>0.026536</td>\n",
       "      <td>0.026454</td>\n",
       "      <td>0.371155</td>\n",
       "    </tr>\n",
       "    <tr>\n",
       "      <th>likes_count</th>\n",
       "      <td>0.026536</td>\n",
       "      <td>1.000000</td>\n",
       "      <td>0.954894</td>\n",
       "      <td>0.008515</td>\n",
       "    </tr>\n",
       "    <tr>\n",
       "      <th>reposts_count</th>\n",
       "      <td>0.026454</td>\n",
       "      <td>0.954894</td>\n",
       "      <td>1.000000</td>\n",
       "      <td>0.005564</td>\n",
       "    </tr>\n",
       "    <tr>\n",
       "      <th>track_count</th>\n",
       "      <td>0.371155</td>\n",
       "      <td>0.008515</td>\n",
       "      <td>0.005564</td>\n",
       "      <td>1.000000</td>\n",
       "    </tr>\n",
       "  </tbody>\n",
       "</table>\n",
       "</div>"
      ],
      "text/plain": [
       "               duration  likes_count  reposts_count  track_count\n",
       "duration       1.000000     0.026536       0.026454     0.371155\n",
       "likes_count    0.026536     1.000000       0.954894     0.008515\n",
       "reposts_count  0.026454     0.954894       1.000000     0.005564\n",
       "track_count    0.371155     0.008515       0.005564     1.000000"
      ]
     },
     "execution_count": 9,
     "metadata": {},
     "output_type": "execute_result"
    }
   ],
   "source": [
    "corr = num_pl.corr(method='pearson')\n",
    "corr"
   ]
  },
  {
   "cell_type": "markdown",
   "id": "bfe5a451",
   "metadata": {},
   "source": [
    "`Heat map` biểu thị sự tương quan (correlation) giữa các thuộc tính có kiểu dữ liệu numerical."
   ]
  },
  {
   "cell_type": "code",
   "execution_count": 10,
   "id": "3e418f8f",
   "metadata": {
    "ExecuteTime": {
     "end_time": "2021-12-20T13:57:16.808067Z",
     "start_time": "2021-12-20T13:57:16.184749Z"
    }
   },
   "outputs": [
    {
     "data": {
      "image/png": "[encoded data removed]",
      "text/plain": [
       "<Figure size 432x288 with 2 Axes>"
      ]
     },
     "metadata": {
      "needs_background": "light"
     },
     "output_type": "display_data"
    }
   ],
   "source": [
    "dataplot = sns.heatmap(corr, cmap=\"YlGnBu\", annot=True)\n",
    "plt.show()"
   ]
  },
  {
   "cell_type": "markdown",
   "id": "8d40ddcd",
   "metadata": {},
   "source": [
    "Nhận xét:\n",
    "- Hai thuộc tính `likes_count` và `reposts_count` có mức độ tương quan rất cao lên đến `95%`. Điều này cho thấy rằng những `playlist` có chất lượng, có số lượng người yêu thích càng nhiều thì càng có khả năng được repost lại nhiều hơn và ngược lại.\n",
    "- Các cặp thuộc tính còn lại tuy vẫn có sự tương quan nhưng đều là như tương quan yếu (<50%) thậm chí rất yếu (<10%).\n",
    "- Hệ số tương quan giữa hai thuộc tính `likes_count` và `track_count` chỉ là `0.85%` (rất yếu) do đó ta có thể khẳng định được rằng hai thuộc tính gần như độc lập và không có sự tác động lẫn nhau => Số lượng track có trong 1 playlist không có ảnh hưởng gì đến số lượt likes của playlist đó."
   ]
  },
  {
   "cell_type": "markdown",
   "id": "2ed2da18",
   "metadata": {},
   "source": [
    "Để có cái nhìn rõ ràng hơn, ta sẽ sử dụng `biểu đồ phân tán (scatter plot)` để biểu diễn rõ mối quan hệ giữa hai thuộc tính `likes_count` và `reposts_count`"
   ]
  },
  {
   "cell_type": "code",
   "execution_count": 11,
   "id": "6b12b793",
   "metadata": {
    "ExecuteTime": {
     "end_time": "2021-12-20T13:57:17.294908Z",
     "start_time": "2021-12-20T13:57:16.813055Z"
    },
    "scrolled": false
   },
   "outputs": [
    {
     "data": {
      "image/png": "[encoded data removed]",
      "text/plain": [
       "<Figure size 504x504 with 1 Axes>"
      ]
     },
     "metadata": {
      "needs_background": "light"
     },
     "output_type": "display_data"
    }
   ],
   "source": [
    "plt.figure(figsize=(7, 7))\n",
    "plt.scatter(num_pl[\"likes_count\"], num_pl[\"reposts_count\"], c=\"red\")\n",
    "plt.title(\"Biểu đồ phân tán giữa likes_count và reposts_count\")\n",
    "plt.xlabel(\"likes_count\")\n",
    "plt.ylabel(\"reposts_count\")\n",
    "plt.show()"
   ]
  },
  {
   "cell_type": "markdown",
   "id": "867cc035",
   "metadata": {},
   "source": [
    "Nhận xét:\n",
    "- Các điểm dữ liệu kết hợp với nhau tạo thành 1 dạng đường chéo hướng lên chứng tỏ giữa hai thuộc tính có mối quan hệ tương quan dương với nhau."
   ]
  },
  {
   "cell_type": "markdown",
   "id": "f60237a5",
   "metadata": {},
   "source": [
    "**Câu hỏi:** Liệu có playlist nào có số lượng track rất ít <= 5 bài nhưng lượt yêu thích lại khá cao >= 1000 likes hay không?"
   ]
  },
  {
   "cell_type": "code",
   "execution_count": 12,
   "id": "d6cd0b6e",
   "metadata": {
    "ExecuteTime": {
     "end_time": "2021-12-20T13:57:17.373698Z",
     "start_time": "2021-12-20T13:57:17.300896Z"
    }
   },
   "outputs": [
    {
     "data": {
      "text/html": [
       "<div>\n",
       "<style scoped>\n",
       "    .dataframe tbody tr th:only-of-type {\n",
       "        vertical-align: middle;\n",
       "    }\n",
       "\n",
       "    .dataframe tbody tr th {\n",
       "        vertical-align: top;\n",
       "    }\n",
       "\n",
       "    .dataframe thead th {\n",
       "        text-align: right;\n",
       "    }\n",
       "</style>\n",
       "<table border=\"1\" class=\"dataframe\">\n",
       "  <thead>\n",
       "    <tr style=\"text-align: right;\">\n",
       "      <th></th>\n",
       "      <th>id</th>\n",
       "      <th>permalink_url</th>\n",
       "      <th>genre</th>\n",
       "      <th>duration</th>\n",
       "      <th>likes_count</th>\n",
       "      <th>reposts_count</th>\n",
       "      <th>user_id</th>\n",
       "      <th>is_album</th>\n",
       "      <th>display_date</th>\n",
       "      <th>track_count</th>\n",
       "      <th>tracks</th>\n",
       "    </tr>\n",
       "  </thead>\n",
       "  <tbody>\n",
       "    <tr>\n",
       "      <th>278</th>\n",
       "      <td>233278684</td>\n",
       "      <td>https://soundcloud.com/pan-pot/sets/pan-pot-of...</td>\n",
       "      <td>general</td>\n",
       "      <td>7810219</td>\n",
       "      <td>1168</td>\n",
       "      <td>227</td>\n",
       "      <td>488</td>\n",
       "      <td>False</td>\n",
       "      <td>2016-06-13</td>\n",
       "      <td>2</td>\n",
       "      <td>268871300,267975150</td>\n",
       "    </tr>\n",
       "    <tr>\n",
       "      <th>882</th>\n",
       "      <td>681168750</td>\n",
       "      <td>https://soundcloud.com/hnny/sets/puss</td>\n",
       "      <td>general</td>\n",
       "      <td>1459801</td>\n",
       "      <td>1067</td>\n",
       "      <td>187</td>\n",
       "      <td>1416</td>\n",
       "      <td>False</td>\n",
       "      <td>2019-01-08</td>\n",
       "      <td>4</td>\n",
       "      <td>82333171,119301398,124146092,132824178</td>\n",
       "    </tr>\n",
       "  </tbody>\n",
       "</table>\n",
       "</div>"
      ],
      "text/plain": [
       "            id                                      permalink_url    genre  \\\n",
       "278  233278684  https://soundcloud.com/pan-pot/sets/pan-pot-of...  general   \n",
       "882  681168750              https://soundcloud.com/hnny/sets/puss  general   \n",
       "\n",
       "     duration  likes_count  reposts_count user_id  is_album display_date  \\\n",
       "278   7810219         1168            227     488     False   2016-06-13   \n",
       "882   1459801         1067            187    1416     False   2019-01-08   \n",
       "\n",
       "     track_count                                  tracks  \n",
       "278            2                     268871300,267975150  \n",
       "882            4  82333171,119301398,124146092,132824178  "
      ]
     },
     "execution_count": 12,
     "metadata": {},
     "output_type": "execute_result"
    }
   ],
   "source": [
    "playlist[(playlist[\"track_count\"] <= 5) & (playlist[\"likes_count\"] >= 1000)]"
   ]
  },
  {
   "cell_type": "markdown",
   "id": "e6cd6523",
   "metadata": {
    "ExecuteTime": {
     "end_time": "2021-12-18T13:14:56.458785Z",
     "start_time": "2021-12-18T13:14:56.445819Z"
    }
   },
   "source": [
    "Có thể thấy có `2` playlist có số lượng track rất ít < 5 tuy nhiên số lượt like của chúng vẫn khá cao. Đây là ví dụ cho thấy số lượng track có trong 1 playlist không có ảnh hưởng gì đến số lượt likes của playlist đó!"
   ]
  },
  {
   "cell_type": "markdown",
   "id": "6541a805",
   "metadata": {},
   "source": [
    "#### **2.2 Dữ liệu phân loại (categorical)**"
   ]
  },
  {
   "cell_type": "markdown",
   "id": "04b2b4c6",
   "metadata": {},
   "source": [
    "**Câu hỏi:** Liệu rằng các playlist có ở trên soundcloud đều là những album ca nhạc chỉnh chu do 1 nghệ sĩ phát hành hay đa phần là do người dùng tự tổng hợp lại?\n",
    "- Đối với câu hỏi này, ta sẽ chọn biểu đồ dạng đường tròn (pie chart) để biểu diễn sự phân bố của giá trị."
   ]
  },
  {
   "cell_type": "code",
   "execution_count": 13,
   "id": "7e9acee2",
   "metadata": {
    "ExecuteTime": {
     "end_time": "2021-12-20T13:57:17.736189Z",
     "start_time": "2021-12-20T13:57:17.385667Z"
    }
   },
   "outputs": [
    {
     "data": {
      "image/png": "[encoded data removed]",
      "text/plain": [
       "<Figure size 504x504 with 1 Axes>"
      ]
     },
     "metadata": {},
     "output_type": "display_data"
    }
   ],
   "source": [
    "album_pl = playlist[[\"id\", \"is_album\"]]\n",
    "album_vals = album_pl.groupby(\"is_album\")[\"id\"].count()\n",
    "col = [\"false\", \"true\"]\n",
    "plt.figure(figsize=(7, 7))\n",
    "plt.pie(album_vals, autopct=\"%.1f%%\", labels=col)\n",
    "plt.title(\"Phần trăm playlist là album\", fontsize=14);\n",
    "plt.legend()\n",
    "plt.show()"
   ]
  },
  {
   "cell_type": "markdown",
   "id": "1fca617a",
   "metadata": {},
   "source": [
    "Nhận xét:\n",
    "- Có thể thấy số lượng playlist không phải là album (false) chiếm số lượng gấp đôi số playlist là album, đều này cho thấy rằng nền tảng Soundcloud là một nền tảng mở. Tất cả mọi người dùng (nghiệp dư) đều có thể đăng nhạc, đăng bài hát của chính mình chứ không bắt buộc phải là 1 ca sĩ, nhạc sĩ chuyên nghiệp. Phần lớn các playlist là do người dùng tự tổng hợp chứ không phải là album chỉnh chu chuyên nghiệp.\n",
    "- Người dùng soundcloud có thể tạo bất cứ playlist nhạc nào mà mình thích, không có sự kiểm duyệt về nội dung cũng như hình thức của playlist nhạc đó (is_album == false)."
   ]
  },
  {
   "cell_type": "markdown",
   "id": "31f12a6f",
   "metadata": {},
   "source": [
    "**Câu hỏi:** Không xét đến thể loại `general`, đâu là thể loại âm nhạc được đăng tải nhiều nhất trong vòng 10 năm (2010-2020)? Liệu `hip-hop & rap` có phải là xu hướng âm nhạc của thế giới không nói chung và Soundcloud nói riêng hay không?"
   ]
  },
  {
   "cell_type": "code",
   "execution_count": 14,
   "id": "e6af79e6",
   "metadata": {
    "ExecuteTime": {
     "end_time": "2021-12-20T13:57:18.515107Z",
     "start_time": "2021-12-20T13:57:17.742176Z"
    },
    "scrolled": false
   },
   "outputs": [
    {
     "data": {
      "text/plain": [
       "<AxesSubplot:xlabel='count', ylabel='genre'>"
      ]
     },
     "execution_count": 14,
     "metadata": {},
     "output_type": "execute_result"
    },
    {
     "data": {
      "image/png": "[encoded data removed]",
      "text/plain": [
       "<Figure size 1152x1152 with 1 Axes>"
      ]
     },
     "metadata": {
      "needs_background": "light"
     },
     "output_type": "display_data"
    }
   ],
   "source": [
    "genre_pl = playlist[(playlist[\"display_date\"].dt.year >= 2010) \n",
    "                    & (playlist[\"display_date\"].dt.year <= 2020)\n",
    "                    & (playlist[\"genre\"] != \"general\")]\n",
    "plt.figure(figsize=(16, 16))\n",
    "sns.countplot(y=\"genre\", data=genre_pl)"
   ]
  },
  {
   "cell_type": "markdown",
   "id": "b592ced7",
   "metadata": {},
   "source": [
    "Nhận xét:\n",
    "- Có một sự vượt trội về số lượng playlist trong vòng 10 năm của thế loại `electronic`. Không phải `hip-hop & rap` đang là trend của âm nhạc thế giới mà là nhạc điện tử `electronic` mới đang chiếm ưu thế vượt trội. `house` và `techno` cũng là 2 thế loại đang được quan tâm rất nhiều.\n",
    "- Sự trỗi dậy của dòng nhạc điện tử trong vòng 10 năm có sự đóng góp không hề nhỏ của các DJ nổi tiếng như `Calvin Harris`, `Martin Garrix`, `Alan Walker`,... với những bài nhạc điện tử có đến hàng tỷ lượt nghe trên toàn thế giới."
   ]
  },
  {
   "cell_type": "markdown",
   "id": "fe09c3f4",
   "metadata": {},
   "source": [
    "**Câu hỏi**: Yếu tố nào quyết định 1 `playlist` được nhiều người yêu thích:\n",
    "\n",
    "- Thể loại của playlist (genre)?"
   ]
  },
  {
   "cell_type": "markdown",
   "id": "16dcbec6",
   "metadata": {},
   "source": [
    "Để trả lời cho câu hỏi này, đầu tiên ta rút trích dữ liệu gồm 3 cột `genre`, và `likes_count` sau đó sắp xếp dữ liệu giảm dần theo số lượng likes. Có những `playlist` có lượt likes = 0 do đó không có đóng góp gì vào việc so sánh, ta chỉ lấy ra 500 playlist đầu tiên để đánh giá các thuộc tính."
   ]
  },
  {
   "cell_type": "code",
   "execution_count": 15,
   "id": "18d59681",
   "metadata": {
    "ExecuteTime": {
     "end_time": "2021-12-20T13:57:18.591901Z",
     "start_time": "2021-12-20T13:57:18.518096Z"
    }
   },
   "outputs": [
    {
     "data": {
      "text/html": [
       "<div>\n",
       "<style scoped>\n",
       "    .dataframe tbody tr th:only-of-type {\n",
       "        vertical-align: middle;\n",
       "    }\n",
       "\n",
       "    .dataframe tbody tr th {\n",
       "        vertical-align: top;\n",
       "    }\n",
       "\n",
       "    .dataframe thead th {\n",
       "        text-align: right;\n",
       "    }\n",
       "</style>\n",
       "<table border=\"1\" class=\"dataframe\">\n",
       "  <thead>\n",
       "    <tr style=\"text-align: right;\">\n",
       "      <th></th>\n",
       "      <th>genre</th>\n",
       "      <th>likes_count</th>\n",
       "    </tr>\n",
       "  </thead>\n",
       "  <tbody>\n",
       "    <tr>\n",
       "      <th>1251</th>\n",
       "      <td>general</td>\n",
       "      <td>3653</td>\n",
       "    </tr>\n",
       "    <tr>\n",
       "      <th>884</th>\n",
       "      <td>general</td>\n",
       "      <td>2856</td>\n",
       "    </tr>\n",
       "    <tr>\n",
       "      <th>1250</th>\n",
       "      <td>storytelling</td>\n",
       "      <td>2824</td>\n",
       "    </tr>\n",
       "    <tr>\n",
       "      <th>279</th>\n",
       "      <td>electronic</td>\n",
       "      <td>1339</td>\n",
       "    </tr>\n",
       "    <tr>\n",
       "      <th>278</th>\n",
       "      <td>general</td>\n",
       "      <td>1168</td>\n",
       "    </tr>\n",
       "    <tr>\n",
       "      <th>...</th>\n",
       "      <td>...</td>\n",
       "      <td>...</td>\n",
       "    </tr>\n",
       "    <tr>\n",
       "      <th>1757</th>\n",
       "      <td>general</td>\n",
       "      <td>14</td>\n",
       "    </tr>\n",
       "    <tr>\n",
       "      <th>745</th>\n",
       "      <td>general</td>\n",
       "      <td>14</td>\n",
       "    </tr>\n",
       "    <tr>\n",
       "      <th>94</th>\n",
       "      <td>general</td>\n",
       "      <td>14</td>\n",
       "    </tr>\n",
       "    <tr>\n",
       "      <th>1446</th>\n",
       "      <td>hip-hop &amp; rap</td>\n",
       "      <td>14</td>\n",
       "    </tr>\n",
       "    <tr>\n",
       "      <th>1742</th>\n",
       "      <td>general</td>\n",
       "      <td>14</td>\n",
       "    </tr>\n",
       "  </tbody>\n",
       "</table>\n",
       "<p>500 rows × 2 columns</p>\n",
       "</div>"
      ],
      "text/plain": [
       "              genre  likes_count\n",
       "1251        general         3653\n",
       "884         general         2856\n",
       "1250   storytelling         2824\n",
       "279      electronic         1339\n",
       "278         general         1168\n",
       "...             ...          ...\n",
       "1757        general           14\n",
       "745         general           14\n",
       "94          general           14\n",
       "1446  hip-hop & rap           14\n",
       "1742        general           14\n",
       "\n",
       "[500 rows x 2 columns]"
      ]
     },
     "execution_count": 15,
     "metadata": {},
     "output_type": "execute_result"
    }
   ],
   "source": [
    "likes_pl = playlist[[\"genre\", \"likes_count\"]].sort_values(by=\"likes_count\", ascending=False)\n",
    "likes_pl = likes_pl[0:500]\n",
    "likes_pl"
   ]
  },
  {
   "cell_type": "markdown",
   "id": "ea340b9c",
   "metadata": {},
   "source": [
    "Để đánh giá được rằng liệu thể loại âm nhạc có ảnh hưởng tới việc một playlist có được nhiều lượt yêu thích hay không, ta sẽ chia các thể loại thành 2 phần:\n",
    "- Thể loại `general`: thể loại chung (tổng hợp)\n",
    "- Thể loại cụ thể: phần còn lại.\n",
    "    - Tính phần trăm của hai phần để so sánh tổng lượt like của chúng."
   ]
  },
  {
   "cell_type": "code",
   "execution_count": 16,
   "id": "6711dc52",
   "metadata": {
    "ExecuteTime": {
     "end_time": "2021-12-20T13:57:18.623814Z",
     "start_time": "2021-12-20T13:57:18.596886Z"
    }
   },
   "outputs": [
    {
     "name": "stdout",
     "output_type": "stream",
     "text": [
      "Phần trăm lượt thích của thể loại general là 51.91%\n",
      "Phần trăm lượt thích của thể loại còn lại là 48.09%\n"
     ]
    }
   ],
   "source": [
    "group_genre = likes_pl.groupby(['genre'], as_index=False).sum()\n",
    "general_count = group_genre[group_genre[\"genre\"] == \"general\"][\"likes_count\"]\n",
    "general_type = round(general_count / group_genre[\"likes_count\"].sum() * 100, 2)\n",
    "rest_type = 100 - general_type\n",
    "print(f\"Phần trăm lượt thích của thể loại general là {float(general_type)}%\")\n",
    "print(f\"Phần trăm lượt thích của thể loại còn lại là {float(rest_type)}%\")"
   ]
  },
  {
   "cell_type": "markdown",
   "id": "dde879ec",
   "metadata": {},
   "source": [
    "Nhận xét:\n",
    "- Có thể thấy sự chênh lệch giữa hai kiểu thể loại trên là không quá cao.\n",
    "- Tuy nhiên sự chênh lệch này cho thấy rằng, người dùng sẽ có xu hướng muốn nghe những playlist nó thể loại là `general` hơn có lẻ bởi vì chúng đa dạng, nhiều màu sắc âm nhạc hơn so với việc nghe một thể loại âm nhạc cụ thể nào đó."
   ]
  }
 ],
 "metadata": {
  "kernelspec": {
   "display_name": "Python 3 (ipykernel)",
   "language": "python",
   "name": "python3"
  },
  "language_info": {
   "codemirror_mode": {
    "name": "ipython",
    "version": 3
   },
   "file_extension": ".py",
   "mimetype": "text/x-python",
   "name": "python",
   "nbconvert_exporter": "python",
   "pygments_lexer": "ipython3",
   "version": "3.8.8"
  }
 },
 "nbformat": 4,
 "nbformat_minor": 5
}
