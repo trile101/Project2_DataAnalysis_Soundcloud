{
 "cells": [
  {
   "cell_type": "code",
   "execution_count": 1,
   "id": "b9de59d4",
   "metadata": {
    "ExecuteTime": {
     "end_time": "2021-12-11T16:25:23.793238Z",
     "start_time": "2021-12-11T16:25:23.123315Z"
    }
   },
   "outputs": [],
   "source": [
    "import pandas as pd"
   ]
  },
  {
   "cell_type": "markdown",
   "id": "62f71679",
   "metadata": {},
   "source": [
    "#### Đọc dữ liệu ban đầu"
   ]
  },
  {
   "cell_type": "code",
   "execution_count": 2,
   "id": "d34b1d2d",
   "metadata": {
    "ExecuteTime": {
     "end_time": "2021-12-11T16:25:23.854227Z",
     "start_time": "2021-12-11T16:25:23.796217Z"
    },
    "scrolled": false
   },
   "outputs": [
    {
     "data": {
      "text/html": [
       "<div>\n",
       "<style scoped>\n",
       "    .dataframe tbody tr th:only-of-type {\n",
       "        vertical-align: middle;\n",
       "    }\n",
       "\n",
       "    .dataframe tbody tr th {\n",
       "        vertical-align: top;\n",
       "    }\n",
       "\n",
       "    .dataframe thead th {\n",
       "        text-align: right;\n",
       "    }\n",
       "</style>\n",
       "<table border=\"1\" class=\"dataframe\">\n",
       "  <thead>\n",
       "    <tr style=\"text-align: right;\">\n",
       "      <th></th>\n",
       "      <th>Country,Other</th>\n",
       "      <th>Total Cases</th>\n",
       "      <th>New Cases</th>\n",
       "      <th>Total Deaths</th>\n",
       "      <th>New Death</th>\n",
       "      <th>Total Recovered</th>\n",
       "      <th>New Recovered</th>\n",
       "      <th>Active Case</th>\n",
       "      <th>Serious Critical</th>\n",
       "      <th>Tot Cases/1M pop</th>\n",
       "      <th>Death/1M pop</th>\n",
       "      <th>Total test</th>\n",
       "      <th>Test/1M pop</th>\n",
       "      <th>Population</th>\n",
       "      <th>Area</th>\n",
       "      <th>Date</th>\n",
       "    </tr>\n",
       "  </thead>\n",
       "  <tbody>\n",
       "    <tr>\n",
       "      <th>0</th>\n",
       "      <td>China</td>\n",
       "      <td>98,993</td>\n",
       "      <td>+96</td>\n",
       "      <td>4,636</td>\n",
       "      <td></td>\n",
       "      <td>93,385</td>\n",
       "      <td>+30</td>\n",
       "      <td>972</td>\n",
       "      <td>10</td>\n",
       "      <td>69</td>\n",
       "      <td>3</td>\n",
       "      <td>160,000,000</td>\n",
       "      <td>111,163</td>\n",
       "      <td>1,439,323,776</td>\n",
       "      <td>Asia</td>\n",
       "      <td>2021-12-03</td>\n",
       "    </tr>\n",
       "    <tr>\n",
       "      <th>1</th>\n",
       "      <td>USA</td>\n",
       "      <td>49,878,049</td>\n",
       "      <td>+147,434</td>\n",
       "      <td>808,116</td>\n",
       "      <td>+1,353</td>\n",
       "      <td>39,463,245</td>\n",
       "      <td>+73,599</td>\n",
       "      <td>9,606,688</td>\n",
       "      <td>13,714</td>\n",
       "      <td>149,440</td>\n",
       "      <td>2,421</td>\n",
       "      <td>759,601,375</td>\n",
       "      <td>2,275,854</td>\n",
       "      <td>333,765,397</td>\n",
       "      <td>North America</td>\n",
       "      <td>2021-12-03</td>\n",
       "    </tr>\n",
       "    <tr>\n",
       "      <th>2</th>\n",
       "      <td>India</td>\n",
       "      <td>34,624,360</td>\n",
       "      <td>+8,603</td>\n",
       "      <td>470,530</td>\n",
       "      <td>+415</td>\n",
       "      <td>34,045,666</td>\n",
       "      <td>+8,612</td>\n",
       "      <td>108,164</td>\n",
       "      <td>8,944</td>\n",
       "      <td>24,744</td>\n",
       "      <td>336</td>\n",
       "      <td>644,668,082</td>\n",
       "      <td>460,704</td>\n",
       "      <td>1,399,309,544</td>\n",
       "      <td>Asia</td>\n",
       "      <td>2021-12-03</td>\n",
       "    </tr>\n",
       "    <tr>\n",
       "      <th>3</th>\n",
       "      <td>Brazil</td>\n",
       "      <td>22,129,409</td>\n",
       "      <td>+10,627</td>\n",
       "      <td>615,454</td>\n",
       "      <td>+229</td>\n",
       "      <td>21,357,412</td>\n",
       "      <td>+5,907</td>\n",
       "      <td>156,543</td>\n",
       "      <td>8,318</td>\n",
       "      <td>103,067</td>\n",
       "      <td>2,866</td>\n",
       "      <td>63,776,166</td>\n",
       "      <td>297,034</td>\n",
       "      <td>214,709,861</td>\n",
       "      <td>South America</td>\n",
       "      <td>2021-12-03</td>\n",
       "    </tr>\n",
       "    <tr>\n",
       "      <th>4</th>\n",
       "      <td>UK</td>\n",
       "      <td>10,378,256</td>\n",
       "      <td>+50,120</td>\n",
       "      <td>145,424</td>\n",
       "      <td>+143</td>\n",
       "      <td>9,156,066</td>\n",
       "      <td>+29,938</td>\n",
       "      <td>1,076,766</td>\n",
       "      <td>895</td>\n",
       "      <td>151,743</td>\n",
       "      <td>2,126</td>\n",
       "      <td>366,108,215</td>\n",
       "      <td>5,352,959</td>\n",
       "      <td>68,393,618</td>\n",
       "      <td>Europe</td>\n",
       "      <td>2021-12-03</td>\n",
       "    </tr>\n",
       "    <tr>\n",
       "      <th>...</th>\n",
       "      <td>...</td>\n",
       "      <td>...</td>\n",
       "      <td>...</td>\n",
       "      <td>...</td>\n",
       "      <td>...</td>\n",
       "      <td>...</td>\n",
       "      <td>...</td>\n",
       "      <td>...</td>\n",
       "      <td>...</td>\n",
       "      <td>...</td>\n",
       "      <td>...</td>\n",
       "      <td>...</td>\n",
       "      <td>...</td>\n",
       "      <td>...</td>\n",
       "      <td>...</td>\n",
       "      <td>...</td>\n",
       "    </tr>\n",
       "    <tr>\n",
       "      <th>1339</th>\n",
       "      <td>Marshall Islands</td>\n",
       "      <td>4</td>\n",
       "      <td></td>\n",
       "      <td></td>\n",
       "      <td></td>\n",
       "      <td>4</td>\n",
       "      <td></td>\n",
       "      <td>0</td>\n",
       "      <td></td>\n",
       "      <td>67</td>\n",
       "      <td></td>\n",
       "      <td></td>\n",
       "      <td></td>\n",
       "      <td>59,763</td>\n",
       "      <td>Australia/Oceania</td>\n",
       "      <td>2021-12-08</td>\n",
       "    </tr>\n",
       "    <tr>\n",
       "      <th>1340</th>\n",
       "      <td>Samoa</td>\n",
       "      <td>3</td>\n",
       "      <td></td>\n",
       "      <td></td>\n",
       "      <td></td>\n",
       "      <td>3</td>\n",
       "      <td></td>\n",
       "      <td>0</td>\n",
       "      <td></td>\n",
       "      <td>15</td>\n",
       "      <td></td>\n",
       "      <td></td>\n",
       "      <td></td>\n",
       "      <td>200,305</td>\n",
       "      <td>Australia/Oceania</td>\n",
       "      <td>2021-12-08</td>\n",
       "    </tr>\n",
       "    <tr>\n",
       "      <th>1341</th>\n",
       "      <td>Saint Helena</td>\n",
       "      <td>2</td>\n",
       "      <td></td>\n",
       "      <td></td>\n",
       "      <td></td>\n",
       "      <td>2</td>\n",
       "      <td></td>\n",
       "      <td>0</td>\n",
       "      <td></td>\n",
       "      <td>328</td>\n",
       "      <td></td>\n",
       "      <td></td>\n",
       "      <td></td>\n",
       "      <td>6,103</td>\n",
       "      <td>Africa</td>\n",
       "      <td>2021-12-08</td>\n",
       "    </tr>\n",
       "    <tr>\n",
       "      <th>1342</th>\n",
       "      <td>Micronesia</td>\n",
       "      <td>1</td>\n",
       "      <td></td>\n",
       "      <td></td>\n",
       "      <td></td>\n",
       "      <td>1</td>\n",
       "      <td></td>\n",
       "      <td>0</td>\n",
       "      <td></td>\n",
       "      <td>9</td>\n",
       "      <td></td>\n",
       "      <td></td>\n",
       "      <td></td>\n",
       "      <td>116,752</td>\n",
       "      <td>Australia/Oceania</td>\n",
       "      <td>2021-12-08</td>\n",
       "    </tr>\n",
       "    <tr>\n",
       "      <th>1343</th>\n",
       "      <td>Tonga</td>\n",
       "      <td>1</td>\n",
       "      <td></td>\n",
       "      <td></td>\n",
       "      <td></td>\n",
       "      <td>1</td>\n",
       "      <td></td>\n",
       "      <td>0</td>\n",
       "      <td></td>\n",
       "      <td>9</td>\n",
       "      <td></td>\n",
       "      <td></td>\n",
       "      <td></td>\n",
       "      <td>107,412</td>\n",
       "      <td>Australia/Oceania</td>\n",
       "      <td>2021-12-08</td>\n",
       "    </tr>\n",
       "  </tbody>\n",
       "</table>\n",
       "<p>1344 rows × 16 columns</p>\n",
       "</div>"
      ],
      "text/plain": [
       "         Country,Other Total Cases New Cases Total Deaths New Death  \\\n",
       "0                China      98,993       +96       4,636              \n",
       "1                  USA  49,878,049  +147,434     808,116     +1,353   \n",
       "2                India  34,624,360    +8,603     470,530       +415   \n",
       "3               Brazil  22,129,409   +10,627     615,454       +229   \n",
       "4                   UK  10,378,256   +50,120     145,424       +143   \n",
       "...                ...         ...       ...          ...       ...   \n",
       "1339  Marshall Islands           4                                    \n",
       "1340             Samoa           3                                    \n",
       "1341      Saint Helena           2                                    \n",
       "1342        Micronesia           1                                    \n",
       "1343             Tonga           1                                    \n",
       "\n",
       "     Total Recovered New Recovered Active Case Serious Critical  \\\n",
       "0             93,385           +30         972               10   \n",
       "1         39,463,245       +73,599   9,606,688           13,714   \n",
       "2         34,045,666        +8,612     108,164            8,944   \n",
       "3         21,357,412        +5,907     156,543            8,318   \n",
       "4          9,156,066       +29,938   1,076,766              895   \n",
       "...              ...           ...         ...              ...   \n",
       "1339               4                         0                    \n",
       "1340               3                         0                    \n",
       "1341               2                         0                    \n",
       "1342               1                         0                    \n",
       "1343               1                         0                    \n",
       "\n",
       "     Tot Cases/1M pop Death/1M pop   Total test Test/1M pop      Population  \\\n",
       "0                  69            3  160,000,000     111,163  1,439,323,776    \n",
       "1             149,440        2,421  759,601,375   2,275,854    333,765,397    \n",
       "2              24,744          336  644,668,082     460,704  1,399,309,544    \n",
       "3             103,067        2,866   63,776,166     297,034    214,709,861    \n",
       "4             151,743        2,126  366,108,215   5,352,959     68,393,618    \n",
       "...               ...          ...          ...         ...             ...   \n",
       "1339               67                                               59,763    \n",
       "1340               15                                              200,305    \n",
       "1341              328                                                6,103    \n",
       "1342                9                                              116,752    \n",
       "1343                9                                              107,412    \n",
       "\n",
       "                   Area        Date  \n",
       "0                  Asia  2021-12-03  \n",
       "1         North America  2021-12-03  \n",
       "2                  Asia  2021-12-03  \n",
       "3         South America  2021-12-03  \n",
       "4                Europe  2021-12-03  \n",
       "...                 ...         ...  \n",
       "1339  Australia/Oceania  2021-12-08  \n",
       "1340  Australia/Oceania  2021-12-08  \n",
       "1341             Africa  2021-12-08  \n",
       "1342  Australia/Oceania  2021-12-08  \n",
       "1343  Australia/Oceania  2021-12-08  \n",
       "\n",
       "[1344 rows x 16 columns]"
      ]
     },
     "execution_count": 2,
     "metadata": {},
     "output_type": "execute_result"
    }
   ],
   "source": [
    "raw_data = pd.read_csv('crawl_data.csv', keep_default_na=False)\n",
    "# tạo bản copy để xử lý dữ liệu và ghi ra file\n",
    "new_data = raw_data.copy()\n",
    "new_data"
   ]
  },
  {
   "cell_type": "markdown",
   "id": "2aa59533",
   "metadata": {},
   "source": [
    "#### Xoá bỏ các khoảng trắng thừa trong các ô dữ liệu"
   ]
  },
  {
   "cell_type": "code",
   "execution_count": 3,
   "id": "79f7a45d",
   "metadata": {
    "ExecuteTime": {
     "end_time": "2021-12-11T16:25:23.885217Z",
     "start_time": "2021-12-11T16:25:23.858216Z"
    }
   },
   "outputs": [],
   "source": [
    "for col in new_data:\n",
    "    new_data[col] = new_data[col].str.strip()"
   ]
  },
  {
   "cell_type": "markdown",
   "id": "c1a1f72f",
   "metadata": {},
   "source": [
    "#### Xoá bỏ các dòng có trường thông tin không được cung cấp (N/A)"
   ]
  },
  {
   "cell_type": "code",
   "execution_count": 4,
   "id": "54c3818f",
   "metadata": {
    "ExecuteTime": {
     "end_time": "2021-12-11T16:25:23.933389Z",
     "start_time": "2021-12-11T16:25:23.889218Z"
    }
   },
   "outputs": [],
   "source": [
    "row_list = new_data.values\n",
    "for i, row in enumerate(row_list):\n",
    "    if \"N/A\" in ''.join(row):\n",
    "        new_data.drop([i], inplace=True)\n",
    "new_data = new_data.reset_index(drop=True)"
   ]
  },
  {
   "cell_type": "markdown",
   "id": "0db5ee5d",
   "metadata": {
    "ExecuteTime": {
     "end_time": "2021-12-11T13:58:34.234978Z",
     "start_time": "2021-12-11T13:58:34.224925Z"
    }
   },
   "source": [
    "#### Xử lý các ô thuộc các cột dạng số liệu  bị thiếu bằng cách điền cho chúng giá trị 0"
   ]
  },
  {
   "cell_type": "code",
   "execution_count": 5,
   "id": "333b577f",
   "metadata": {
    "ExecuteTime": {
     "end_time": "2021-12-11T16:25:23.949254Z",
     "start_time": "2021-12-11T16:25:23.940222Z"
    }
   },
   "outputs": [],
   "source": [
    "new_data = new_data.replace('', 0)"
   ]
  },
  {
   "cell_type": "markdown",
   "id": "50d6e828",
   "metadata": {},
   "source": [
    "#### Xoá bỏ đi dấu ‘,’ trong các ô chứa số liệu để tránh bị nhầm lẫn khi chuyển đổi chúng về dạng numeric"
   ]
  },
  {
   "cell_type": "code",
   "execution_count": 6,
   "id": "36c57f84",
   "metadata": {
    "ExecuteTime": {
     "end_time": "2021-12-11T16:25:24.012230Z",
     "start_time": "2021-12-11T16:25:23.956217Z"
    }
   },
   "outputs": [],
   "source": [
    "for col in new_data:\n",
    "    if col not in [\"Country,Other\", \"Area\", \"Date\"]:\n",
    "        new_data[col] = new_data[col].replace({',':''}, regex=True)"
   ]
  },
  {
   "cell_type": "markdown",
   "id": "1c728e77",
   "metadata": {
    "ExecuteTime": {
     "end_time": "2021-12-11T14:41:57.717262Z",
     "start_time": "2021-12-11T14:41:57.682261Z"
    }
   },
   "source": [
    "#### Dữ liệu trong các cột có dạng số đều đang ở dạng chuỗi sau khi thu thập về do đó cần phải chuyển hết về numeric"
   ]
  },
  {
   "cell_type": "code",
   "execution_count": 7,
   "id": "a3c346b4",
   "metadata": {
    "ExecuteTime": {
     "end_time": "2021-12-11T16:25:24.044230Z",
     "start_time": "2021-12-11T16:25:24.014214Z"
    }
   },
   "outputs": [],
   "source": [
    "for col in new_data:\n",
    "    if col not in [\"Country,Other\", \"Area\", \"Date\"]:\n",
    "        new_data[col] = pd.to_numeric(new_data[col])"
   ]
  },
  {
   "cell_type": "markdown",
   "id": "b7d14bb0",
   "metadata": {},
   "source": [
    "#### Xoá bỏ các quốc gia có thuộc tính `Population` bằng `0`"
   ]
  },
  {
   "cell_type": "code",
   "execution_count": 8,
   "id": "8634dfc2",
   "metadata": {
    "ExecuteTime": {
     "end_time": "2021-12-11T16:25:24.076215Z",
     "start_time": "2021-12-11T16:25:24.046214Z"
    }
   },
   "outputs": [],
   "source": [
    "for i, val in enumerate(new_data[\"Population\"].values):\n",
    "    if val == 0:\n",
    "        new_data.drop([i], inplace=True)"
   ]
  },
  {
   "cell_type": "markdown",
   "id": "433fb64b",
   "metadata": {},
   "source": [
    "#### Ghi dữ liệu của `new_data` vào file dữ liệu mới `new_data.csv`"
   ]
  },
  {
   "cell_type": "code",
   "execution_count": 9,
   "id": "317698ae",
   "metadata": {
    "ExecuteTime": {
     "end_time": "2021-12-11T16:25:24.107214Z",
     "start_time": "2021-12-11T16:25:24.078214Z"
    }
   },
   "outputs": [],
   "source": [
    "new_data.to_csv(\"new_data.csv\", sep=',', index=False, encoding='utf-8', mode='w')"
   ]
  }
 ],
 "metadata": {
  "kernelspec": {
   "display_name": "Python 3 (ipykernel)",
   "language": "python",
   "name": "python3"
  },
  "language_info": {
   "codemirror_mode": {
    "name": "ipython",
    "version": 3
   },
   "file_extension": ".py",
   "mimetype": "text/x-python",
   "name": "python",
   "nbconvert_exporter": "python",
   "pygments_lexer": "ipython3",
   "version": "3.8.8"
  }
 },
 "nbformat": 4,
 "nbformat_minor": 5
}
