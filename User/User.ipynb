{
 "cells": [
  {
   "cell_type": "markdown",
   "id": "fede1906",
   "metadata": {},
   "source": [
    "## I. User"
   ]
  },
  {
   "cell_type": "markdown",
   "id": "150edda8",
   "metadata": {},
   "source": [
    "**Dự đoán**\n",
    "- Trước khi tìm hiểu dữ liệu, ta xác định một số mong đợi về tập dữ liệu Soundcloud về user\n",
    "  + Yếu tố nào quyết định một người dùng được quan tâm (độ được quan tâm đánh giá bằng số followers): liệu có mối quan hệ giữa track, playlist với follower, có thể người đăng càng nhiều track và playlist thì sẽ thu được càng nhiều follower\n",
    "  + Với các người dùng được nhiều follower, liệu sẽ nhận được lượng likes nhiều hơn? \n",
    "  + Người dùng đăng kí gói nhạc trả phí liệu có đặc điểm chung giữa họ hay không?\n",
    "  + Các đất nước có số lượng user sử dụng soundclound nhiều?\t\t"
   ]
  },
  {
   "cell_type": "markdown",
   "id": "6b6a9944",
   "metadata": {},
   "source": [
    "##### Import thư viện"
   ]
  },
  {
   "cell_type": "code",
   "execution_count": 106,
   "id": "a4eb5b8a",
   "metadata": {},
   "outputs": [],
   "source": [
    "import pandas as pd\n",
    "pd.options.mode.chained_assignment = None  # default='warn'\n",
    "import numpy as np\n",
    "import requests as r\n",
    "from bs4 import BeautifulSoup\n",
    "import matplotlib.pyplot as plt\n",
    "import seaborn as sns"
   ]
  },
  {
   "cell_type": "markdown",
   "id": "83c033a0",
   "metadata": {},
   "source": [
    "**1. Kiểm tra tống quan về dữ liệu**"
   ]
  },
  {
   "cell_type": "code",
   "execution_count": 107,
   "id": "a3dc9eca",
   "metadata": {
    "scrolled": true
   },
   "outputs": [
    {
     "data": {
      "text/plain": [
       "(1500, 38)"
      ]
     },
     "execution_count": 107,
     "metadata": {},
     "output_type": "execute_result"
    }
   ],
   "source": [
    "users = pd.read_csv(\"user.csv\", sep='\\t')\n",
    "users.drop(columns=\"index\", inplace=True)\n",
    "users.shape"
   ]
  },
  {
   "cell_type": "code",
   "execution_count": 108,
   "id": "3e4a7adf",
   "metadata": {},
   "outputs": [
    {
     "data": {
      "text/html": [
       "<div>\n",
       "<style scoped>\n",
       "    .dataframe tbody tr th:only-of-type {\n",
       "        vertical-align: middle;\n",
       "    }\n",
       "\n",
       "    .dataframe tbody tr th {\n",
       "        vertical-align: top;\n",
       "    }\n",
       "\n",
       "    .dataframe thead th {\n",
       "        text-align: right;\n",
       "    }\n",
       "</style>\n",
       "<table border=\"1\" class=\"dataframe\">\n",
       "  <thead>\n",
       "    <tr style=\"text-align: right;\">\n",
       "      <th></th>\n",
       "      <th>avatar_url</th>\n",
       "      <th>city</th>\n",
       "      <th>comments_count</th>\n",
       "      <th>country_code</th>\n",
       "      <th>created_at</th>\n",
       "      <th>creator_subscriptions</th>\n",
       "      <th>description</th>\n",
       "      <th>followers_count</th>\n",
       "      <th>followings_count</th>\n",
       "      <th>first_name</th>\n",
       "      <th>...</th>\n",
       "      <th>station_permalink</th>\n",
       "      <th>creator_subscription.product.id</th>\n",
       "      <th>visuals.urn</th>\n",
       "      <th>visuals.enabled</th>\n",
       "      <th>visuals.visuals</th>\n",
       "      <th>visuals.tracking</th>\n",
       "      <th>badges.pro</th>\n",
       "      <th>badges.pro_unlimited</th>\n",
       "      <th>badges.verified</th>\n",
       "      <th>visuals</th>\n",
       "    </tr>\n",
       "  </thead>\n",
       "  <tbody>\n",
       "    <tr>\n",
       "      <th>0</th>\n",
       "      <td>https://i1.sndcdn.com/avatars-LQHwEEFP8SciWWEl...</td>\n",
       "      <td>Berlin</td>\n",
       "      <td>384</td>\n",
       "      <td>DE</td>\n",
       "      <td>2007-07-20T16:07:00Z</td>\n",
       "      <td>[{'product': {'id': 'creator-pro-unlimited'}}]</td>\n",
       "      <td>Founder &amp; CEO Dance. Founder SoundCloud and ar...</td>\n",
       "      <td>45706</td>\n",
       "      <td>2000</td>\n",
       "      <td>Eric</td>\n",
       "      <td>...</td>\n",
       "      <td>artist-stations:2</td>\n",
       "      <td>creator-pro-unlimited</td>\n",
       "      <td>soundcloud:users:2</td>\n",
       "      <td>True</td>\n",
       "      <td>[{'urn': 'soundcloud:visuals:105136722', 'entr...</td>\n",
       "      <td>NaN</td>\n",
       "      <td>False</td>\n",
       "      <td>True</td>\n",
       "      <td>False</td>\n",
       "      <td>NaN</td>\n",
       "    </tr>\n",
       "    <tr>\n",
       "      <th>1</th>\n",
       "      <td>https://i1.sndcdn.com/avatars-000019102368-0eu...</td>\n",
       "      <td>Stockholm</td>\n",
       "      <td>31</td>\n",
       "      <td>DE</td>\n",
       "      <td>2007-07-20T17:54:00Z</td>\n",
       "      <td>[{'product': {'id': 'free'}}]</td>\n",
       "      <td>Opps, I can change Johans description. /emil</td>\n",
       "      <td>8325</td>\n",
       "      <td>139</td>\n",
       "      <td>Emil</td>\n",
       "      <td>...</td>\n",
       "      <td>artist-stations:6</td>\n",
       "      <td>free</td>\n",
       "      <td>NaN</td>\n",
       "      <td>NaN</td>\n",
       "      <td>NaN</td>\n",
       "      <td>NaN</td>\n",
       "      <td>False</td>\n",
       "      <td>False</td>\n",
       "      <td>False</td>\n",
       "      <td>NaN</td>\n",
       "    </tr>\n",
       "    <tr>\n",
       "      <th>2</th>\n",
       "      <td>https://i1.sndcdn.com/avatars-000208970259-vng...</td>\n",
       "      <td>Berlin/NYC</td>\n",
       "      <td>697</td>\n",
       "      <td>DE</td>\n",
       "      <td>2007-07-25T23:08:00Z</td>\n",
       "      <td>[{'product': {'id': 'creator-pro-unlimited'}}]</td>\n",
       "      <td>Hi, my name is Alex. I like Sound. Founder &amp; C...</td>\n",
       "      <td>180212</td>\n",
       "      <td>1715</td>\n",
       "      <td>Alexander</td>\n",
       "      <td>...</td>\n",
       "      <td>artist-stations:8</td>\n",
       "      <td>creator-pro-unlimited</td>\n",
       "      <td>soundcloud:users:8</td>\n",
       "      <td>True</td>\n",
       "      <td>[{'urn': 'soundcloud:visuals:3142', 'entry_tim...</td>\n",
       "      <td>NaN</td>\n",
       "      <td>False</td>\n",
       "      <td>True</td>\n",
       "      <td>False</td>\n",
       "      <td>NaN</td>\n",
       "    </tr>\n",
       "    <tr>\n",
       "      <th>3</th>\n",
       "      <td>https://a1.sndcdn.com/images/default_avatar_la...</td>\n",
       "      <td>Stockholm</td>\n",
       "      <td>5</td>\n",
       "      <td>SE</td>\n",
       "      <td>2007-07-27T14:15:18Z</td>\n",
       "      <td>[{'product': {'id': 'free'}}]</td>\n",
       "      <td>NaN</td>\n",
       "      <td>1246</td>\n",
       "      <td>51</td>\n",
       "      <td>Filip</td>\n",
       "      <td>...</td>\n",
       "      <td>artist-stations:10</td>\n",
       "      <td>free</td>\n",
       "      <td>NaN</td>\n",
       "      <td>NaN</td>\n",
       "      <td>NaN</td>\n",
       "      <td>NaN</td>\n",
       "      <td>False</td>\n",
       "      <td>False</td>\n",
       "      <td>False</td>\n",
       "      <td>NaN</td>\n",
       "    </tr>\n",
       "    <tr>\n",
       "      <th>4</th>\n",
       "      <td>https://i1.sndcdn.com/avatars-YU1Y4hVJyNPwYfRI...</td>\n",
       "      <td>NaN</td>\n",
       "      <td>506</td>\n",
       "      <td>NaN</td>\n",
       "      <td>2007-07-27T14:18:00Z</td>\n",
       "      <td>[{'product': {'id': 'creator-pro-unlimited'}}]</td>\n",
       "      <td>Tell us about Youssef!</td>\n",
       "      <td>23033</td>\n",
       "      <td>459</td>\n",
       "      <td>Hannes</td>\n",
       "      <td>...</td>\n",
       "      <td>artist-stations:12</td>\n",
       "      <td>creator-pro-unlimited</td>\n",
       "      <td>NaN</td>\n",
       "      <td>NaN</td>\n",
       "      <td>NaN</td>\n",
       "      <td>NaN</td>\n",
       "      <td>False</td>\n",
       "      <td>True</td>\n",
       "      <td>False</td>\n",
       "      <td>NaN</td>\n",
       "    </tr>\n",
       "  </tbody>\n",
       "</table>\n",
       "<p>5 rows × 38 columns</p>\n",
       "</div>"
      ],
      "text/plain": [
       "                                          avatar_url        city  \\\n",
       "0  https://i1.sndcdn.com/avatars-LQHwEEFP8SciWWEl...      Berlin   \n",
       "1  https://i1.sndcdn.com/avatars-000019102368-0eu...   Stockholm   \n",
       "2  https://i1.sndcdn.com/avatars-000208970259-vng...  Berlin/NYC   \n",
       "3  https://a1.sndcdn.com/images/default_avatar_la...   Stockholm   \n",
       "4  https://i1.sndcdn.com/avatars-YU1Y4hVJyNPwYfRI...         NaN   \n",
       "\n",
       "   comments_count country_code            created_at  \\\n",
       "0             384           DE  2007-07-20T16:07:00Z   \n",
       "1              31           DE  2007-07-20T17:54:00Z   \n",
       "2             697           DE  2007-07-25T23:08:00Z   \n",
       "3               5           SE  2007-07-27T14:15:18Z   \n",
       "4             506          NaN  2007-07-27T14:18:00Z   \n",
       "\n",
       "                            creator_subscriptions  \\\n",
       "0  [{'product': {'id': 'creator-pro-unlimited'}}]   \n",
       "1                   [{'product': {'id': 'free'}}]   \n",
       "2  [{'product': {'id': 'creator-pro-unlimited'}}]   \n",
       "3                   [{'product': {'id': 'free'}}]   \n",
       "4  [{'product': {'id': 'creator-pro-unlimited'}}]   \n",
       "\n",
       "                                         description  followers_count  \\\n",
       "0  Founder & CEO Dance. Founder SoundCloud and ar...            45706   \n",
       "1       Opps, I can change Johans description. /emil             8325   \n",
       "2  Hi, my name is Alex. I like Sound. Founder & C...           180212   \n",
       "3                                                NaN             1246   \n",
       "4                             Tell us about Youssef!            23033   \n",
       "\n",
       "   followings_count first_name  ...   station_permalink  \\\n",
       "0              2000       Eric  ...   artist-stations:2   \n",
       "1               139       Emil  ...   artist-stations:6   \n",
       "2              1715  Alexander  ...   artist-stations:8   \n",
       "3                51      Filip  ...  artist-stations:10   \n",
       "4               459     Hannes  ...  artist-stations:12   \n",
       "\n",
       "   creator_subscription.product.id         visuals.urn visuals.enabled  \\\n",
       "0            creator-pro-unlimited  soundcloud:users:2            True   \n",
       "1                             free                 NaN             NaN   \n",
       "2            creator-pro-unlimited  soundcloud:users:8            True   \n",
       "3                             free                 NaN             NaN   \n",
       "4            creator-pro-unlimited                 NaN             NaN   \n",
       "\n",
       "                                     visuals.visuals visuals.tracking  \\\n",
       "0  [{'urn': 'soundcloud:visuals:105136722', 'entr...              NaN   \n",
       "1                                                NaN              NaN   \n",
       "2  [{'urn': 'soundcloud:visuals:3142', 'entry_tim...              NaN   \n",
       "3                                                NaN              NaN   \n",
       "4                                                NaN              NaN   \n",
       "\n",
       "   badges.pro  badges.pro_unlimited badges.verified visuals  \n",
       "0       False                  True           False     NaN  \n",
       "1       False                 False           False     NaN  \n",
       "2       False                  True           False     NaN  \n",
       "3       False                 False           False     NaN  \n",
       "4       False                  True           False     NaN  \n",
       "\n",
       "[5 rows x 38 columns]"
      ]
     },
     "execution_count": 108,
     "metadata": {},
     "output_type": "execute_result"
    }
   ],
   "source": [
    "users.head()"
   ]
  },
  {
   "cell_type": "markdown",
   "id": "dfc5eabd",
   "metadata": {},
   "source": [
    "- **Tóm tắt**"
   ]
  },
  {
   "cell_type": "markdown",
   "id": "7e0561f3",
   "metadata": {},
   "source": [
    "|Thuộc tính|Kiểu dữ liệu|     Ý nghĩa  \n",
    "|:--------:|:-------------:|:-----------:\n",
    "|**avatar_url**|Chuỗi |Đường dẫn đến ản đại diện của user|\n",
    "|**created_at**|Thời gian|Thời gian khởi tạo user|   \n",
    "|**description**|Chuỗi|Mô tả user của người đăng tải| \n",
    "|**city**|Chuỗi|Thành phố user đang sống|\n",
    "|**country_code**|Chuỗi|Mã quốc gia user đang sống|\n",
    "|**id**|Kiểu phân loại|Định danh của user|\n",
    "|**comments_count**|Số nguyên|Số lượt bình luận của user|\n",
    "|**likes_count**|Số nguyên|Số lượt được yêu thích của user|\n",
    "|**followers_count**|Số nguyên|Số lượt theo dõi của user|\n",
    "|**followings_count**|Số nguyên|Số lượt user theo dõi|\n",
    "|**playlist_likes_count**|Số nguyên|Số lượt được yêu thích các playlist của user|\n",
    "|**playlist_count**|Số nguyên|Số playlist của user|\n",
    "|**reposts_count**|Số nguyên|Số bài đăng lại của user|\n",
    "|**track_count**|Số nguyên|Số lượng track của user|\n",
    "|**kind**|Chuỗi|Loại đối tượng|\n",
    "|**last_modified**|Thời gian|Lần chỉnh sửa cuối cùng| \n",
    "|**first_name**|Chuỗi|Tên của user|   \n",
    "|**last_name**|Chuỗi|Họ của user|  \n",
    "|**full_name**|Chuỗi|Tên đầy đủ của user| \n",
    "|**username**|Chuỗi|Tên đăng nhập của user|   \n",
    "|**groups_count**|Số nguyên|Số nhóm của user|\n",
    "|**permalink**|Chuỗi|Đường dẫn cố định của tài nguyên| \n",
    "|**permalink_url**|Chuỗi|Đường dẫn đến trang Soundcloud |   \n",
    "|**uri**|Chuỗi|Đường dẫn API của user|    \n",
    "|**url**|Chuỗi|Đường dẫn API của user|    \n",
    "|**urn**|Chuỗi|Đường dẫn API của user|    \n",
    "|**creator_subscriptions**|Chuỗi|Loại thành viên của user|    \n",
    "|**creator_subscription.product.id**|Chuỗi|Loại thành viên của user|    \n",
    "|**badges.pro_unlimited'**|Luận lý|User có phải người dùng pro_unlimited không|\n",
    "|**verified**|Luận lý|Xác thực người dùng|\n",
    "|**visuals**|Số thực||\n",
    "|**visuals.urn**|Chuỗi\n",
    "|**visuals.enabled**|Chuỗi|\n",
    "|**visuals.visuals**|Chuỗi|\n",
    "|**visuals.tracking**|Số thực|"
   ]
  },
  {
   "cell_type": "code",
   "execution_count": 109,
   "id": "4cce8206",
   "metadata": {},
   "outputs": [
    {
     "name": "stdout",
     "output_type": "stream",
     "text": [
      "<class 'pandas.core.frame.DataFrame'>\n",
      "RangeIndex: 1500 entries, 0 to 1499\n",
      "Data columns (total 38 columns):\n",
      " #   Column                           Non-Null Count  Dtype  \n",
      "---  ------                           --------------  -----  \n",
      " 0   avatar_url                       1500 non-null   object \n",
      " 1   city                             978 non-null    object \n",
      " 2   comments_count                   1500 non-null   int64  \n",
      " 3   country_code                     1006 non-null   object \n",
      " 4   created_at                       1500 non-null   object \n",
      " 5   creator_subscriptions            1500 non-null   object \n",
      " 6   description                      647 non-null    object \n",
      " 7   followers_count                  1500 non-null   int64  \n",
      " 8   followings_count                 1500 non-null   int64  \n",
      " 9   first_name                       1179 non-null   object \n",
      " 10  full_name                        1180 non-null   object \n",
      " 11  groups_count                     1500 non-null   int64  \n",
      " 12  id                               1500 non-null   int64  \n",
      " 13  kind                             1500 non-null   object \n",
      " 14  last_modified                    1500 non-null   object \n",
      " 15  last_name                        1044 non-null   object \n",
      " 16  likes_count                      1500 non-null   int64  \n",
      " 17  playlist_likes_count             1500 non-null   int64  \n",
      " 18  permalink                        1500 non-null   object \n",
      " 19  permalink_url                    1500 non-null   object \n",
      " 20  playlist_count                   1500 non-null   int64  \n",
      " 21  reposts_count                    0 non-null      float64\n",
      " 22  track_count                      1500 non-null   int64  \n",
      " 23  uri                              1500 non-null   object \n",
      " 24  urn                              1500 non-null   object \n",
      " 25  username                         1500 non-null   object \n",
      " 26  verified                         1500 non-null   bool   \n",
      " 27  station_urn                      1500 non-null   object \n",
      " 28  station_permalink                1500 non-null   object \n",
      " 29  creator_subscription.product.id  1500 non-null   object \n",
      " 30  visuals.urn                      445 non-null    object \n",
      " 31  visuals.enabled                  445 non-null    object \n",
      " 32  visuals.visuals                  445 non-null    object \n",
      " 33  visuals.tracking                 0 non-null      float64\n",
      " 34  badges.pro                       1500 non-null   bool   \n",
      " 35  badges.pro_unlimited             1500 non-null   bool   \n",
      " 36  badges.verified                  1500 non-null   bool   \n",
      " 37  visuals                          0 non-null      float64\n",
      "dtypes: bool(4), float64(3), int64(9), object(22)\n",
      "memory usage: 404.4+ KB\n"
     ]
    }
   ],
   "source": [
    "users.info()"
   ]
  },
  {
   "cell_type": "markdown",
   "id": "1da79050",
   "metadata": {},
   "source": [
    "- Dựa quá trình phân tích dữ liệu thì ta thấy được 3 thuộc tính ```visuals```, ```visuals.tracking``` và  ```visuals.tracking``` có phần trăm thiếu dữ liệu là 100%, ta tiến hành xóa 3 thuộc tính đó"
   ]
  },
  {
   "cell_type": "code",
   "execution_count": 110,
   "id": "9c0a9e3e",
   "metadata": {},
   "outputs": [],
   "source": [
    "users.drop(columns=[\"visuals\", \"visuals.tracking\", \"reposts_count\"], inplace=True)"
   ]
  },
  {
   "cell_type": "code",
   "execution_count": 111,
   "id": "b9dfb305",
   "metadata": {},
   "outputs": [
    {
     "data": {
      "text/plain": [
       "False    1307\n",
       "True      193\n",
       "Name: badges.pro_unlimited, dtype: int64"
      ]
     },
     "execution_count": 111,
     "metadata": {},
     "output_type": "execute_result"
    }
   ],
   "source": [
    "users[\"badges.pro_unlimited\"].value_counts()"
   ]
  },
  {
   "cell_type": "markdown",
   "id": "21c879c0",
   "metadata": {},
   "source": [
    "**a. Phân tích các thuộc tính định danh mỗi người dùng**"
   ]
  },
  {
   "cell_type": "markdown",
   "id": "903d78c7",
   "metadata": {},
   "source": [
    "- Dựa và các bảng sau khi phân tích ý nghĩa của từng loại thuộc tính, ta thấy rằng các thuộc tính ```avatar_url```, ```first_name ```, ```full_name```, ```id```, ```uri```, ```urn```, ```permalink_url```, ```permalink``` và ```username``` đều dùng để định danh cho người dùng"
   ]
  },
  {
   "cell_type": "code",
   "execution_count": 112,
   "id": "a4391b10",
   "metadata": {},
   "outputs": [
    {
     "name": "stdout",
     "output_type": "stream",
     "text": [
      "Số lượng id: 1500\n",
      "Số lượng permalink_url: 1500\n",
      "Số lượng avatar_url: 1200\n",
      "Số lượng first_name: 852\n",
      "Số lượng last_name: 999\n",
      "Số lượng full_name: 1179\n",
      "Số lượng username: 1500\n",
      "Số lượng permalink_url: 1500\n",
      "Số lượng permalink: 1500\n",
      "Số lượng uri: 1500\n",
      "Số lượng urn: 1500\n"
     ]
    }
   ],
   "source": [
    "print(f\"Số lượng id: {users['id'].nunique()}\")\n",
    "print(f\"Số lượng permalink_url: {users['permalink_url'].nunique()}\")\n",
    "print(f\"Số lượng avatar_url: {users['avatar_url'].nunique()}\")\n",
    "print(f\"Số lượng first_name: {users['first_name'].nunique()}\")\n",
    "print(f\"Số lượng last_name: {users['last_name'].nunique()}\")\n",
    "print(f\"Số lượng full_name: {users['full_name'].nunique()}\")\n",
    "print(f\"Số lượng username: {users['username'].nunique()}\")\n",
    "      \n",
    "print(f\"Số lượng permalink_url: {users['permalink_url'].nunique()}\")\n",
    "print(f\"Số lượng permalink: {users['permalink'].nunique()}\")\n",
    "      \n",
    "print(f\"Số lượng uri: {users['uri'].nunique()}\")         \n",
    "print(f\"Số lượng urn: {users['urn'].nunique()}\")     "
   ]
  },
  {
   "cell_type": "markdown",
   "id": "096d1b59",
   "metadata": {},
   "source": [
    "- Sau khi đếm số lượng ta thấy lương dữ liệu đa số là 100%, còn 1 vài phần dữ liệu bị thiếu ở các thuộc tính như ```avatar_url```, ```first_name```, ```last_name```, ```full_name```, "
   ]
  },
  {
   "cell_type": "markdown",
   "id": "39c8e7a4",
   "metadata": {},
   "source": [
    "**b. Phân tích các thuộc tính trùng lắp**"
   ]
  },
  {
   "cell_type": "markdown",
   "id": "6f3033e8",
   "metadata": {},
   "source": [
    "- Dựa vào bảng phân tích ý nghĩa của thuộc tính, ta tiến hành xét 2 thuộc tính ```created_at``` và ```last_modified``` có bị trùng nhau hay không tại vì có thể người dùng có thể vào tạo tài khoản và xem "
   ]
  },
  {
   "cell_type": "code",
   "execution_count": 113,
   "id": "f4bf7997",
   "metadata": {},
   "outputs": [
    {
     "data": {
      "text/html": [
       "<div>\n",
       "<style scoped>\n",
       "    .dataframe tbody tr th:only-of-type {\n",
       "        vertical-align: middle;\n",
       "    }\n",
       "\n",
       "    .dataframe tbody tr th {\n",
       "        vertical-align: top;\n",
       "    }\n",
       "\n",
       "    .dataframe thead th {\n",
       "        text-align: right;\n",
       "    }\n",
       "</style>\n",
       "<table border=\"1\" class=\"dataframe\">\n",
       "  <thead>\n",
       "    <tr style=\"text-align: right;\">\n",
       "      <th></th>\n",
       "      <th>created_at</th>\n",
       "      <th>last_modified</th>\n",
       "    </tr>\n",
       "  </thead>\n",
       "  <tbody>\n",
       "    <tr>\n",
       "      <th>0</th>\n",
       "      <td>2007-07-20T16:07:00Z</td>\n",
       "      <td>2020-07-21T08:17:59Z</td>\n",
       "    </tr>\n",
       "    <tr>\n",
       "      <th>1</th>\n",
       "      <td>2007-07-20T17:54:00Z</td>\n",
       "      <td>2020-01-06T18:00:02Z</td>\n",
       "    </tr>\n",
       "    <tr>\n",
       "      <th>2</th>\n",
       "      <td>2007-07-25T23:08:00Z</td>\n",
       "      <td>2020-10-20T14:38:52Z</td>\n",
       "    </tr>\n",
       "    <tr>\n",
       "      <th>3</th>\n",
       "      <td>2007-07-27T14:15:18Z</td>\n",
       "      <td>2017-07-10T18:35:14Z</td>\n",
       "    </tr>\n",
       "    <tr>\n",
       "      <th>4</th>\n",
       "      <td>2007-07-27T14:18:00Z</td>\n",
       "      <td>2020-04-28T18:50:42Z</td>\n",
       "    </tr>\n",
       "    <tr>\n",
       "      <th>...</th>\n",
       "      <td>...</td>\n",
       "      <td>...</td>\n",
       "    </tr>\n",
       "    <tr>\n",
       "      <th>1495</th>\n",
       "      <td>2008-06-15T18:13:29Z</td>\n",
       "      <td>2020-11-09T01:34:50Z</td>\n",
       "    </tr>\n",
       "    <tr>\n",
       "      <th>1496</th>\n",
       "      <td>2008-06-15T18:17:49Z</td>\n",
       "      <td>2017-10-08T10:21:15Z</td>\n",
       "    </tr>\n",
       "    <tr>\n",
       "      <th>1497</th>\n",
       "      <td>2008-06-15T18:21:32Z</td>\n",
       "      <td>2018-05-07T11:58:09Z</td>\n",
       "    </tr>\n",
       "    <tr>\n",
       "      <th>1498</th>\n",
       "      <td>2008-06-15T18:35:13Z</td>\n",
       "      <td>2017-04-24T16:12:24Z</td>\n",
       "    </tr>\n",
       "    <tr>\n",
       "      <th>1499</th>\n",
       "      <td>2008-06-15T19:06:20Z</td>\n",
       "      <td>2009-03-05T17:03:23Z</td>\n",
       "    </tr>\n",
       "  </tbody>\n",
       "</table>\n",
       "<p>1500 rows × 2 columns</p>\n",
       "</div>"
      ],
      "text/plain": [
       "                created_at         last_modified\n",
       "0     2007-07-20T16:07:00Z  2020-07-21T08:17:59Z\n",
       "1     2007-07-20T17:54:00Z  2020-01-06T18:00:02Z\n",
       "2     2007-07-25T23:08:00Z  2020-10-20T14:38:52Z\n",
       "3     2007-07-27T14:15:18Z  2017-07-10T18:35:14Z\n",
       "4     2007-07-27T14:18:00Z  2020-04-28T18:50:42Z\n",
       "...                    ...                   ...\n",
       "1495  2008-06-15T18:13:29Z  2020-11-09T01:34:50Z\n",
       "1496  2008-06-15T18:17:49Z  2017-10-08T10:21:15Z\n",
       "1497  2008-06-15T18:21:32Z  2018-05-07T11:58:09Z\n",
       "1498  2008-06-15T18:35:13Z  2017-04-24T16:12:24Z\n",
       "1499  2008-06-15T19:06:20Z  2009-03-05T17:03:23Z\n",
       "\n",
       "[1500 rows x 2 columns]"
      ]
     },
     "execution_count": 113,
     "metadata": {},
     "output_type": "execute_result"
    }
   ],
   "source": [
    "users[[\"created_at\", \"last_modified\" ]]"
   ]
  },
  {
   "cell_type": "code",
   "execution_count": 114,
   "id": "739abfb0",
   "metadata": {},
   "outputs": [
    {
     "name": "stdout",
     "output_type": "stream",
     "text": [
      "Số lương bị thông tin bị trùng lắp dữ liệu giữa 2 thuộc tính:  1\n"
     ]
    }
   ],
   "source": [
    "temp = np.where(users[\"created_at\"] == users[\"last_modified\"])\n",
    "print(\"Số lương bị thông tin bị trùng lắp dữ liệu giữa 2 thuộc tính: \", len(temp))"
   ]
  },
  {
   "cell_type": "markdown",
   "id": "7e43e454",
   "metadata": {},
   "source": [
    "- Tiếp tục phân tích 3 thuộc tính ```creator_subscription.product.id```, ```badges.pro_unlimited ``` và ```creator_subscriptions ```"
   ]
  },
  {
   "cell_type": "code",
   "execution_count": 115,
   "id": "cce1781f",
   "metadata": {},
   "outputs": [
    {
     "data": {
      "text/html": [
       "<div>\n",
       "<style scoped>\n",
       "    .dataframe tbody tr th:only-of-type {\n",
       "        vertical-align: middle;\n",
       "    }\n",
       "\n",
       "    .dataframe tbody tr th {\n",
       "        vertical-align: top;\n",
       "    }\n",
       "\n",
       "    .dataframe thead th {\n",
       "        text-align: right;\n",
       "    }\n",
       "</style>\n",
       "<table border=\"1\" class=\"dataframe\">\n",
       "  <thead>\n",
       "    <tr style=\"text-align: right;\">\n",
       "      <th></th>\n",
       "      <th>creator_subscriptions</th>\n",
       "      <th>badges.pro_unlimited</th>\n",
       "      <th>creator_subscription.product.id</th>\n",
       "    </tr>\n",
       "  </thead>\n",
       "  <tbody>\n",
       "    <tr>\n",
       "      <th>0</th>\n",
       "      <td>[{'product': {'id': 'creator-pro-unlimited'}}]</td>\n",
       "      <td>True</td>\n",
       "      <td>creator-pro-unlimited</td>\n",
       "    </tr>\n",
       "    <tr>\n",
       "      <th>1</th>\n",
       "      <td>[{'product': {'id': 'free'}}]</td>\n",
       "      <td>False</td>\n",
       "      <td>free</td>\n",
       "    </tr>\n",
       "    <tr>\n",
       "      <th>2</th>\n",
       "      <td>[{'product': {'id': 'creator-pro-unlimited'}}]</td>\n",
       "      <td>True</td>\n",
       "      <td>creator-pro-unlimited</td>\n",
       "    </tr>\n",
       "    <tr>\n",
       "      <th>3</th>\n",
       "      <td>[{'product': {'id': 'free'}}]</td>\n",
       "      <td>False</td>\n",
       "      <td>free</td>\n",
       "    </tr>\n",
       "    <tr>\n",
       "      <th>4</th>\n",
       "      <td>[{'product': {'id': 'creator-pro-unlimited'}}]</td>\n",
       "      <td>True</td>\n",
       "      <td>creator-pro-unlimited</td>\n",
       "    </tr>\n",
       "    <tr>\n",
       "      <th>...</th>\n",
       "      <td>...</td>\n",
       "      <td>...</td>\n",
       "      <td>...</td>\n",
       "    </tr>\n",
       "    <tr>\n",
       "      <th>1495</th>\n",
       "      <td>[{'product': {'id': 'creator-pro-unlimited'}}]</td>\n",
       "      <td>True</td>\n",
       "      <td>creator-pro-unlimited</td>\n",
       "    </tr>\n",
       "    <tr>\n",
       "      <th>1496</th>\n",
       "      <td>[{'product': {'id': 'free'}}]</td>\n",
       "      <td>False</td>\n",
       "      <td>free</td>\n",
       "    </tr>\n",
       "    <tr>\n",
       "      <th>1497</th>\n",
       "      <td>[{'product': {'id': 'free'}}]</td>\n",
       "      <td>False</td>\n",
       "      <td>free</td>\n",
       "    </tr>\n",
       "    <tr>\n",
       "      <th>1498</th>\n",
       "      <td>[{'product': {'id': 'free'}}]</td>\n",
       "      <td>False</td>\n",
       "      <td>free</td>\n",
       "    </tr>\n",
       "    <tr>\n",
       "      <th>1499</th>\n",
       "      <td>[{'product': {'id': 'free'}}]</td>\n",
       "      <td>False</td>\n",
       "      <td>free</td>\n",
       "    </tr>\n",
       "  </tbody>\n",
       "</table>\n",
       "<p>1500 rows × 3 columns</p>\n",
       "</div>"
      ],
      "text/plain": [
       "                               creator_subscriptions  badges.pro_unlimited  \\\n",
       "0     [{'product': {'id': 'creator-pro-unlimited'}}]                  True   \n",
       "1                      [{'product': {'id': 'free'}}]                 False   \n",
       "2     [{'product': {'id': 'creator-pro-unlimited'}}]                  True   \n",
       "3                      [{'product': {'id': 'free'}}]                 False   \n",
       "4     [{'product': {'id': 'creator-pro-unlimited'}}]                  True   \n",
       "...                                              ...                   ...   \n",
       "1495  [{'product': {'id': 'creator-pro-unlimited'}}]                  True   \n",
       "1496                   [{'product': {'id': 'free'}}]                 False   \n",
       "1497                   [{'product': {'id': 'free'}}]                 False   \n",
       "1498                   [{'product': {'id': 'free'}}]                 False   \n",
       "1499                   [{'product': {'id': 'free'}}]                 False   \n",
       "\n",
       "     creator_subscription.product.id  \n",
       "0              creator-pro-unlimited  \n",
       "1                               free  \n",
       "2              creator-pro-unlimited  \n",
       "3                               free  \n",
       "4              creator-pro-unlimited  \n",
       "...                              ...  \n",
       "1495           creator-pro-unlimited  \n",
       "1496                            free  \n",
       "1497                            free  \n",
       "1498                            free  \n",
       "1499                            free  \n",
       "\n",
       "[1500 rows x 3 columns]"
      ]
     },
     "execution_count": 115,
     "metadata": {},
     "output_type": "execute_result"
    }
   ],
   "source": [
    "users[[\"creator_subscriptions\", \"badges.pro_unlimited\", \"creator_subscription.product.id\"]]"
   ]
  },
  {
   "cell_type": "markdown",
   "id": "4927c703",
   "metadata": {},
   "source": [
    "=> 3 thuộc tính đều biểu diễn chung 1 ý nghĩa"
   ]
  },
  {
   "cell_type": "markdown",
   "id": "4fd81e02",
   "metadata": {},
   "source": [
    "- Phân tích 2 thuộc tính ```station_urn``` và ```station_permalink ```"
   ]
  },
  {
   "cell_type": "code",
   "execution_count": 116,
   "id": "5dc70f50",
   "metadata": {},
   "outputs": [
    {
     "data": {
      "text/html": [
       "<div>\n",
       "<style scoped>\n",
       "    .dataframe tbody tr th:only-of-type {\n",
       "        vertical-align: middle;\n",
       "    }\n",
       "\n",
       "    .dataframe tbody tr th {\n",
       "        vertical-align: top;\n",
       "    }\n",
       "\n",
       "    .dataframe thead th {\n",
       "        text-align: right;\n",
       "    }\n",
       "</style>\n",
       "<table border=\"1\" class=\"dataframe\">\n",
       "  <thead>\n",
       "    <tr style=\"text-align: right;\">\n",
       "      <th></th>\n",
       "      <th>station_urn</th>\n",
       "      <th>station_permalink</th>\n",
       "    </tr>\n",
       "  </thead>\n",
       "  <tbody>\n",
       "    <tr>\n",
       "      <th>0</th>\n",
       "      <td>soundcloud:system-playlists:artist-stations:2</td>\n",
       "      <td>artist-stations:2</td>\n",
       "    </tr>\n",
       "    <tr>\n",
       "      <th>1</th>\n",
       "      <td>soundcloud:system-playlists:artist-stations:6</td>\n",
       "      <td>artist-stations:6</td>\n",
       "    </tr>\n",
       "    <tr>\n",
       "      <th>2</th>\n",
       "      <td>soundcloud:system-playlists:artist-stations:8</td>\n",
       "      <td>artist-stations:8</td>\n",
       "    </tr>\n",
       "    <tr>\n",
       "      <th>3</th>\n",
       "      <td>soundcloud:system-playlists:artist-stations:10</td>\n",
       "      <td>artist-stations:10</td>\n",
       "    </tr>\n",
       "    <tr>\n",
       "      <th>4</th>\n",
       "      <td>soundcloud:system-playlists:artist-stations:12</td>\n",
       "      <td>artist-stations:12</td>\n",
       "    </tr>\n",
       "    <tr>\n",
       "      <th>...</th>\n",
       "      <td>...</td>\n",
       "      <td>...</td>\n",
       "    </tr>\n",
       "    <tr>\n",
       "      <th>1495</th>\n",
       "      <td>soundcloud:system-playlists:artist-stations:3262</td>\n",
       "      <td>artist-stations:3262</td>\n",
       "    </tr>\n",
       "    <tr>\n",
       "      <th>1496</th>\n",
       "      <td>soundcloud:system-playlists:artist-stations:3264</td>\n",
       "      <td>artist-stations:3264</td>\n",
       "    </tr>\n",
       "    <tr>\n",
       "      <th>1497</th>\n",
       "      <td>soundcloud:system-playlists:artist-stations:3266</td>\n",
       "      <td>artist-stations:3266</td>\n",
       "    </tr>\n",
       "    <tr>\n",
       "      <th>1498</th>\n",
       "      <td>soundcloud:system-playlists:artist-stations:3268</td>\n",
       "      <td>artist-stations:3268</td>\n",
       "    </tr>\n",
       "    <tr>\n",
       "      <th>1499</th>\n",
       "      <td>soundcloud:system-playlists:artist-stations:3270</td>\n",
       "      <td>artist-stations:3270</td>\n",
       "    </tr>\n",
       "  </tbody>\n",
       "</table>\n",
       "<p>1500 rows × 2 columns</p>\n",
       "</div>"
      ],
      "text/plain": [
       "                                           station_urn     station_permalink\n",
       "0        soundcloud:system-playlists:artist-stations:2     artist-stations:2\n",
       "1        soundcloud:system-playlists:artist-stations:6     artist-stations:6\n",
       "2        soundcloud:system-playlists:artist-stations:8     artist-stations:8\n",
       "3       soundcloud:system-playlists:artist-stations:10    artist-stations:10\n",
       "4       soundcloud:system-playlists:artist-stations:12    artist-stations:12\n",
       "...                                                ...                   ...\n",
       "1495  soundcloud:system-playlists:artist-stations:3262  artist-stations:3262\n",
       "1496  soundcloud:system-playlists:artist-stations:3264  artist-stations:3264\n",
       "1497  soundcloud:system-playlists:artist-stations:3266  artist-stations:3266\n",
       "1498  soundcloud:system-playlists:artist-stations:3268  artist-stations:3268\n",
       "1499  soundcloud:system-playlists:artist-stations:3270  artist-stations:3270\n",
       "\n",
       "[1500 rows x 2 columns]"
      ]
     },
     "execution_count": 116,
     "metadata": {},
     "output_type": "execute_result"
    }
   ],
   "source": [
    "users[[\"station_urn\", \"station_permalink\"]]"
   ]
  },
  {
   "cell_type": "markdown",
   "id": "807f97fb",
   "metadata": {},
   "source": [
    "=> 2 thuộc tích đều biểu diễn chung ý nghĩa"
   ]
  },
  {
   "cell_type": "markdown",
   "id": "dcfc851f",
   "metadata": {},
   "source": [
    "**c. Phân tích các thuộc tính không đóng góp gì vào dữ liệu**"
   ]
  },
  {
   "cell_type": "code",
   "execution_count": 117,
   "id": "2c4f800d",
   "metadata": {},
   "outputs": [
    {
     "name": "stdout",
     "output_type": "stream",
     "text": [
      "Số lương groups_count: 1\n",
      "Số lương kind: 1\n",
      "Số lương visuals.enabled: 1\n"
     ]
    }
   ],
   "source": [
    "for col in users:\n",
    "    if (users[col].nunique() == 1):\n",
    "        print(f'Số lương {col}: {users[col].nunique()}')"
   ]
  },
  {
   "cell_type": "markdown",
   "id": "83663325",
   "metadata": {},
   "source": [
    "### Phân tích tổng quát và chọn thuộc tính cần thiết"
   ]
  },
  {
   "cell_type": "markdown",
   "id": "6d5818f2",
   "metadata": {},
   "source": [
    "##### Phân tích\n",
    "- Các thuộc tính định danh cho người dùng: ```avatar_url```, ```first_name ```, ```full_name```, ```id```, ```uri```, ```urn```, ```permalink_url```, ```permalink``` và ```username``` => Ta chọn thuộc tính ID để đại diện cho các thuộc tính còn lại\n",
    "- Các cặp bị trùng lắp ý nghĩa\n",
    "  + Cặp thuộc tính: ```creator_subscriptions```, ```badges.pro_unlimited``` và ```creator_subscription.product.id``` \n",
    "    => Ta sẽ chọn thuộc tính ```creator_subscription.product.id``` làm đại diện cho 2 thuộc tính còn lại\n",
    "  + Cặp thuộc tính: ```station_urn``` và  ```station_permalink``` => ta sẽ chọn thuộc tính ```station_permalink``` làm đại diện\n",
    "- Thuộc tính không đóng góp vào dữ liệu: ```groups_count```, ```kind``` và ```visuals.enabled```\n",
    "- thuộc tính không hiểu mục đích của thuộc tính đó: ```visuals```, ```visuals.urn```, ```visuals.enabled```, ```visuals.visuals``` , \n",
    "```visuals.tracking```, ``````\n",
    "\n",
    "##### Lựa chọn các thuộc tính cần thiết \n",
    "- ```id```\n",
    "- ```city```\n",
    "- ```country_code```\n",
    "- ```comments_count```\n",
    "- ```created_at```\n",
    "- ```last_modified```\n",
    "- ```description```\n",
    "- ```likes_count```\n",
    "- ```followings_count```\n",
    "- ```followers_count```\n",
    "- ```playlist_likes_count```\n",
    "- ```playlist_count```\n",
    "- ```track_count```\n",
    "- ```verified```\n",
    "- ```station_permalink```\n",
    "- ```badges.pro_unlimited```\n",
    "- ```badges.pro```\n",
    "- ```badges.verified```"
   ]
  },
  {
   "cell_type": "code",
   "execution_count": 118,
   "id": "fd0c76d9",
   "metadata": {},
   "outputs": [],
   "source": [
    "new_users = users[['id', 'city', 'country_code', 'comments_count', 'created_at', 'last_modified', 'description', 'likes_count',\n",
    "                   'followings_count', 'followers_count', 'playlist_likes_count', 'playlist_count', 'track_count', 'verified',\n",
    "                    'station_permalink', 'badges.pro_unlimited', 'badges.pro', 'badges.verified']]"
   ]
  },
  {
   "cell_type": "markdown",
   "id": "b5e06499",
   "metadata": {},
   "source": [
    "**2. Tiền xử lí dữ liệu**"
   ]
  },
  {
   "cell_type": "code",
   "execution_count": 119,
   "id": "5754ac1b",
   "metadata": {},
   "outputs": [
    {
     "data": {
      "text/html": [
       "<div>\n",
       "<style scoped>\n",
       "    .dataframe tbody tr th:only-of-type {\n",
       "        vertical-align: middle;\n",
       "    }\n",
       "\n",
       "    .dataframe tbody tr th {\n",
       "        vertical-align: top;\n",
       "    }\n",
       "\n",
       "    .dataframe thead th {\n",
       "        text-align: right;\n",
       "    }\n",
       "</style>\n",
       "<table border=\"1\" class=\"dataframe\">\n",
       "  <thead>\n",
       "    <tr style=\"text-align: right;\">\n",
       "      <th></th>\n",
       "      <th>id</th>\n",
       "      <th>city</th>\n",
       "      <th>country_code</th>\n",
       "      <th>comments_count</th>\n",
       "      <th>created_at</th>\n",
       "      <th>last_modified</th>\n",
       "      <th>description</th>\n",
       "      <th>likes_count</th>\n",
       "      <th>followings_count</th>\n",
       "      <th>followers_count</th>\n",
       "      <th>playlist_likes_count</th>\n",
       "      <th>playlist_count</th>\n",
       "      <th>track_count</th>\n",
       "      <th>verified</th>\n",
       "      <th>station_permalink</th>\n",
       "      <th>badges.pro_unlimited</th>\n",
       "      <th>badges.pro</th>\n",
       "      <th>badges.verified</th>\n",
       "    </tr>\n",
       "  </thead>\n",
       "  <tbody>\n",
       "    <tr>\n",
       "      <th>0</th>\n",
       "      <td>2</td>\n",
       "      <td>Berlin</td>\n",
       "      <td>DE</td>\n",
       "      <td>384</td>\n",
       "      <td>2007-07-20T16:07:00Z</td>\n",
       "      <td>2020-07-21T08:17:59Z</td>\n",
       "      <td>Founder &amp; CEO Dance. Founder SoundCloud and ar...</td>\n",
       "      <td>2654</td>\n",
       "      <td>2000</td>\n",
       "      <td>45706</td>\n",
       "      <td>397</td>\n",
       "      <td>24</td>\n",
       "      <td>64</td>\n",
       "      <td>False</td>\n",
       "      <td>artist-stations:2</td>\n",
       "      <td>True</td>\n",
       "      <td>False</td>\n",
       "      <td>False</td>\n",
       "    </tr>\n",
       "    <tr>\n",
       "      <th>1</th>\n",
       "      <td>6</td>\n",
       "      <td>Stockholm</td>\n",
       "      <td>DE</td>\n",
       "      <td>31</td>\n",
       "      <td>2007-07-20T17:54:00Z</td>\n",
       "      <td>2020-01-06T18:00:02Z</td>\n",
       "      <td>Opps, I can change Johans description. /emil</td>\n",
       "      <td>153</td>\n",
       "      <td>139</td>\n",
       "      <td>8325</td>\n",
       "      <td>6</td>\n",
       "      <td>0</td>\n",
       "      <td>2</td>\n",
       "      <td>False</td>\n",
       "      <td>artist-stations:6</td>\n",
       "      <td>False</td>\n",
       "      <td>False</td>\n",
       "      <td>False</td>\n",
       "    </tr>\n",
       "    <tr>\n",
       "      <th>2</th>\n",
       "      <td>8</td>\n",
       "      <td>Berlin/NYC</td>\n",
       "      <td>DE</td>\n",
       "      <td>697</td>\n",
       "      <td>2007-07-25T23:08:00Z</td>\n",
       "      <td>2020-10-20T14:38:52Z</td>\n",
       "      <td>Hi, my name is Alex. I like Sound. Founder &amp; C...</td>\n",
       "      <td>1680</td>\n",
       "      <td>1715</td>\n",
       "      <td>180212</td>\n",
       "      <td>351</td>\n",
       "      <td>34</td>\n",
       "      <td>268</td>\n",
       "      <td>False</td>\n",
       "      <td>artist-stations:8</td>\n",
       "      <td>True</td>\n",
       "      <td>False</td>\n",
       "      <td>False</td>\n",
       "    </tr>\n",
       "    <tr>\n",
       "      <th>3</th>\n",
       "      <td>10</td>\n",
       "      <td>Stockholm</td>\n",
       "      <td>SE</td>\n",
       "      <td>5</td>\n",
       "      <td>2007-07-27T14:15:18Z</td>\n",
       "      <td>2017-07-10T18:35:14Z</td>\n",
       "      <td>NaN</td>\n",
       "      <td>43</td>\n",
       "      <td>51</td>\n",
       "      <td>1246</td>\n",
       "      <td>4</td>\n",
       "      <td>0</td>\n",
       "      <td>3</td>\n",
       "      <td>False</td>\n",
       "      <td>artist-stations:10</td>\n",
       "      <td>False</td>\n",
       "      <td>False</td>\n",
       "      <td>False</td>\n",
       "    </tr>\n",
       "    <tr>\n",
       "      <th>4</th>\n",
       "      <td>12</td>\n",
       "      <td>NaN</td>\n",
       "      <td>NaN</td>\n",
       "      <td>506</td>\n",
       "      <td>2007-07-27T14:18:00Z</td>\n",
       "      <td>2020-04-28T18:50:42Z</td>\n",
       "      <td>Tell us about Youssef!</td>\n",
       "      <td>249</td>\n",
       "      <td>459</td>\n",
       "      <td>23033</td>\n",
       "      <td>105</td>\n",
       "      <td>11</td>\n",
       "      <td>82</td>\n",
       "      <td>False</td>\n",
       "      <td>artist-stations:12</td>\n",
       "      <td>True</td>\n",
       "      <td>False</td>\n",
       "      <td>False</td>\n",
       "    </tr>\n",
       "  </tbody>\n",
       "</table>\n",
       "</div>"
      ],
      "text/plain": [
       "   id        city country_code  comments_count            created_at  \\\n",
       "0   2      Berlin           DE             384  2007-07-20T16:07:00Z   \n",
       "1   6   Stockholm           DE              31  2007-07-20T17:54:00Z   \n",
       "2   8  Berlin/NYC           DE             697  2007-07-25T23:08:00Z   \n",
       "3  10   Stockholm           SE               5  2007-07-27T14:15:18Z   \n",
       "4  12         NaN          NaN             506  2007-07-27T14:18:00Z   \n",
       "\n",
       "          last_modified                                        description  \\\n",
       "0  2020-07-21T08:17:59Z  Founder & CEO Dance. Founder SoundCloud and ar...   \n",
       "1  2020-01-06T18:00:02Z       Opps, I can change Johans description. /emil   \n",
       "2  2020-10-20T14:38:52Z  Hi, my name is Alex. I like Sound. Founder & C...   \n",
       "3  2017-07-10T18:35:14Z                                                NaN   \n",
       "4  2020-04-28T18:50:42Z                             Tell us about Youssef!   \n",
       "\n",
       "   likes_count  followings_count  followers_count  playlist_likes_count  \\\n",
       "0         2654              2000            45706                   397   \n",
       "1          153               139             8325                     6   \n",
       "2         1680              1715           180212                   351   \n",
       "3           43                51             1246                     4   \n",
       "4          249               459            23033                   105   \n",
       "\n",
       "   playlist_count  track_count  verified   station_permalink  \\\n",
       "0              24           64     False   artist-stations:2   \n",
       "1               0            2     False   artist-stations:6   \n",
       "2              34          268     False   artist-stations:8   \n",
       "3               0            3     False  artist-stations:10   \n",
       "4              11           82     False  artist-stations:12   \n",
       "\n",
       "   badges.pro_unlimited  badges.pro  badges.verified  \n",
       "0                  True       False            False  \n",
       "1                 False       False            False  \n",
       "2                  True       False            False  \n",
       "3                 False       False            False  \n",
       "4                  True       False            False  "
      ]
     },
     "execution_count": 119,
     "metadata": {},
     "output_type": "execute_result"
    }
   ],
   "source": [
    "new_users.head()"
   ]
  },
  {
   "cell_type": "code",
   "execution_count": 120,
   "id": "499d2628",
   "metadata": {},
   "outputs": [
    {
     "name": "stdout",
     "output_type": "stream",
     "text": [
      "<class 'pandas.core.frame.DataFrame'>\n",
      "RangeIndex: 1500 entries, 0 to 1499\n",
      "Data columns (total 18 columns):\n",
      " #   Column                Non-Null Count  Dtype \n",
      "---  ------                --------------  ----- \n",
      " 0   id                    1500 non-null   int64 \n",
      " 1   city                  978 non-null    object\n",
      " 2   country_code          1006 non-null   object\n",
      " 3   comments_count        1500 non-null   int64 \n",
      " 4   created_at            1500 non-null   object\n",
      " 5   last_modified         1500 non-null   object\n",
      " 6   description           647 non-null    object\n",
      " 7   likes_count           1500 non-null   int64 \n",
      " 8   followings_count      1500 non-null   int64 \n",
      " 9   followers_count       1500 non-null   int64 \n",
      " 10  playlist_likes_count  1500 non-null   int64 \n",
      " 11  playlist_count        1500 non-null   int64 \n",
      " 12  track_count           1500 non-null   int64 \n",
      " 13  verified              1500 non-null   bool  \n",
      " 14  station_permalink     1500 non-null   object\n",
      " 15  badges.pro_unlimited  1500 non-null   bool  \n",
      " 16  badges.pro            1500 non-null   bool  \n",
      " 17  badges.verified       1500 non-null   bool  \n",
      "dtypes: bool(4), int64(8), object(6)\n",
      "memory usage: 170.0+ KB\n"
     ]
    }
   ],
   "source": [
    "new_users.info()"
   ]
  },
  {
   "cell_type": "markdown",
   "id": "90435f1f",
   "metadata": {},
   "source": [
    "- Dựa vào thông tin ở trên ta thấy đa số thuộc tính đều đủ dữ liệu, có 2 thuộc tính ```city``` , ```country_code``` và ```description``` là bị thiếu dữ liệu"
   ]
  },
  {
   "cell_type": "markdown",
   "id": "022d3c91",
   "metadata": {},
   "source": [
    "**a. Xử lí vấn đề bị thiếu thông tin**"
   ]
  },
  {
   "cell_type": "markdown",
   "id": "9411abbb",
   "metadata": {},
   "source": [
    "**. Thuộc tính Country_code**"
   ]
  },
  {
   "cell_type": "markdown",
   "id": "28b07371",
   "metadata": {},
   "source": [
    "- Ở thuộc tính ```country_code``` thiếu dữ liệu chiếm 30%, để giải quyết vấn đề thiếu dữ liệu ta sẽ dựa vào việc sử dụng thuộc tính ```city``` để suy luận ra thuộc tính ```country_code``` "
   ]
  },
  {
   "cell_type": "code",
   "execution_count": 138,
   "id": "7fa2cc86",
   "metadata": {},
   "outputs": [
    {
     "name": "stdout",
     "output_type": "stream",
     "text": [
      "city: Berlin    Country Code: nan\n",
      "city: Stockholm/Berlin    Country Code: nan\n",
      "city: Genf    Country Code: nan\n",
      "city: Ƀ    Country Code: nan\n",
      "city: Europe    Country Code: nan\n",
      "city: Berlin    Country Code: nan\n",
      "city: Berlin    Country Code: nan\n",
      "city: Jeju Island    Country Code: nan\n",
      "city: London    Country Code: nan\n",
      "city: Berlin    Country Code: nan\n",
      "city: https://soundcloud.com/gommagedjtea    Country Code: nan\n",
      "city: London    Country Code: nan\n",
      "city: stockholm    Country Code: nan\n",
      "city: London    Country Code: nan\n",
      "city: Essex    Country Code: nan\n",
      "city: London    Country Code: nan\n",
      "city: London    Country Code: nan\n",
      "city: Bristol    Country Code: nan\n",
      "city: Hackney, London    Country Code: nan\n",
      "city: Berlin    Country Code: nan\n",
      "city: Glasgow    Country Code: nan\n",
      "city: Stockholm!    Country Code: nan\n",
      "city: London    Country Code: nan\n",
      "city: Bristol    Country Code: nan\n",
      "city: Berlin    Country Code: nan\n",
      "city: worldwide    Country Code: nan\n",
      "city: Glasgow    Country Code: nan\n",
      "city: Universe    Country Code: nan\n",
      "city: Berlin    Country Code: nan\n",
      "city: South Petherton    Country Code: nan\n",
      "city: Bristol    Country Code: nan\n",
      "city: Austin, Texas    Country Code: nan\n",
      "city: Listen to music to feel nature    Country Code: nan\n",
      "city: Vienna / Wien    Country Code: nan\n",
      "city: London    Country Code: nan\n",
      "city: Munich    Country Code: nan\n",
      "city: palermo sicily    Country Code: nan\n",
      "city: London    Country Code: nan\n",
      "city: London    Country Code: nan\n",
      "city: Minneapolis    Country Code: nan\n",
      "city: Sydney    Country Code: nan\n",
      "city: Berne    Country Code: nan\n",
      "city: london    Country Code: nan\n",
      "city: Burnley    Country Code: nan\n",
      "city: Moscow    Country Code: nan\n",
      "city: Geneva / Berlin    Country Code: nan\n",
      "city: London    Country Code: nan\n",
      "city: London    Country Code: nan\n",
      "city: Brussels - Belgium    Country Code: nan\n",
      "city: North Wales    Country Code: nan\n",
      "city: London    Country Code: nan\n",
      "city: London    Country Code: nan\n",
      "city: Edinburgh    Country Code: nan\n",
      "city: London    Country Code: nan\n",
      "city: perugia    Country Code: nan\n",
      "city: London    Country Code: nan\n",
      "city: Barcelona    Country Code: nan\n",
      "city:  London    Country Code: nan\n",
      "city: London    Country Code: nan\n",
      "city: World    Country Code: nan\n",
      "city: London    Country Code: nan\n",
      "city: Leeds    Country Code: nan\n",
      "city: Это Питер, детка    Country Code: nan\n",
      "city: London    Country Code: nan\n",
      "city: pills    Country Code: nan\n",
      "city: Helsinki!    Country Code: nan\n",
      "city: Boulder, co    Country Code: nan\n",
      "city: London    Country Code: nan\n",
      "city: New York    Country Code: nan\n",
      "city: Leeds    Country Code: nan\n",
      "city: THE WORLD    Country Code: nan\n",
      "city: maynooth kildare    Country Code: nan\n",
      "city: Brighton    Country Code: nan\n"
     ]
    }
   ],
   "source": [
    "for i in range(0, new_users.shape[0]):\n",
    "    try:\n",
    "        if (np.isnan(new_users[\"country_code\"][i])):\n",
    "            try:\n",
    "                temp = np.isnan(new_users[\"city\"][i])\n",
    "            except:\n",
    "                print(\"city:\", new_users[\"city\"][i], \"   Country Code:\", new_users[\"country_code\"][i] )\n",
    "    except:\n",
    "        None"
   ]
  },
  {
   "cell_type": "markdown",
   "id": "4bed18ed",
   "metadata": {},
   "source": [
    "- Dựa vào thông tin trên đa phần các dữ liệu bị trống ở cả 2 thuộc tính ```city``` và ```country_code``` nhưng có 1 số lượng nhỏ ta có thể sử dụng thông tin trong thuộc tính ```city``` sang thuộc tính ```country_code```"
   ]
  },
  {
   "cell_type": "code",
   "execution_count": 139,
   "id": "d84a06cd",
   "metadata": {},
   "outputs": [],
   "source": [
    "inf = {\"Berlin\":\"DE\",'Chicago':\"US\",'Stockholm/Berli':\"DE\", 'New York':\"US\", 'East Atlanta':\"US\", 'KY':\"US\", 'LA':\"US\", 'MIA':\"US\",\n",
    "        'Memphis':\"US\", 'N. Las Vegas':\"US\", 'NJ/NY':\"US\", 'Paris':\"FR\", 'London':\"GB\",'SOUTH SYDNEY':\"AU\",\n",
    "         'St. Petersburg':\"RU\", 'Austin, Texas':\"US\", 'Glasgow':\"GB\"}"
   ]
  },
  {
   "cell_type": "code",
   "execution_count": 140,
   "id": "a4230aa1",
   "metadata": {},
   "outputs": [],
   "source": [
    "for index, row in new_users.iterrows():\n",
    "    if not pd.isna(row['city']):\n",
    "        if row['city'] in inf:\n",
    "            new_users.loc[index, 'country_code'] = inf[row['city']]"
   ]
  },
  {
   "cell_type": "markdown",
   "id": "3a628601",
   "metadata": {},
   "source": [
    "- Những thông tin thiếu còn lại sẽ thay ```Nan``` bằng ```Unknown```"
   ]
  },
  {
   "cell_type": "code",
   "execution_count": 141,
   "id": "d76b4473",
   "metadata": {},
   "outputs": [],
   "source": [
    "for index, row in new_users.iterrows():\n",
    "    if pd.isna(row['country_code']):\n",
    "        new_users.loc[index, 'country_code'] = \"UnKnown\""
   ]
  },
  {
   "cell_type": "markdown",
   "id": "67476c4c",
   "metadata": {},
   "source": [
    "**. Thuộc tính description**"
   ]
  },
  {
   "cell_type": "markdown",
   "id": "81166102",
   "metadata": {},
   "source": [
    "- Ta với vấn đề thiếu dữ liệu ở thuộc tính này, ta thấy phần trăm thiếu dữ liệu ở description là 30%, ta sẽ chọn phương án là loại bỏ thuộc tính này ra khỏi tập dữ liệu"
   ]
  },
  {
   "cell_type": "code",
   "execution_count": 142,
   "id": "35e199f8",
   "metadata": {},
   "outputs": [],
   "source": [
    "new_users.drop(columns=\"description\", inplace=True)"
   ]
  },
  {
   "cell_type": "markdown",
   "id": "2c2f4ec9",
   "metadata": {},
   "source": [
    "**b. Xử lí vấn đề nhiễu (outlier)**"
   ]
  },
  {
   "cell_type": "code",
   "execution_count": 143,
   "id": "31de631b",
   "metadata": {},
   "outputs": [
    {
     "data": {
      "text/plain": [
       "array(['Berlin', 'Stockholm', 'Berlin/NYC', nan, 'San Francisco',\n",
       "       'Berlin, I guess', 'London', 'New York', 'Watford', 'Manila',\n",
       "       'Cologne', 'Bristol', 'Amsterdam', 'Tehran', 'Malmö', 'Munich',\n",
       "       'Nueva York', 'Göteborg', 'UDFy-38135539', 'Piemonte',\n",
       "       'Stockholm/Berlin', 'Hamburg', 'Barsinghausen', 'Berlin ',\n",
       "       'Helsinki', 'Lausanne', 'Zurich', 'Los Angeles', 'Boulder',\n",
       "       'Stockholm / Amsterdam', 'Genf', 'Berlin / Tel-Aviv', 'Vienna',\n",
       "       'Berlin/Hamburg', 'tokyo', 'Gent', 'Chicago', 'Ƀ', 'Geneva',\n",
       "       'Europe', 'Stuttgart', 'Denver', 'LYALL BAY', 'Copenhagen', 'Köln',\n",
       "       'berlin', 'UK', 'Tasmania', 'stockholm', 'Frankfurt', 'Tel Aviv',\n",
       "       'Istanbul', '新宿区', 'In the cheese belt', 'Lyon', 'Freiburg',\n",
       "       'Emeryville, CA', 'Zürich', 'Jeju Island', 'L.A  STHLM  LND  PARI',\n",
       "       'Helsingborg', 'Lima', 'milano', 'geneva', 'Philadelphia',\n",
       "       'stuttgart', 'Lincoln', 'Miami', 'Bucharest', 'Snowhere',\n",
       "       'Gothenburg', 'berlin, ', 'Utrecht', 'Bruxelles', 'Zagreb',\n",
       "       'Stockholm born, London habitant.', 'Belgrade', 'Dizzeldorf',\n",
       "       'Heerlen', 'Athens', 'Perugia', 'Lund', 'Paris', 'Antwerpen',\n",
       "       'Geneve', '7.83Hz', 'Bologna', 'St Ouen', 'Verona', 'Bologna, ',\n",
       "       'RICCIONE', 'Uppsala', 'Montreal/Toronto', 'Freiburg Im Breisgau',\n",
       "       'Rimini', 'Ibiza', 'https://soundcloud.com/gommagedjtea',\n",
       "       'Berlin X-Berg', 'Bronx, NY', 'nkpg', 'Bergen', 'Rome',\n",
       "       'São Paulo', 'modena', 'Berlin - Kreuzberg', 'Reykjavik',\n",
       "       'Hageby House Mafia', 'San Diego', 'Manchester ', 'Santorini',\n",
       "       'Essex', 'Barcelona', 'Helensburgh', 'cork', 'frankfurt am main',\n",
       "       'CHICAGO', 'Cork', 'Hanau', 'Sheffield', 'Manchester', 'milan',\n",
       "       'Hackney, London', 'Byron Bay, NSW', 'TLV', 'Buenos Aires',\n",
       "       'Basel', 'Farsta', 'Angers', 'Glasgow', 'Bristol ',\n",
       "       'NANTES / ANGERS', 'Stockholm!', 'Aarhus', 'New York City',\n",
       "       'Minneapolis', 'San Francisco ', 'Tokyo', 'Wroclaw',\n",
       "       'Tarcienne (Namur)', 'Boston', 'Vancouver', 'Allston, MA',\n",
       "       'Katowice', 'Puebla', 'Spain', 'worldwide', 'Kyoto', 'Toronto',\n",
       "       'Delft', 'Universe', 'Konstanz', 'Brussels', 'Beer-Sheva',\n",
       "       'Viareggio', 'Tilburg', 'London - Worldwide', 'South Petherton',\n",
       "       'Berlin/Tokyo', 'Parma/Reggio Emilia', 'Frankfurt/M.', 'Seattle',\n",
       "       'Austin, Texas', 'Bologna - Rieti',\n",
       "       'Fachwerk / Substrato / Transition L',\n",
       "       'Listen to music to feel nature', 'Montreal', 'Bremen',\n",
       "       'Cupertogen', 'Frankfurt am Main', 'Sthlm', 'Rostock',\n",
       "       'Vienna / Wien', 'Sion', 'Petersburg', 'Siena', 'Milan', 'München',\n",
       "       'san jose', 'Cholula,Puebla', 'Singapore', 'Baltimore', 'genoa',\n",
       "       'Palma de Mallorca', 'palermo sicily', '(N)irgends(wo?!)',\n",
       "       'Leipzig', 'Portogruaro', 'Wiesbaden',\n",
       "       'in the sunny part of France', 'NYC', 'Stockholm/ Los Angeles',\n",
       "       'fischbach', 'Dortmund', 'Ljubljana', 'Near Stuttgart', '#chcx',\n",
       "       'Orlando', 'Melbourne', 'Sydney', 'Malmoe', 'xx', 'Portland, OR',\n",
       "       '♫ Felinephonix Music [NYC | LA]', 'Hermes Place',\n",
       "       'Universal Unity', 'yokohama', 'Cairo', 'Kent, Ohio',\n",
       "       'Brooklyn, NYC', 'Antwerp', 'Oakland, CA', 'Paris ', 'Haarlem',\n",
       "       'Noumea', 'Offenburg', 'phoenix', 'lausanne', 'Roma , Perugia',\n",
       "       'Snake Beat', 'Jena', 'Birstonas', 'Doom Town', 'Atlanta',\n",
       "       'Nizhny Novgorod', 'Leeds, UK', 'Whitstable', 'Berne', 'Calgary',\n",
       "       'Stockholm - Täby', 'Toronto, ON', 'Milano', 'london', 'Hannover',\n",
       "       'Vilnius', 'Dresden', 'wellington', 'Schmalkalden', 'rome',\n",
       "       'stockholm/malmö', 'Nantes', 'Lecce / Lausanne', 'metropolis',\n",
       "       'Brrlin', 'Burnley', 'Lecce', 'berlin, planet earth', 'aberdeen',\n",
       "       '30Hz, Bassdrive, Last.fm, Szolfézs', 'Derby', 'zurich',\n",
       "       'Tillamook', 'San-Francisco', 'hamburg', 'paris', 'Tokyo/Berlin',\n",
       "       'Switzerland', 'NadjaLindAmbient.Bandcamp.com', 'rimini', 'Bonn',\n",
       "       'Moscow', 'MILAN', 'Saarbrücken', 'glasgow', 'Wrexham', 'Here.',\n",
       "       'Geneva / Berlin', 'Long Beach', 'Vientiane', 'World, Leipzig',\n",
       "       'Detroit', 'rosendael', 'Den Helder', 'Pasadena',\n",
       "       'anywhere in nowhere', 'Senso Sounds / Alula Tunes', 'krakow',\n",
       "       'Atlanta, Georgia', 'Universal plains', 'New Jersey', 'Tampere',\n",
       "       'Catania', 'CHI SOUL/NY', 'N.Y.C.', 'Brussels - Belgium',\n",
       "       'Düsseldorf', 'Catania - Bologna', 'Brooklyn/Chicago', 'Portland',\n",
       "       'Bern', 'North Wales', 'Rotterdam', 'Espoo', 'NEWARK ,NEW JERSEY',\n",
       "       'Eindhoven', 'Potsdam', 'Brooklyn', 'mainz', 'Kathmandu',\n",
       "       'Hilo, Hawaii', 'Sofia', 'los angeles', 'Kullavik', 'dusseldorf',\n",
       "       'Prague', 'Italy', 'Szczecin', 'DC', 'Edinburgh', 'Newark, CA',\n",
       "       'East orange New Jersey', 'seattle', 'Klaipeda',\n",
       "       'Bangkok / Sydney / Cologne', 'Naples', '61,Berlin',\n",
       "       'LDN : BLN : SYD', 'perugia', 'palermo', 'Paris & Avignon',\n",
       "       'Palermo ', 'Birmingham', 'Arezzo', 'Palermo', 'Saint-Ouen',\n",
       "       'B.E.R.L.I.N.', 'Stuttgart / New York', 'Clikno City', 'Bordeaux',\n",
       "       'Saint City', 'Broklyn', 'Blackwood Forest', 'Kyiv', 'Cesena',\n",
       "       'Padova', 'U S A', ' London', 'London ', 'Jupiter', 'Forlì ',\n",
       "       'World', 'Riga/Berlin', 'PHUNKADELICA', 'Homburg', 'Östersund',\n",
       "       'Leeds', 'rotterdam', 'Это Питер, детка', 'Bielefeld', 'Den Haag',\n",
       "       'Torino', 'pills', 'All city', 'Helsinki!', 'Nice ', 'Boulder, co',\n",
       "       'Zaragoza', 'Cambridge, MA', 'Madrid', 'Finale Ligure', 'Oakland',\n",
       "       'Plano/Providence', 'Kiev', 'BERLIN', 'Winnipeg', 'THE WORLD',\n",
       "       'maynooth kildare', 'LECCE', 'Buffalo, NY', 'Mannheim',\n",
       "       'Leighton Buzzard', 'Norrköping', 'Sweden', 'Marseille',\n",
       "       'London, Nuremberg, Vienna', 'vienna', 'krefeld',\n",
       "       'neuss/düsseldorf', 'Costa Mesa', 'Brighton', 'Eastleigh', 'Ohio',\n",
       "       'HaDarom', 'Woodstock', 'Herndon', 'Watsonvile', 'Nice'],\n",
       "      dtype=object)"
      ]
     },
     "execution_count": 143,
     "metadata": {},
     "output_type": "execute_result"
    }
   ],
   "source": [
    "new_users[\"city\"].unique()"
   ]
  },
  {
   "cell_type": "markdown",
   "id": "8caa657d",
   "metadata": {},
   "source": [
    "- Dựa vào lượng thông tin ```city``` của người dùng trên, ta thấy có rất nhiều dữ liệu rác do người dùng nhập đại 1 vài từ theo ý muốn của họ như Nice, Blackwood Forest, xx, 7.83Hz .... Qua đó ta quyết định ```xóa bỏ thuộc tính đó``` vì để xử lí và biết được thông tin rác trên rất khó"
   ]
  },
  {
   "cell_type": "code",
   "execution_count": 144,
   "id": "140eeaac",
   "metadata": {},
   "outputs": [],
   "source": [
    "new_users.drop(columns=\"city\", inplace=True)"
   ]
  },
  {
   "cell_type": "markdown",
   "id": "18b32652",
   "metadata": {},
   "source": [
    "**c. Kiểm tra kiểu dữ liệu của các thuộc tính**"
   ]
  },
  {
   "cell_type": "code",
   "execution_count": 145,
   "id": "22f84b18",
   "metadata": {},
   "outputs": [
    {
     "name": "stdout",
     "output_type": "stream",
     "text": [
      "<class 'pandas.core.frame.DataFrame'>\n",
      "RangeIndex: 1500 entries, 0 to 1499\n",
      "Data columns (total 16 columns):\n",
      " #   Column                Non-Null Count  Dtype \n",
      "---  ------                --------------  ----- \n",
      " 0   id                    1500 non-null   int64 \n",
      " 1   country_code          1500 non-null   object\n",
      " 2   comments_count        1500 non-null   int64 \n",
      " 3   created_at            1500 non-null   object\n",
      " 4   last_modified         1500 non-null   object\n",
      " 5   likes_count           1500 non-null   int64 \n",
      " 6   followings_count      1500 non-null   int64 \n",
      " 7   followers_count       1500 non-null   int64 \n",
      " 8   playlist_likes_count  1500 non-null   int64 \n",
      " 9   playlist_count        1500 non-null   int64 \n",
      " 10  track_count           1500 non-null   int64 \n",
      " 11  verified              1500 non-null   bool  \n",
      " 12  station_permalink     1500 non-null   object\n",
      " 13  badges.pro_unlimited  1500 non-null   bool  \n",
      " 14  badges.pro            1500 non-null   bool  \n",
      " 15  badges.verified       1500 non-null   bool  \n",
      "dtypes: bool(4), int64(8), object(4)\n",
      "memory usage: 146.6+ KB\n"
     ]
    }
   ],
   "source": [
    "new_users.info()"
   ]
  },
  {
   "cell_type": "markdown",
   "id": "5e371299",
   "metadata": {},
   "source": [
    "- `id`: chuyển từ int64 sang string\n",
    "- `created_at` và `last_modified`: chuyển từ object sang datetime\n",
    "- Chuyển đổi tên thuộc tính `badges.pro_unlimited` sang `pro_unlimited`\n",
    "- Chuyển đổi tên thuộc tính `badges.pro` sang `pro`"
   ]
  },
  {
   "cell_type": "code",
   "execution_count": 146,
   "id": "bb0da883",
   "metadata": {},
   "outputs": [],
   "source": [
    "new_users['id'] = new_users['id'].astype('string')\n",
    "new_users['created_at'] = pd.to_datetime(new_users['created_at'])\n",
    "new_users['last_modified'] = pd.to_datetime(new_users['last_modified'])\n",
    "\n",
    "new_users.rename(columns={'badges.pro_unlimited':'pro_unlimited'}, inplace=True)\n",
    "new_users.rename(columns={'badges.pro':'pro'}, inplace=True)"
   ]
  },
  {
   "cell_type": "code",
   "execution_count": 147,
   "id": "9d5756a0",
   "metadata": {},
   "outputs": [
    {
     "name": "stdout",
     "output_type": "stream",
     "text": [
      "<class 'pandas.core.frame.DataFrame'>\n",
      "RangeIndex: 1500 entries, 0 to 1499\n",
      "Data columns (total 16 columns):\n",
      " #   Column                Non-Null Count  Dtype              \n",
      "---  ------                --------------  -----              \n",
      " 0   id                    1500 non-null   string             \n",
      " 1   country_code          1500 non-null   object             \n",
      " 2   comments_count        1500 non-null   int64              \n",
      " 3   created_at            1500 non-null   datetime64[ns, UTC]\n",
      " 4   last_modified         1500 non-null   datetime64[ns, UTC]\n",
      " 5   likes_count           1500 non-null   int64              \n",
      " 6   followings_count      1500 non-null   int64              \n",
      " 7   followers_count       1500 non-null   int64              \n",
      " 8   playlist_likes_count  1500 non-null   int64              \n",
      " 9   playlist_count        1500 non-null   int64              \n",
      " 10  track_count           1500 non-null   int64              \n",
      " 11  verified              1500 non-null   bool               \n",
      " 12  station_permalink     1500 non-null   object             \n",
      " 13  pro_unlimited         1500 non-null   bool               \n",
      " 14  pro                   1500 non-null   bool               \n",
      " 15  badges.verified       1500 non-null   bool               \n",
      "dtypes: bool(4), datetime64[ns, UTC](2), int64(7), object(2), string(1)\n",
      "memory usage: 146.6+ KB\n"
     ]
    }
   ],
   "source": [
    "new_users.info()"
   ]
  },
  {
   "cell_type": "markdown",
   "id": "bde5ddf2",
   "metadata": {},
   "source": [
    "**d. Lưu dữ liệu**"
   ]
  },
  {
   "cell_type": "code",
   "execution_count": 148,
   "id": "fcb6caec",
   "metadata": {},
   "outputs": [],
   "source": [
    "new_users.to_csv(\"New_Users.csv\", index=False)"
   ]
  },
  {
   "cell_type": "markdown",
   "id": "0905a356",
   "metadata": {},
   "source": [
    "**3. Phân tích dữ liệu**"
   ]
  },
  {
   "cell_type": "code",
   "execution_count": 149,
   "id": "b15134b7",
   "metadata": {},
   "outputs": [
    {
     "data": {
      "text/html": [
       "<div>\n",
       "<style scoped>\n",
       "    .dataframe tbody tr th:only-of-type {\n",
       "        vertical-align: middle;\n",
       "    }\n",
       "\n",
       "    .dataframe tbody tr th {\n",
       "        vertical-align: top;\n",
       "    }\n",
       "\n",
       "    .dataframe thead th {\n",
       "        text-align: right;\n",
       "    }\n",
       "</style>\n",
       "<table border=\"1\" class=\"dataframe\">\n",
       "  <thead>\n",
       "    <tr style=\"text-align: right;\">\n",
       "      <th></th>\n",
       "      <th>id</th>\n",
       "      <th>country_code</th>\n",
       "      <th>comments_count</th>\n",
       "      <th>created_at</th>\n",
       "      <th>last_modified</th>\n",
       "      <th>likes_count</th>\n",
       "      <th>followings_count</th>\n",
       "      <th>followers_count</th>\n",
       "      <th>playlist_likes_count</th>\n",
       "      <th>playlist_count</th>\n",
       "      <th>track_count</th>\n",
       "      <th>verified</th>\n",
       "      <th>station_permalink</th>\n",
       "      <th>pro_unlimited</th>\n",
       "      <th>pro</th>\n",
       "      <th>badges.verified</th>\n",
       "    </tr>\n",
       "  </thead>\n",
       "  <tbody>\n",
       "    <tr>\n",
       "      <th>0</th>\n",
       "      <td>2</td>\n",
       "      <td>DE</td>\n",
       "      <td>384</td>\n",
       "      <td>2007-07-20 16:07:00+00:00</td>\n",
       "      <td>2020-07-21 08:17:59+00:00</td>\n",
       "      <td>2654</td>\n",
       "      <td>2000</td>\n",
       "      <td>45706</td>\n",
       "      <td>397</td>\n",
       "      <td>24</td>\n",
       "      <td>64</td>\n",
       "      <td>False</td>\n",
       "      <td>artist-stations:2</td>\n",
       "      <td>True</td>\n",
       "      <td>False</td>\n",
       "      <td>False</td>\n",
       "    </tr>\n",
       "    <tr>\n",
       "      <th>1</th>\n",
       "      <td>6</td>\n",
       "      <td>DE</td>\n",
       "      <td>31</td>\n",
       "      <td>2007-07-20 17:54:00+00:00</td>\n",
       "      <td>2020-01-06 18:00:02+00:00</td>\n",
       "      <td>153</td>\n",
       "      <td>139</td>\n",
       "      <td>8325</td>\n",
       "      <td>6</td>\n",
       "      <td>0</td>\n",
       "      <td>2</td>\n",
       "      <td>False</td>\n",
       "      <td>artist-stations:6</td>\n",
       "      <td>False</td>\n",
       "      <td>False</td>\n",
       "      <td>False</td>\n",
       "    </tr>\n",
       "    <tr>\n",
       "      <th>2</th>\n",
       "      <td>8</td>\n",
       "      <td>DE</td>\n",
       "      <td>697</td>\n",
       "      <td>2007-07-25 23:08:00+00:00</td>\n",
       "      <td>2020-10-20 14:38:52+00:00</td>\n",
       "      <td>1680</td>\n",
       "      <td>1715</td>\n",
       "      <td>180212</td>\n",
       "      <td>351</td>\n",
       "      <td>34</td>\n",
       "      <td>268</td>\n",
       "      <td>False</td>\n",
       "      <td>artist-stations:8</td>\n",
       "      <td>True</td>\n",
       "      <td>False</td>\n",
       "      <td>False</td>\n",
       "    </tr>\n",
       "    <tr>\n",
       "      <th>3</th>\n",
       "      <td>10</td>\n",
       "      <td>SE</td>\n",
       "      <td>5</td>\n",
       "      <td>2007-07-27 14:15:18+00:00</td>\n",
       "      <td>2017-07-10 18:35:14+00:00</td>\n",
       "      <td>43</td>\n",
       "      <td>51</td>\n",
       "      <td>1246</td>\n",
       "      <td>4</td>\n",
       "      <td>0</td>\n",
       "      <td>3</td>\n",
       "      <td>False</td>\n",
       "      <td>artist-stations:10</td>\n",
       "      <td>False</td>\n",
       "      <td>False</td>\n",
       "      <td>False</td>\n",
       "    </tr>\n",
       "    <tr>\n",
       "      <th>4</th>\n",
       "      <td>12</td>\n",
       "      <td>UnKnown</td>\n",
       "      <td>506</td>\n",
       "      <td>2007-07-27 14:18:00+00:00</td>\n",
       "      <td>2020-04-28 18:50:42+00:00</td>\n",
       "      <td>249</td>\n",
       "      <td>459</td>\n",
       "      <td>23033</td>\n",
       "      <td>105</td>\n",
       "      <td>11</td>\n",
       "      <td>82</td>\n",
       "      <td>False</td>\n",
       "      <td>artist-stations:12</td>\n",
       "      <td>True</td>\n",
       "      <td>False</td>\n",
       "      <td>False</td>\n",
       "    </tr>\n",
       "  </tbody>\n",
       "</table>\n",
       "</div>"
      ],
      "text/plain": [
       "   id country_code  comments_count                 created_at  \\\n",
       "0   2           DE             384  2007-07-20 16:07:00+00:00   \n",
       "1   6           DE              31  2007-07-20 17:54:00+00:00   \n",
       "2   8           DE             697  2007-07-25 23:08:00+00:00   \n",
       "3  10           SE               5  2007-07-27 14:15:18+00:00   \n",
       "4  12      UnKnown             506  2007-07-27 14:18:00+00:00   \n",
       "\n",
       "               last_modified  likes_count  followings_count  followers_count  \\\n",
       "0  2020-07-21 08:17:59+00:00         2654              2000            45706   \n",
       "1  2020-01-06 18:00:02+00:00          153               139             8325   \n",
       "2  2020-10-20 14:38:52+00:00         1680              1715           180212   \n",
       "3  2017-07-10 18:35:14+00:00           43                51             1246   \n",
       "4  2020-04-28 18:50:42+00:00          249               459            23033   \n",
       "\n",
       "   playlist_likes_count  playlist_count  track_count  verified  \\\n",
       "0                   397              24           64     False   \n",
       "1                     6               0            2     False   \n",
       "2                   351              34          268     False   \n",
       "3                     4               0            3     False   \n",
       "4                   105              11           82     False   \n",
       "\n",
       "    station_permalink  pro_unlimited    pro  badges.verified  \n",
       "0   artist-stations:2           True  False            False  \n",
       "1   artist-stations:6          False  False            False  \n",
       "2   artist-stations:8           True  False            False  \n",
       "3  artist-stations:10          False  False            False  \n",
       "4  artist-stations:12           True  False            False  "
      ]
     },
     "execution_count": 149,
     "metadata": {},
     "output_type": "execute_result"
    }
   ],
   "source": [
    "data = pd.read_csv(\"New_Users.csv\")\n",
    "data.head()"
   ]
  },
  {
   "cell_type": "markdown",
   "id": "78820bcc",
   "metadata": {},
   "source": [
    "**Câu hỏi đặt ra:**\n",
    "- Yếu tố nào quyết định một người dùng được quan tâm (độ được quan tâm đánh giá bằng số followers)?\n",
    "- Với các người dùng được nhiều follower, liệu có phải các playlist mà họ upload sẽ nhận được lượng likes, reposts và playback nhiều hơn?\n",
    "- Người dùng đăng kí gói nhạc trả phí liệu có đặc điểm chung giữa họ hay không\n",
    "- Các đất nước nào sẽ sử dụng soundclound nhiều\n",
    "- Xem được mức độ hoạt động của người dùng"
   ]
  },
  {
   "cell_type": "markdown",
   "id": "d0666474",
   "metadata": {},
   "source": [
    "**a. Phân tích đơn biến**"
   ]
  },
  {
   "cell_type": "markdown",
   "id": "dfbec197",
   "metadata": {},
   "source": [
    "Dữ liệu số"
   ]
  },
  {
   "cell_type": "code",
   "execution_count": 150,
   "id": "44d93890",
   "metadata": {},
   "outputs": [
    {
     "data": {
      "text/html": [
       "<div>\n",
       "<style scoped>\n",
       "    .dataframe tbody tr th:only-of-type {\n",
       "        vertical-align: middle;\n",
       "    }\n",
       "\n",
       "    .dataframe tbody tr th {\n",
       "        vertical-align: top;\n",
       "    }\n",
       "\n",
       "    .dataframe thead th {\n",
       "        text-align: right;\n",
       "    }\n",
       "</style>\n",
       "<table border=\"1\" class=\"dataframe\">\n",
       "  <thead>\n",
       "    <tr style=\"text-align: right;\">\n",
       "      <th></th>\n",
       "      <th>count</th>\n",
       "      <th>mean</th>\n",
       "      <th>std</th>\n",
       "      <th>min</th>\n",
       "      <th>25%</th>\n",
       "      <th>50%</th>\n",
       "      <th>75%</th>\n",
       "      <th>max</th>\n",
       "    </tr>\n",
       "  </thead>\n",
       "  <tbody>\n",
       "    <tr>\n",
       "      <th>comments_count</th>\n",
       "      <td>1500.0</td>\n",
       "      <td>63.996667</td>\n",
       "      <td>424.642672</td>\n",
       "      <td>0.0</td>\n",
       "      <td>0.0</td>\n",
       "      <td>3.0</td>\n",
       "      <td>30.00</td>\n",
       "      <td>14875.0</td>\n",
       "    </tr>\n",
       "    <tr>\n",
       "      <th>likes_count</th>\n",
       "      <td>1500.0</td>\n",
       "      <td>118.004667</td>\n",
       "      <td>473.788586</td>\n",
       "      <td>0.0</td>\n",
       "      <td>0.0</td>\n",
       "      <td>9.0</td>\n",
       "      <td>74.00</td>\n",
       "      <td>10357.0</td>\n",
       "    </tr>\n",
       "    <tr>\n",
       "      <th>followings_count</th>\n",
       "      <td>1500.0</td>\n",
       "      <td>194.245333</td>\n",
       "      <td>374.023774</td>\n",
       "      <td>0.0</td>\n",
       "      <td>5.0</td>\n",
       "      <td>37.5</td>\n",
       "      <td>202.25</td>\n",
       "      <td>2003.0</td>\n",
       "    </tr>\n",
       "    <tr>\n",
       "      <th>followers_count</th>\n",
       "      <td>1500.0</td>\n",
       "      <td>5268.401333</td>\n",
       "      <td>32909.627401</td>\n",
       "      <td>0.0</td>\n",
       "      <td>32.0</td>\n",
       "      <td>155.0</td>\n",
       "      <td>1036.75</td>\n",
       "      <td>1002654.0</td>\n",
       "    </tr>\n",
       "    <tr>\n",
       "      <th>playlist_likes_count</th>\n",
       "      <td>1500.0</td>\n",
       "      <td>9.822667</td>\n",
       "      <td>55.842930</td>\n",
       "      <td>0.0</td>\n",
       "      <td>0.0</td>\n",
       "      <td>0.0</td>\n",
       "      <td>4.00</td>\n",
       "      <td>1266.0</td>\n",
       "    </tr>\n",
       "    <tr>\n",
       "      <th>playlist_count</th>\n",
       "      <td>1500.0</td>\n",
       "      <td>3.894000</td>\n",
       "      <td>13.883681</td>\n",
       "      <td>0.0</td>\n",
       "      <td>0.0</td>\n",
       "      <td>0.0</td>\n",
       "      <td>2.00</td>\n",
       "      <td>237.0</td>\n",
       "    </tr>\n",
       "    <tr>\n",
       "      <th>track_count</th>\n",
       "      <td>1500.0</td>\n",
       "      <td>26.065333</td>\n",
       "      <td>93.142855</td>\n",
       "      <td>0.0</td>\n",
       "      <td>0.0</td>\n",
       "      <td>2.0</td>\n",
       "      <td>16.00</td>\n",
       "      <td>1644.0</td>\n",
       "    </tr>\n",
       "  </tbody>\n",
       "</table>\n",
       "</div>"
      ],
      "text/plain": [
       "                       count         mean           std  min   25%    50%  \\\n",
       "comments_count        1500.0    63.996667    424.642672  0.0   0.0    3.0   \n",
       "likes_count           1500.0   118.004667    473.788586  0.0   0.0    9.0   \n",
       "followings_count      1500.0   194.245333    374.023774  0.0   5.0   37.5   \n",
       "followers_count       1500.0  5268.401333  32909.627401  0.0  32.0  155.0   \n",
       "playlist_likes_count  1500.0     9.822667     55.842930  0.0   0.0    0.0   \n",
       "playlist_count        1500.0     3.894000     13.883681  0.0   0.0    0.0   \n",
       "track_count           1500.0    26.065333     93.142855  0.0   0.0    2.0   \n",
       "\n",
       "                          75%        max  \n",
       "comments_count          30.00    14875.0  \n",
       "likes_count             74.00    10357.0  \n",
       "followings_count       202.25     2003.0  \n",
       "followers_count       1036.75  1002654.0  \n",
       "playlist_likes_count     4.00     1266.0  \n",
       "playlist_count           2.00      237.0  \n",
       "track_count             16.00     1644.0  "
      ]
     },
     "execution_count": 150,
     "metadata": {},
     "output_type": "execute_result"
    }
   ],
   "source": [
    "data['id'] = data['id'].astype('object')\n",
    "user = data.select_dtypes(include = ['int64'])\n",
    "user.describe().T"
   ]
  },
  {
   "cell_type": "code",
   "execution_count": 151,
   "id": "acd5738e",
   "metadata": {},
   "outputs": [
    {
     "data": {
      "image/png": "[encoded data removed]",
      "text/plain": [
       "<Figure size 1152x1440 with 9 Axes>"
      ]
     },
     "metadata": {
      "needs_background": "light"
     },
     "output_type": "display_data"
    }
   ],
   "source": [
    "user.hist(figsize=(16, 20), bins=150, xlabelsize=8, ylabelsize=8);"
   ]
  },
  {
   "cell_type": "markdown",
   "id": "f4adc77f",
   "metadata": {},
   "source": [
    "- **Nhận Xét**\n",
    "  + Số lượng người dùng đa số có số lượng playlist nhỏ hơn 50, có 1 vài người dùng có số lượng playlist lớn hơn 50, ta thấy được đa số người dùng vào để nghe nhạc"
   ]
  },
  {
   "cell_type": "markdown",
   "id": "afe367cd",
   "metadata": {},
   "source": [
    "Thuộc Tính `comments_count` và `likes_count`"
   ]
  },
  {
   "cell_type": "code",
   "execution_count": 152,
   "id": "8b4ef8f4",
   "metadata": {},
   "outputs": [
    {
     "data": {
      "image/png": "[encoded data removed]",
      "text/plain": [
       "<Figure size 1080x504 with 2 Axes>"
      ]
     },
     "metadata": {
      "needs_background": "light"
     },
     "output_type": "display_data"
    }
   ],
   "source": [
    "figure, axis = plt.subplots(1, 2, figsize=(15,7))\n",
    "\n",
    "axis[0].boxplot(data[\"comments_count\"])\n",
    "axis[0].set_title(\"comments_count\")\n",
    "\n",
    "axis[1].boxplot(data[\"likes_count\"])\n",
    "axis[1].set_title(\"likes_count\")\n",
    "\n",
    "plt.show()"
   ]
  },
  {
   "cell_type": "markdown",
   "id": "22196761",
   "metadata": {},
   "source": [
    "- **Nhận Xét**\n",
    "  + Ở `comments_count` thì ta thấy hoạt động về bình luận không lớn: đa phần số lần bình luận dưới 2000 lần, tuy nhiên 3 người có số lần bình luận từ 2000 đến 4000, và có 1 người có tới trên 14000 lần bình luận\n",
    "  + Ở `likes_count` thì ta thấy đa phần lượng yêu thích dưới 3000, có 4 người dùng được số lượng like lớn hơn 3000, có thể 4 người này có sức ảnh hưởng lớn và đưa lên 1 vài ca khúc hay thu hút nhiều người nghe"
   ]
  },
  {
   "cell_type": "markdown",
   "id": "6925eb2f",
   "metadata": {},
   "source": [
    "Dữ liệu rời rạc"
   ]
  },
  {
   "cell_type": "markdown",
   "id": "cbe53878",
   "metadata": {},
   "source": [
    "Thuộc tính `country_code`"
   ]
  },
  {
   "cell_type": "code",
   "execution_count": 153,
   "id": "9b0b5b6f",
   "metadata": {},
   "outputs": [],
   "source": [
    "g_data = []\n",
    "countries = data[\"country_code\"].unique()\n",
    "\n",
    "for country in countries:\n",
    "    temp = data.loc[data[\"country_code\"]==country]\n",
    "    g_data.append(temp.shape[0])\n",
    "\n",
    "temp_data = {\"country\": countries, \"value\": g_data}\n",
    "t = pd.DataFrame(temp_data)\n",
    "\n"
   ]
  },
  {
   "cell_type": "code",
   "execution_count": 154,
   "id": "e273f79b",
   "metadata": {},
   "outputs": [
    {
     "data": {
      "image/png": "[encoded data removed]",
      "text/plain": [
       "<Figure size 2016x3960 with 1 Axes>"
      ]
     },
     "metadata": {
      "needs_background": "light"
     },
     "output_type": "display_data"
    }
   ],
   "source": [
    "t = t.sort_values(by=['value'], ascending=True)\n",
    "# Figure Size\n",
    "fig, ax = plt.subplots(figsize = (28, 55))\n",
    "\n",
    "temp = []\n",
    "count = 0\n",
    "i = 0\n",
    "while (count < 209):\n",
    "    i = i + 6\n",
    "    count = count + 1\n",
    "    temp.append(i)\n",
    "    \n",
    "sns.barplot(x=t[\"value\"], y=t[\"country\"], color='blue')\n",
    "\n",
    "\n",
    "# # Horizontal Bar Plot\n",
    "ax.grid(b = True, color ='grey',linestyle ='-.', linewidth = 0.2, alpha = 0.1)\n",
    "\n",
    "ax.invert_yaxis()\n",
    "for i in ax.patches:\n",
    "    plt.text(i.get_width()+0.2, i.get_y()+0.2,str(round((i.get_width()), 2)),fontsize = 10, fontweight ='bold',color ='grey')\n",
    "\n",
    "ax.set_title('Phân bố người dùng theo quốc gia mà người dùng nhập vào')\n",
    "\n",
    "plt.show()"
   ]
  },
  {
   "cell_type": "markdown",
   "id": "22eb4d0e",
   "metadata": {},
   "source": [
    "Thuộc tính `pro_unlimited` , `pro`"
   ]
  },
  {
   "cell_type": "code",
   "execution_count": 155,
   "id": "ba37d241",
   "metadata": {},
   "outputs": [
    {
     "data": {
      "image/png": "[encoded data removed]",
      "text/plain": [
       "<Figure size 504x504 with 1 Axes>"
      ]
     },
     "metadata": {
      "needs_background": "light"
     },
     "output_type": "display_data"
    }
   ],
   "source": [
    "pro_unlimited = data.loc[data[\"pro_unlimited\"]==True].shape[0]\n",
    "pro = data.loc[data[\"pro\"]==True].shape[0]\n",
    "free = data.shape[0] - pro - pro_unlimited\n",
    "t = {\"free\": free, \"pro_unlimited\": pro_unlimited, \"pro\": pro}\n",
    "\n",
    "plt.figure(figsize=(7, 7))\n",
    "plt.bar(t.keys(), t.values())\n",
    "plt.ylabel(\"Số lượng\")\n",
    "plt.show()"
   ]
  },
  {
   "cell_type": "markdown",
   "id": "c27f2fb9",
   "metadata": {},
   "source": [
    "- **Nhận Xét**\n",
    "  + Số lượng người dùng free chiếm tỉ lệ vượt trội, trong khi đó 2 gói pro chiểm tị lệ nhỏ, điều đó cho thấy Soundcloud cung cấp nhạc chất lượng cao chưa hấp hẫn lắm với người dùng"
   ]
  },
  {
   "cell_type": "markdown",
   "id": "f198e546",
   "metadata": {},
   "source": [
    "Thuộc tính `verified`"
   ]
  },
  {
   "cell_type": "code",
   "execution_count": 156,
   "id": "33d00dff",
   "metadata": {},
   "outputs": [
    {
     "data": {
      "image/png": "[encoded data removed]",
      "text/plain": [
       "<Figure size 360x360 with 1 Axes>"
      ]
     },
     "metadata": {},
     "output_type": "display_data"
    }
   ],
   "source": [
    "verified_true = round(data.loc[data[\"verified\"]==True].shape[0] / data.shape[0], 2) * 100\n",
    "verified_false = 100 - verified_true\n",
    "col = [\"true\", \"false\"]\n",
    "d = [verified_true, verified_false]\n",
    "\n",
    "plt.figure(figsize=(5, 5))\n",
    "plt.pie(d, labels=col, autopct='%1.1f%%')\n",
    "plt.title(\"Phần trăm xác thực của người dùng\")\n",
    "plt.legend()\n",
    "plt.show()"
   ]
  },
  {
   "cell_type": "markdown",
   "id": "2d06b1cc",
   "metadata": {},
   "source": [
    "Phân tích câu hỏi `Người dùng đăng kí gói nhạc trả phí liệu có đặc điểm chung giữa họ hay không`?"
   ]
  },
  {
   "cell_type": "markdown",
   "id": "b8a82b1c",
   "metadata": {},
   "source": [
    "- **Pro**"
   ]
  },
  {
   "cell_type": "code",
   "execution_count": 157,
   "id": "f86be5ae",
   "metadata": {
    "scrolled": true
   },
   "outputs": [
    {
     "data": {
      "text/html": [
       "<div>\n",
       "<style scoped>\n",
       "    .dataframe tbody tr th:only-of-type {\n",
       "        vertical-align: middle;\n",
       "    }\n",
       "\n",
       "    .dataframe tbody tr th {\n",
       "        vertical-align: top;\n",
       "    }\n",
       "\n",
       "    .dataframe thead th {\n",
       "        text-align: right;\n",
       "    }\n",
       "</style>\n",
       "<table border=\"1\" class=\"dataframe\">\n",
       "  <thead>\n",
       "    <tr style=\"text-align: right;\">\n",
       "      <th></th>\n",
       "      <th>count</th>\n",
       "      <th>mean</th>\n",
       "      <th>std</th>\n",
       "      <th>min</th>\n",
       "      <th>25%</th>\n",
       "      <th>50%</th>\n",
       "      <th>75%</th>\n",
       "      <th>max</th>\n",
       "    </tr>\n",
       "  </thead>\n",
       "  <tbody>\n",
       "    <tr>\n",
       "      <th>comments_count</th>\n",
       "      <td>23.0</td>\n",
       "      <td>120.086957</td>\n",
       "      <td>205.099956</td>\n",
       "      <td>0.0</td>\n",
       "      <td>13.5</td>\n",
       "      <td>54.0</td>\n",
       "      <td>111.0</td>\n",
       "      <td>787.0</td>\n",
       "    </tr>\n",
       "    <tr>\n",
       "      <th>likes_count</th>\n",
       "      <td>23.0</td>\n",
       "      <td>194.391304</td>\n",
       "      <td>209.753695</td>\n",
       "      <td>9.0</td>\n",
       "      <td>30.0</td>\n",
       "      <td>130.0</td>\n",
       "      <td>291.5</td>\n",
       "      <td>725.0</td>\n",
       "    </tr>\n",
       "    <tr>\n",
       "      <th>followings_count</th>\n",
       "      <td>23.0</td>\n",
       "      <td>468.695652</td>\n",
       "      <td>547.842167</td>\n",
       "      <td>44.0</td>\n",
       "      <td>86.5</td>\n",
       "      <td>276.0</td>\n",
       "      <td>507.0</td>\n",
       "      <td>1998.0</td>\n",
       "    </tr>\n",
       "    <tr>\n",
       "      <th>followers_count</th>\n",
       "      <td>23.0</td>\n",
       "      <td>3143.043478</td>\n",
       "      <td>4196.966388</td>\n",
       "      <td>74.0</td>\n",
       "      <td>738.0</td>\n",
       "      <td>994.0</td>\n",
       "      <td>3777.0</td>\n",
       "      <td>17963.0</td>\n",
       "    </tr>\n",
       "    <tr>\n",
       "      <th>playlist_likes_count</th>\n",
       "      <td>23.0</td>\n",
       "      <td>17.695652</td>\n",
       "      <td>25.986771</td>\n",
       "      <td>0.0</td>\n",
       "      <td>3.0</td>\n",
       "      <td>4.0</td>\n",
       "      <td>23.0</td>\n",
       "      <td>109.0</td>\n",
       "    </tr>\n",
       "    <tr>\n",
       "      <th>playlist_count</th>\n",
       "      <td>23.0</td>\n",
       "      <td>5.217391</td>\n",
       "      <td>6.259222</td>\n",
       "      <td>0.0</td>\n",
       "      <td>1.0</td>\n",
       "      <td>2.0</td>\n",
       "      <td>7.5</td>\n",
       "      <td>21.0</td>\n",
       "    </tr>\n",
       "    <tr>\n",
       "      <th>track_count</th>\n",
       "      <td>23.0</td>\n",
       "      <td>32.521739</td>\n",
       "      <td>30.650329</td>\n",
       "      <td>2.0</td>\n",
       "      <td>10.0</td>\n",
       "      <td>21.0</td>\n",
       "      <td>45.5</td>\n",
       "      <td>107.0</td>\n",
       "    </tr>\n",
       "  </tbody>\n",
       "</table>\n",
       "</div>"
      ],
      "text/plain": [
       "                      count         mean          std   min    25%    50%  \\\n",
       "comments_count         23.0   120.086957   205.099956   0.0   13.5   54.0   \n",
       "likes_count            23.0   194.391304   209.753695   9.0   30.0  130.0   \n",
       "followings_count       23.0   468.695652   547.842167  44.0   86.5  276.0   \n",
       "followers_count        23.0  3143.043478  4196.966388  74.0  738.0  994.0   \n",
       "playlist_likes_count   23.0    17.695652    25.986771   0.0    3.0    4.0   \n",
       "playlist_count         23.0     5.217391     6.259222   0.0    1.0    2.0   \n",
       "track_count            23.0    32.521739    30.650329   2.0   10.0   21.0   \n",
       "\n",
       "                         75%      max  \n",
       "comments_count         111.0    787.0  \n",
       "likes_count            291.5    725.0  \n",
       "followings_count       507.0   1998.0  \n",
       "followers_count       3777.0  17963.0  \n",
       "playlist_likes_count    23.0    109.0  \n",
       "playlist_count           7.5     21.0  \n",
       "track_count             45.5    107.0  "
      ]
     },
     "execution_count": 157,
     "metadata": {},
     "output_type": "execute_result"
    }
   ],
   "source": [
    "user_pro = data.loc[data[\"pro\"]==True]\n",
    "user_pro = user_pro.select_dtypes(include = ['int64'])\n",
    "user_pro.describe().T"
   ]
  },
  {
   "cell_type": "markdown",
   "id": "8cc7c717",
   "metadata": {},
   "source": [
    "- **Nhận Xét**\n",
    "   + Dựa vào bảng thống kê trên, ta thấy rõ số lượng trung bình của mỗi thuộc tính đều tăng lên. Do soundclound cung cấp gói pro cho người dùng nghe nhạc nên ta cũng thấy rõ rằng số lượng trung bình `comment` và `following` tăng gấp đôi và gấp 4 lần, hoạt động của người dùng đăng kí gói pro hoạt động mạnh trên `soundclound`"
   ]
  },
  {
   "cell_type": "markdown",
   "id": "5a719e2d",
   "metadata": {},
   "source": [
    "- **Pro_unlimited**"
   ]
  },
  {
   "cell_type": "code",
   "execution_count": 158,
   "id": "1600710e",
   "metadata": {},
   "outputs": [
    {
     "data": {
      "text/html": [
       "<div>\n",
       "<style scoped>\n",
       "    .dataframe tbody tr th:only-of-type {\n",
       "        vertical-align: middle;\n",
       "    }\n",
       "\n",
       "    .dataframe tbody tr th {\n",
       "        vertical-align: top;\n",
       "    }\n",
       "\n",
       "    .dataframe thead th {\n",
       "        text-align: right;\n",
       "    }\n",
       "</style>\n",
       "<table border=\"1\" class=\"dataframe\">\n",
       "  <thead>\n",
       "    <tr style=\"text-align: right;\">\n",
       "      <th></th>\n",
       "      <th>count</th>\n",
       "      <th>mean</th>\n",
       "      <th>std</th>\n",
       "      <th>min</th>\n",
       "      <th>25%</th>\n",
       "      <th>50%</th>\n",
       "      <th>75%</th>\n",
       "      <th>max</th>\n",
       "    </tr>\n",
       "  </thead>\n",
       "  <tbody>\n",
       "    <tr>\n",
       "      <th>comments_count</th>\n",
       "      <td>193.0</td>\n",
       "      <td>287.497409</td>\n",
       "      <td>1120.115178</td>\n",
       "      <td>0.0</td>\n",
       "      <td>28.0</td>\n",
       "      <td>99.0</td>\n",
       "      <td>227.0</td>\n",
       "      <td>14875.0</td>\n",
       "    </tr>\n",
       "    <tr>\n",
       "      <th>likes_count</th>\n",
       "      <td>193.0</td>\n",
       "      <td>331.259067</td>\n",
       "      <td>794.570655</td>\n",
       "      <td>0.0</td>\n",
       "      <td>38.0</td>\n",
       "      <td>115.0</td>\n",
       "      <td>283.0</td>\n",
       "      <td>8894.0</td>\n",
       "    </tr>\n",
       "    <tr>\n",
       "      <th>followings_count</th>\n",
       "      <td>193.0</td>\n",
       "      <td>446.005181</td>\n",
       "      <td>500.818356</td>\n",
       "      <td>0.0</td>\n",
       "      <td>79.0</td>\n",
       "      <td>292.0</td>\n",
       "      <td>646.0</td>\n",
       "      <td>2003.0</td>\n",
       "    </tr>\n",
       "    <tr>\n",
       "      <th>followers_count</th>\n",
       "      <td>193.0</td>\n",
       "      <td>28284.865285</td>\n",
       "      <td>84839.037874</td>\n",
       "      <td>40.0</td>\n",
       "      <td>1891.0</td>\n",
       "      <td>7777.0</td>\n",
       "      <td>22153.0</td>\n",
       "      <td>1002654.0</td>\n",
       "    </tr>\n",
       "    <tr>\n",
       "      <th>playlist_likes_count</th>\n",
       "      <td>193.0</td>\n",
       "      <td>32.865285</td>\n",
       "      <td>98.234215</td>\n",
       "      <td>0.0</td>\n",
       "      <td>2.0</td>\n",
       "      <td>9.0</td>\n",
       "      <td>25.0</td>\n",
       "      <td>1119.0</td>\n",
       "    </tr>\n",
       "    <tr>\n",
       "      <th>playlist_count</th>\n",
       "      <td>193.0</td>\n",
       "      <td>17.911917</td>\n",
       "      <td>30.841792</td>\n",
       "      <td>0.0</td>\n",
       "      <td>2.0</td>\n",
       "      <td>7.0</td>\n",
       "      <td>18.0</td>\n",
       "      <td>237.0</td>\n",
       "    </tr>\n",
       "    <tr>\n",
       "      <th>track_count</th>\n",
       "      <td>193.0</td>\n",
       "      <td>133.590674</td>\n",
       "      <td>219.887550</td>\n",
       "      <td>0.0</td>\n",
       "      <td>26.0</td>\n",
       "      <td>63.0</td>\n",
       "      <td>129.0</td>\n",
       "      <td>1644.0</td>\n",
       "    </tr>\n",
       "  </tbody>\n",
       "</table>\n",
       "</div>"
      ],
      "text/plain": [
       "                      count          mean           std   min     25%     50%  \\\n",
       "comments_count        193.0    287.497409   1120.115178   0.0    28.0    99.0   \n",
       "likes_count           193.0    331.259067    794.570655   0.0    38.0   115.0   \n",
       "followings_count      193.0    446.005181    500.818356   0.0    79.0   292.0   \n",
       "followers_count       193.0  28284.865285  84839.037874  40.0  1891.0  7777.0   \n",
       "playlist_likes_count  193.0     32.865285     98.234215   0.0     2.0     9.0   \n",
       "playlist_count        193.0     17.911917     30.841792   0.0     2.0     7.0   \n",
       "track_count           193.0    133.590674    219.887550   0.0    26.0    63.0   \n",
       "\n",
       "                          75%        max  \n",
       "comments_count          227.0    14875.0  \n",
       "likes_count             283.0     8894.0  \n",
       "followings_count        646.0     2003.0  \n",
       "followers_count       22153.0  1002654.0  \n",
       "playlist_likes_count     25.0     1119.0  \n",
       "playlist_count           18.0      237.0  \n",
       "track_count             129.0     1644.0  "
      ]
     },
     "execution_count": 158,
     "metadata": {},
     "output_type": "execute_result"
    }
   ],
   "source": [
    "user_pro_unlimited = data.loc[data[\"pro_unlimited\"]==True]\n",
    "user_pro_unlimited = user_pro_unlimited.select_dtypes(include = ['int64'])\n",
    "user_pro_unlimited.describe().T"
   ]
  },
  {
   "cell_type": "markdown",
   "id": "92404270",
   "metadata": {},
   "source": [
    "- **Nhận Xét**\n",
    "   + `SoundClound` cung cấp gói pro_unlimited hướng đến các nhà sản xuất nhạc tích cực trên Soundcloud, ta thấy rõ ràng số lượng trung bình về `track` và `playlist` tăng gần như gấp 6 - 7 lần."
   ]
  },
  {
   "cell_type": "markdown",
   "id": "3ac09ad5",
   "metadata": {},
   "source": [
    "**b. Phân tích đa biến**"
   ]
  },
  {
   "cell_type": "code",
   "execution_count": 159,
   "id": "e36f81f1",
   "metadata": {},
   "outputs": [
    {
     "data": {
      "image/png": "[encoded data removed]",
      "text/plain": [
       "<Figure size 792x648 with 2 Axes>"
      ]
     },
     "metadata": {
      "needs_background": "light"
     },
     "output_type": "display_data"
    }
   ],
   "source": [
    "user = data.select_dtypes(include = ['int64'])\n",
    "d = user.corr(method='pearson')\n",
    "f, ax = plt.subplots(figsize=(11, 9))\n",
    "\n",
    "mask = np.triu(np.ones_like(user.corr()))\n",
    "\n",
    "sns.heatmap(d, ax=ax, cmap=\"YlGnBu\", annot=True, square=True, mask=mask)\n",
    "plt.show()"
   ]
  },
  {
   "cell_type": "markdown",
   "id": "6ad75780",
   "metadata": {},
   "source": [
    "- **Nhận Xét**\n",
    "  + Có nhiều cặp có hệ số lớn hơn 0.2 -> biểu thị sự đồng biến nhưng yếu và không đáng kể\n",
    "  + Dựa vào biểu đồ nhiệt, ta thấy có sự liên hệ mối quan hệ rất mạnh mẽ giữa 2 thuộc tính `playlist_likes_count` và `likes_count` với hệ số là 0.93 -> ta sẽ sử dụng biểu đồ phân tán (scatter plot) để biểu diễn rõ cặp thuộc tính này\n",
    "  + Hệ số giữa `likes_count` và `follower_count` là 0.42 => Gần như không có mối quan hệ giữa 2 thuộc tính đó, nên ta khẳng định rằng `Với các người dùng được nhiều follower, chưa chắc nhận được lượng likes nhiều hơn`"
   ]
  },
  {
   "cell_type": "markdown",
   "id": "9bf3d85a",
   "metadata": {},
   "source": [
    "Cặp thuộc tính `playlist_likes_count` và `likes_count`"
   ]
  },
  {
   "cell_type": "code",
   "execution_count": 160,
   "id": "772c463f",
   "metadata": {},
   "outputs": [
    {
     "data": {
      "image/png": "[encoded data removed]",
      "text/plain": [
       "<Figure size 504x504 with 1 Axes>"
      ]
     },
     "metadata": {
      "needs_background": "light"
     },
     "output_type": "display_data"
    }
   ],
   "source": [
    "plt.figure(figsize=(7, 7))\n",
    "plt.scatter(data[\"playlist_likes_count\"], data[\"likes_count\"], c=\"blue\")\n",
    "plt.title(\"Biểu đồ phân tán giữa playlist_likes_count và likes_count\")\n",
    "plt.xlabel(\"playlist_likes_count\")\n",
    "plt.ylabel(\"likes_count\")\n",
    "plt.show()"
   ]
  },
  {
   "cell_type": "markdown",
   "id": "ec1ce755",
   "metadata": {},
   "source": [
    "- **Nhận Xét**\n",
    "  + Ta thấy rõ ràng về mối quan hệ đồng biến giữa 2 thuộc tính"
   ]
  },
  {
   "cell_type": "markdown",
   "id": "54d16379",
   "metadata": {},
   "source": [
    "Nhóm thuộc tính `followers_count`, `playlists_count` và `tracks_count`\n",
    "- Ở trên ta có đưa ra dự đoán: `khi 1 người có nhiều playlist và track thì sẽ thu hút nhiều người xem, quá đó số lượng follower của người đó sẽ lớn `.Ta sẽ sử dụng biểu đồ bong bóng (bubble plot) để biếu thị mối liên hệ giữa 3 thuộc tính này"
   ]
  },
  {
   "cell_type": "code",
   "execution_count": 161,
   "id": "d249a2d5",
   "metadata": {},
   "outputs": [
    {
     "data": {
      "image/png": "[encoded data removed]",
      "text/plain": [
       "<Figure size 720x480 with 1 Axes>"
      ]
     },
     "metadata": {
      "needs_background": "light"
     },
     "output_type": "display_data"
    }
   ],
   "source": [
    "plt.figure(dpi=120)\n",
    "plt.scatter(data[\"track_count\"], data[\"playlist_count\"], s=data[\"followers_count\"] / 10000, alpha=0.5)\n",
    "plt.xlabel(\"track_count\")\n",
    "plt.ylabel(\"playlist_count\")\n",
    "plt.show()"
   ]
  },
  {
   "cell_type": "markdown",
   "id": "2393a768",
   "metadata": {},
   "source": [
    "- **Nhận Xét**\n",
    "  + Ở biểu đồ trên, ta không thấy mối quan hệ nào đặc biệt giữa 3 thuộc tính trên => dự đoán không đúng, có thể người dùng là người nổi tiếng có thể thu hút nhiều follower hoặc có thể là 1 vài lí do khác"
   ]
  },
  {
   "cell_type": "code",
   "execution_count": null,
   "id": "fd546fca",
   "metadata": {},
   "outputs": [],
   "source": []
  }
 ],
 "metadata": {
  "kernelspec": {
   "display_name": "Python 3",
   "language": "python",
   "name": "python3"
  },
  "language_info": {
   "codemirror_mode": {
    "name": "ipython",
    "version": 3
   },
   "file_extension": ".py",
   "mimetype": "text/x-python",
   "name": "python",
   "nbconvert_exporter": "python",
   "pygments_lexer": "ipython3",
   "version": "3.8.8"
  }
 },
 "nbformat": 4,
 "nbformat_minor": 5
}
