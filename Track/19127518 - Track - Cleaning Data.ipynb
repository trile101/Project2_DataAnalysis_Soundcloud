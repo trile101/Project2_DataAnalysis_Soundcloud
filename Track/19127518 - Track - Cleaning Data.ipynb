{
 "cells": [
  {
   "cell_type": "markdown",
   "id": "7950c3b9",
   "metadata": {},
   "source": [
    "# III. Track\n",
    "### Dự đoán\n",
    "\n",
    "* Trước khi tìm hiểu dữ liệu, ta hãy xác định một số mong chờ về tập dữ liệu track của Soundcloud \n",
    "    + Yếu tố nào quyết định bài hát được yêu thích (hoặc nghe nhiều) ?\n",
    "    + Thời lượng của bài hát có ảnh hưởng đến lượt nghe ?\n",
    "    + Liệu lượt like và comment tăng thì lượng download có tăng ?\n",
    "    + Bài hát có nhiều lượt like, comment, download thì có dẫn dến lượt repost tăng?"
   ]
  },
  {
   "cell_type": "markdown",
   "id": "0a4aba12",
   "metadata": {},
   "source": [
    "#### Import Thư Viện"
   ]
  },
  {
   "cell_type": "code",
   "execution_count": 1,
   "id": "2821a2c1",
   "metadata": {},
   "outputs": [],
   "source": [
    "import pandas as pd\n",
    "import numpy as np\n",
    "import requests as r\n",
    "from bs4 import BeautifulSoup\n",
    "import matplotlib.pyplot as plt\n",
    "import seaborn as sns\n",
    "import datetime as dt"
   ]
  },
  {
   "cell_type": "markdown",
   "id": "827f00a0",
   "metadata": {},
   "source": [
    "### 1. Kiểm tra tổng quan về dữ liệu"
   ]
  },
  {
   "cell_type": "code",
   "execution_count": 2,
   "id": "df713a12",
   "metadata": {},
   "outputs": [
    {
     "data": {
      "text/plain": [
       "(4555, 63)"
      ]
     },
     "execution_count": 2,
     "metadata": {},
     "output_type": "execute_result"
    }
   ],
   "source": [
    "track = pd.read_csv(\"track.csv\", sep='\\t')\n",
    "track.drop(columns=\"index\", inplace=True)\n",
    "track.shape\n"
   ]
  },
  {
   "cell_type": "code",
   "execution_count": 3,
   "id": "19bc24b4",
   "metadata": {},
   "outputs": [
    {
     "data": {
      "text/html": [
       "<div>\n",
       "<style scoped>\n",
       "    .dataframe tbody tr th:only-of-type {\n",
       "        vertical-align: middle;\n",
       "    }\n",
       "\n",
       "    .dataframe tbody tr th {\n",
       "        vertical-align: top;\n",
       "    }\n",
       "\n",
       "    .dataframe thead th {\n",
       "        text-align: right;\n",
       "    }\n",
       "</style>\n",
       "<table border=\"1\" class=\"dataframe\">\n",
       "  <thead>\n",
       "    <tr style=\"text-align: right;\">\n",
       "      <th></th>\n",
       "      <th>artwork_url</th>\n",
       "      <th>caption</th>\n",
       "      <th>commentable</th>\n",
       "      <th>comment_count</th>\n",
       "      <th>created_at</th>\n",
       "      <th>description</th>\n",
       "      <th>downloadable</th>\n",
       "      <th>download_count</th>\n",
       "      <th>duration</th>\n",
       "      <th>full_duration</th>\n",
       "      <th>...</th>\n",
       "      <th>publisher_metadata.upc_or_ean</th>\n",
       "      <th>publisher_metadata.isrc</th>\n",
       "      <th>publisher_metadata.explicit</th>\n",
       "      <th>publisher_metadata.writer_composer</th>\n",
       "      <th>publisher_metadata.release_title</th>\n",
       "      <th>publisher_metadata.p_line</th>\n",
       "      <th>publisher_metadata.p_line_for_display</th>\n",
       "      <th>publisher_metadata.c_line</th>\n",
       "      <th>publisher_metadata.c_line_for_display</th>\n",
       "      <th>publisher_metadata.iswc</th>\n",
       "    </tr>\n",
       "  </thead>\n",
       "  <tbody>\n",
       "    <tr>\n",
       "      <th>0</th>\n",
       "      <td>https://i1.sndcdn.com/artworks-000027511321-dw...</td>\n",
       "      <td>NaN</td>\n",
       "      <td>True</td>\n",
       "      <td>61.0</td>\n",
       "      <td>2012-07-29T08:33:56Z</td>\n",
       "      <td>NaN</td>\n",
       "      <td>True</td>\n",
       "      <td>201.0</td>\n",
       "      <td>50409</td>\n",
       "      <td>50409</td>\n",
       "      <td>...</td>\n",
       "      <td>NaN</td>\n",
       "      <td>NaN</td>\n",
       "      <td>NaN</td>\n",
       "      <td>NaN</td>\n",
       "      <td>NaN</td>\n",
       "      <td>NaN</td>\n",
       "      <td>NaN</td>\n",
       "      <td>NaN</td>\n",
       "      <td>NaN</td>\n",
       "      <td>NaN</td>\n",
       "    </tr>\n",
       "    <tr>\n",
       "      <th>1</th>\n",
       "      <td>https://i1.sndcdn.com/artworks-000026286925-qi...</td>\n",
       "      <td>NaN</td>\n",
       "      <td>True</td>\n",
       "      <td>37.0</td>\n",
       "      <td>2012-07-07T22:07:37Z</td>\n",
       "      <td>NaN</td>\n",
       "      <td>True</td>\n",
       "      <td>101.0</td>\n",
       "      <td>42177</td>\n",
       "      <td>42177</td>\n",
       "      <td>...</td>\n",
       "      <td>NaN</td>\n",
       "      <td>NaN</td>\n",
       "      <td>NaN</td>\n",
       "      <td>NaN</td>\n",
       "      <td>NaN</td>\n",
       "      <td>NaN</td>\n",
       "      <td>NaN</td>\n",
       "      <td>NaN</td>\n",
       "      <td>NaN</td>\n",
       "      <td>NaN</td>\n",
       "    </tr>\n",
       "    <tr>\n",
       "      <th>2</th>\n",
       "      <td>NaN</td>\n",
       "      <td>NaN</td>\n",
       "      <td>True</td>\n",
       "      <td>16.0</td>\n",
       "      <td>2008-12-04T13:34:28Z</td>\n",
       "      <td>experimental noisy track</td>\n",
       "      <td>True</td>\n",
       "      <td>52.0</td>\n",
       "      <td>141348</td>\n",
       "      <td>141348</td>\n",
       "      <td>...</td>\n",
       "      <td>NaN</td>\n",
       "      <td>NaN</td>\n",
       "      <td>NaN</td>\n",
       "      <td>NaN</td>\n",
       "      <td>NaN</td>\n",
       "      <td>NaN</td>\n",
       "      <td>NaN</td>\n",
       "      <td>NaN</td>\n",
       "      <td>NaN</td>\n",
       "      <td>NaN</td>\n",
       "    </tr>\n",
       "    <tr>\n",
       "      <th>3</th>\n",
       "      <td>NaN</td>\n",
       "      <td>NaN</td>\n",
       "      <td>True</td>\n",
       "      <td>9.0</td>\n",
       "      <td>2008-09-03T22:06:47Z</td>\n",
       "      <td>NaN</td>\n",
       "      <td>True</td>\n",
       "      <td>43.0</td>\n",
       "      <td>180636</td>\n",
       "      <td>180636</td>\n",
       "      <td>...</td>\n",
       "      <td>NaN</td>\n",
       "      <td>NaN</td>\n",
       "      <td>NaN</td>\n",
       "      <td>NaN</td>\n",
       "      <td>NaN</td>\n",
       "      <td>NaN</td>\n",
       "      <td>NaN</td>\n",
       "      <td>NaN</td>\n",
       "      <td>NaN</td>\n",
       "      <td>NaN</td>\n",
       "    </tr>\n",
       "    <tr>\n",
       "      <th>4</th>\n",
       "      <td>NaN</td>\n",
       "      <td>NaN</td>\n",
       "      <td>True</td>\n",
       "      <td>7.0</td>\n",
       "      <td>2007-11-26T13:16:09Z</td>\n",
       "      <td>Experimental stuff...</td>\n",
       "      <td>True</td>\n",
       "      <td>35.0</td>\n",
       "      <td>131690</td>\n",
       "      <td>131690</td>\n",
       "      <td>...</td>\n",
       "      <td>NaN</td>\n",
       "      <td>NaN</td>\n",
       "      <td>NaN</td>\n",
       "      <td>NaN</td>\n",
       "      <td>NaN</td>\n",
       "      <td>NaN</td>\n",
       "      <td>NaN</td>\n",
       "      <td>NaN</td>\n",
       "      <td>NaN</td>\n",
       "      <td>NaN</td>\n",
       "    </tr>\n",
       "  </tbody>\n",
       "</table>\n",
       "<p>5 rows × 63 columns</p>\n",
       "</div>"
      ],
      "text/plain": [
       "                                         artwork_url caption  commentable  \\\n",
       "0  https://i1.sndcdn.com/artworks-000027511321-dw...     NaN         True   \n",
       "1  https://i1.sndcdn.com/artworks-000026286925-qi...     NaN         True   \n",
       "2                                                NaN     NaN         True   \n",
       "3                                                NaN     NaN         True   \n",
       "4                                                NaN     NaN         True   \n",
       "\n",
       "   comment_count            created_at               description  \\\n",
       "0           61.0  2012-07-29T08:33:56Z                       NaN   \n",
       "1           37.0  2012-07-07T22:07:37Z                       NaN   \n",
       "2           16.0  2008-12-04T13:34:28Z  experimental noisy track   \n",
       "3            9.0  2008-09-03T22:06:47Z                       NaN   \n",
       "4            7.0  2007-11-26T13:16:09Z     Experimental stuff...   \n",
       "\n",
       "   downloadable  download_count  duration  full_duration  ...  \\\n",
       "0          True           201.0     50409          50409  ...   \n",
       "1          True           101.0     42177          42177  ...   \n",
       "2          True            52.0    141348         141348  ...   \n",
       "3          True            43.0    180636         180636  ...   \n",
       "4          True            35.0    131690         131690  ...   \n",
       "\n",
       "  publisher_metadata.upc_or_ean publisher_metadata.isrc  \\\n",
       "0                           NaN                     NaN   \n",
       "1                           NaN                     NaN   \n",
       "2                           NaN                     NaN   \n",
       "3                           NaN                     NaN   \n",
       "4                           NaN                     NaN   \n",
       "\n",
       "   publisher_metadata.explicit  publisher_metadata.writer_composer  \\\n",
       "0                          NaN                                 NaN   \n",
       "1                          NaN                                 NaN   \n",
       "2                          NaN                                 NaN   \n",
       "3                          NaN                                 NaN   \n",
       "4                          NaN                                 NaN   \n",
       "\n",
       "  publisher_metadata.release_title publisher_metadata.p_line  \\\n",
       "0                              NaN                       NaN   \n",
       "1                              NaN                       NaN   \n",
       "2                              NaN                       NaN   \n",
       "3                              NaN                       NaN   \n",
       "4                              NaN                       NaN   \n",
       "\n",
       "  publisher_metadata.p_line_for_display publisher_metadata.c_line  \\\n",
       "0                                   NaN                       NaN   \n",
       "1                                   NaN                       NaN   \n",
       "2                                   NaN                       NaN   \n",
       "3                                   NaN                       NaN   \n",
       "4                                   NaN                       NaN   \n",
       "\n",
       "   publisher_metadata.c_line_for_display publisher_metadata.iswc  \n",
       "0                                    NaN                     NaN  \n",
       "1                                    NaN                     NaN  \n",
       "2                                    NaN                     NaN  \n",
       "3                                    NaN                     NaN  \n",
       "4                                    NaN                     NaN  \n",
       "\n",
       "[5 rows x 63 columns]"
      ]
     },
     "execution_count": 3,
     "metadata": {},
     "output_type": "execute_result"
    }
   ],
   "source": [
    "track.head()"
   ]
  },
  {
   "cell_type": "markdown",
   "id": "ef71dfac",
   "metadata": {},
   "source": [
    "Tập dữ liệu track có 4555 mẫu dữ liệu và 63 thuộc tính. Tóm tắt các thuộc tính của dữ liệu"
   ]
  },
  {
   "cell_type": "markdown",
   "id": "4b9e367d",
   "metadata": {},
   "source": [
    "|Thuộc tính|Kiểu dữ liệu|     Ý nghĩa của dữ liệu\n",
    "|:-----------:|:----------------:|:---------:|\n",
    "|**artwork_url**|chuỗi |URL ảnh của track|\n",
    "|**caption commentable**|Luận lý |Track có phụ đề hay không|\n",
    "|**comment_count**|Số nguyên |Số bình luận của một track|\n",
    "|**created_at**|Thời gian |Thời gian khởi tạo của track|\n",
    "|**description**|Chuỗi |Mô tả của track đó do user đăng tải|\n",
    "|**downloadable**|Luận lý |Track có tải về được không?|\n",
    "|**download_count**|Số nguyên |Số lượt tải về của track|\n",
    "|**duration**|Số nguyên |Thời gian phát của track|\n",
    "|**full_duration**|Số nguyên|\n",
    "|**embeddable_by**|Chuỗi|\n",
    "|**genre**|Chuỗi|Thể loại của track|\n",
    "|**has_downloads_left**|Luận lý|\n",
    "|**id**|Kiểu phân loại|Định danh cho track|\n",
    "|**kind**|Chuỗi|Loại track\n",
    "|**label_name**|Chuỗi|\n",
    "|**last_modified**|Thời gian|Lần chỉnh sửa cuối cùng của track|\n",
    "|**license likes_count**|Số nguyên|\n",
    "|**permalink**|Chuỗi|\n",
    "|**permalink_url**|Chuỗi|Đường dẫn dến trang soundcloud|\n",
    "|**playback_count**|Số nguyên|\n",
    "|**public**|Luận lý|Track có được công khai hay không?|\n",
    "|**publisher_metadata**|Chuỗi|\n",
    "|**purchase_title**|Chuỗi|Tiêu đề mục mua của track|\n",
    "|**purchase_url**|Chuỗi|Đường dẫn đến các trang mua của track(iTunes, BandCamp,...)\n",
    "|**release_date**|Thời gian|Thời gian xuất bản của track|\n",
    "|**reposts_count**|Số nguyên|Số lượt đăng lại của track|\n",
    "|**secret_token**|Chuỗi|\n",
    "|**sharing state**|Chuỗi|\n",
    "|**streamable**|Luận lý|Track có được trực tuyến hay không?|\n",
    "|**tag_list**|Chuỗi|Các danh sách track được gợi tag|\n",
    "|**title**|Chuỗi|Tiêu đề của track|\n",
    "|**track_format**|Chuỗi|Định dạng của track|\n",
    "|**uri**|Chuỗi|Đường dẫn API của track\n",
    "|**urn**|Chuỗi|Đường dẫn API của track\n",
    "|**user_id visuals waveform_url**|Chuỗi|\n",
    "|**display_date**|Thời gian|Thời gian đăng tải track trên track page của user|\n",
    "|**station_urn**|Chuỗi|\n",
    "|**station_permalink**|Chuỗi|\n",
    "|**track_authorization**|Chuỗi|Bản quyền của track|\n",
    "|**monetization_model**|Chuỗi|\n",
    "|**policy**|Chuỗi|Điều khoản, chính sách của track|\n",
    "|**media.transcodings**|Chuỗi|\n",
    "|**publisher_metadata.id**|Chuỗi|Thông tin về dữ liệu định danh của nhà xuất bản track|\n",
    "|**publisher_metadata.urn**|Chuỗi|Thông tin về dữ liệu đường dẫn của nhà xuất bản track|\n",
    "|**publisher_metadata.artist**|Chuỗi|Thông tin dữ liệu về họa sĩ của nhà xuất bản track|\n",
    "|**publisher_metadata.album_title**|Chuỗi|Thông tin dữ liệu về tiêu đề album của nhà xuất bản track|\n",
    "|**publisher_metadata.contains_music**|Chuỗi|Thông tin dữ liệu về nội dung của track|\n",
    "|**publisher_metadata.publisher**|Chuỗi|Thông tin dữ liệu về người đăng tải của track|\n",
    "|**publisher_metadata.upc_or_ean**|Chuỗi|\n",
    "|**publisher_metadata.isrc**|Chuỗi|\n",
    "|**publisher_metadata.explicit**|Chuỗi|\n",
    "|**publisher_metadata.writer_composer**|Chuỗi|Thông tin dữ liệu về tác giả của nhà xuất bản track|\n",
    "|**publisher_metadata.release_title**|Chuỗi|Thông tin dữ liệu về ngày ra mắt của track|\n",
    "|**publisher_metadata.p_line**|Chuỗi|\n",
    "|**publisher_metadata.p_line_for_display**|Chuỗi|\t\n",
    "|**publisher_metadata.c_line**|Chuỗi\n",
    "|**publisher_metadata.c_line_for_display**|Chuỗi|\n",
    "|**publisher_metadata.iswc**|Chuỗi|"
   ]
  },
  {
   "cell_type": "code",
   "execution_count": 4,
   "id": "de020726",
   "metadata": {},
   "outputs": [
    {
     "name": "stdout",
     "output_type": "stream",
     "text": [
      "<class 'pandas.core.frame.DataFrame'>\n",
      "RangeIndex: 4555 entries, 0 to 4554\n",
      "Data columns (total 63 columns):\n",
      " #   Column                                 Non-Null Count  Dtype  \n",
      "---  ------                                 --------------  -----  \n",
      " 0   artwork_url                            3243 non-null   object \n",
      " 1   caption                                82 non-null     object \n",
      " 2   commentable                            4555 non-null   bool   \n",
      " 3   comment_count                          4480 non-null   float64\n",
      " 4   created_at                             4555 non-null   object \n",
      " 5   description                            2838 non-null   object \n",
      " 6   downloadable                           4555 non-null   bool   \n",
      " 7   download_count                         4480 non-null   float64\n",
      " 8   duration                               4555 non-null   int64  \n",
      " 9   full_duration                          4555 non-null   int64  \n",
      " 10  embeddable_by                          4555 non-null   object \n",
      " 11  genre                                  3295 non-null   object \n",
      " 12  has_downloads_left                     4555 non-null   bool   \n",
      " 13  id                                     4555 non-null   int64  \n",
      " 14  kind                                   4555 non-null   object \n",
      " 15  label_name                             897 non-null    object \n",
      " 16  last_modified                          4555 non-null   object \n",
      " 17  license                                4555 non-null   object \n",
      " 18  likes_count                            4480 non-null   float64\n",
      " 19  permalink                              4555 non-null   object \n",
      " 20  permalink_url                          4555 non-null   object \n",
      " 21  playback_count                         4480 non-null   float64\n",
      " 22  public                                 4555 non-null   bool   \n",
      " 23  publisher_metadata                     0 non-null      float64\n",
      " 24  purchase_title                         165 non-null    object \n",
      " 25  purchase_url                           754 non-null    object \n",
      " 26  release_date                           1038 non-null   object \n",
      " 27  reposts_count                          4555 non-null   int64  \n",
      " 28  secret_token                           0 non-null      float64\n",
      " 29  sharing                                4555 non-null   object \n",
      " 30  state                                  4555 non-null   object \n",
      " 31  streamable                             4555 non-null   bool   \n",
      " 32  tag_list                               2449 non-null   object \n",
      " 33  title                                  4555 non-null   object \n",
      " 34  track_format                           4555 non-null   object \n",
      " 35  uri                                    4555 non-null   object \n",
      " 36  urn                                    4555 non-null   object \n",
      " 37  user_id                                4555 non-null   int64  \n",
      " 38  visuals                                0 non-null      float64\n",
      " 39  waveform_url                           4555 non-null   object \n",
      " 40  display_date                           4555 non-null   object \n",
      " 41  station_urn                            4555 non-null   object \n",
      " 42  station_permalink                      4555 non-null   object \n",
      " 43  track_authorization                    4555 non-null   object \n",
      " 44  monetization_model                     4555 non-null   object \n",
      " 45  policy                                 4555 non-null   object \n",
      " 46  media.transcodings                     4555 non-null   object \n",
      " 47  publisher_metadata.id                  2200 non-null   float64\n",
      " 48  publisher_metadata.urn                 2200 non-null   object \n",
      " 49  publisher_metadata.artist              919 non-null    object \n",
      " 50  publisher_metadata.album_title         648 non-null    object \n",
      " 51  publisher_metadata.contains_music      1550 non-null   object \n",
      " 52  publisher_metadata.publisher           120 non-null    object \n",
      " 53  publisher_metadata.upc_or_ean          273 non-null    float64\n",
      " 54  publisher_metadata.isrc                374 non-null    object \n",
      " 55  publisher_metadata.explicit            328 non-null    object \n",
      " 56  publisher_metadata.writer_composer     300 non-null    object \n",
      " 57  publisher_metadata.release_title       391 non-null    object \n",
      " 58  publisher_metadata.p_line              290 non-null    object \n",
      " 59  publisher_metadata.p_line_for_display  294 non-null    object \n",
      " 60  publisher_metadata.c_line              236 non-null    object \n",
      " 61  publisher_metadata.c_line_for_display  236 non-null    object \n",
      " 62  publisher_metadata.iswc                10 non-null     object \n",
      "dtypes: bool(5), float64(9), int64(5), object(44)\n",
      "memory usage: 2.0+ MB\n"
     ]
    }
   ],
   "source": [
    "track.info()"
   ]
  },
  {
   "cell_type": "markdown",
   "id": "17fa877c",
   "metadata": {},
   "source": [
    "Quan sát ta thấy các cột visuals, secret_token và publisher_metadata không có dữ liệu nên ta xóa các cột này đi  "
   ]
  },
  {
   "cell_type": "code",
   "execution_count": 5,
   "id": "8dabc046",
   "metadata": {},
   "outputs": [],
   "source": [
    "track.drop(columns=[\"visuals\", \"secret_token\", \"publisher_metadata\"], inplace=True)"
   ]
  },
  {
   "cell_type": "markdown",
   "id": "2fac2c36",
   "metadata": {},
   "source": [
    "### 2. Kiểm tra các thuộc tính định danh"
   ]
  },
  {
   "cell_type": "markdown",
   "id": "87ca9667",
   "metadata": {},
   "source": [
    "Dựa vào bảng tóm tắt các thuộc tính ở trên, ta có thể chọn ra những thuộc tính có vai trò định danh cho track như id, permalink_url, uri, urn, waveform_url"
   ]
  },
  {
   "cell_type": "code",
   "execution_count": 6,
   "id": "8924c394",
   "metadata": {
    "scrolled": true
   },
   "outputs": [
    {
     "name": "stdout",
     "output_type": "stream",
     "text": [
      "Số lượng id: 4555\n",
      "Số lượng permalink_url: 4555\n",
      "Số lượng uri: 4555\n",
      "Số lượng urn: 4555\n",
      "Số lượng waveform_url: 4555\n",
      "\n"
     ]
    }
   ],
   "source": [
    "print(f\"Số lượng id: {track['id'].nunique()}\")\n",
    "print(f\"Số lượng permalink_url: {track['permalink_url'].nunique()}\")\n",
    "print(f\"Số lượng uri: {track['uri'].nunique()}\") \n",
    "print(f\"Số lượng urn: {track['urn'].nunique()}\")    \n",
    "print(f\"Số lượng waveform_url: {track['waveform_url'].nunique()}\\n\") "
   ]
  },
  {
   "cell_type": "markdown",
   "id": "2d4de37b",
   "metadata": {},
   "source": [
    "Số lượng các giá trị khác nhau của các thuộc tính này là như nhau"
   ]
  },
  {
   "cell_type": "markdown",
   "id": "61752eae",
   "metadata": {},
   "source": [
    "### 3. Kiểm tra các thuộc tính không đóng góp đáng kể vào việc phân tích dữ liệu khám phá"
   ]
  },
  {
   "cell_type": "code",
   "execution_count": 7,
   "id": "fbf742e8",
   "metadata": {},
   "outputs": [
    {
     "name": "stdout",
     "output_type": "stream",
     "text": [
      "Số lượng artwork_url: 2985\n",
      "\n",
      "Số lượng commentable: 2\n",
      "Giá trị của thuộc tính commentable: [ True False]\n",
      "Phân bố thuộc tính commentable:\n",
      " True     4532\n",
      "False      23\n",
      "Name: commentable, dtype: int64\n",
      "\n",
      "Số lượng kind: 1\n",
      "Giá trị của thuộc tính kind: ['track']\n",
      "\n",
      "Số lượng public: 1\n",
      "Giá trị của public: [ True]\n",
      "\n",
      "Số lượng sharing: 1\n",
      "Giá trị của sharing: ['public']\n",
      "\n",
      "Số lượng tag_list: 1844\n",
      "\n",
      "Số lượng description: 2419\n",
      "\n",
      "Số lượng caption: 77\n",
      "\n",
      "Số lượng state: 2\n",
      "Giá trị của state: ['finished' 'processing']\n",
      "\n",
      "Số lượng streamable: 2\n",
      "Giá trị của streamable: [ True False]\n",
      "\n",
      "Phân bố thuộc tính streamable:\n",
      " True     4452\n",
      "False     103\n",
      "Name: streamable, dtype: int64\n",
      "\n"
     ]
    }
   ],
   "source": [
    "print(f\"Số lượng artwork_url: {track['artwork_url'].nunique()}\\n\")      \n",
    "\n",
    "# commentable\n",
    "print(f\"Số lượng commentable: {track['commentable'].nunique()}\")\n",
    "print(f\"Giá trị của thuộc tính commentable: {track['commentable'].unique()}\")\n",
    "print(f\"Phân bố thuộc tính commentable:\\n {track['commentable'].value_counts()}\\n\")\n",
    "      \n",
    "# kind\n",
    "print(f\"Số lượng kind: {track['kind'].nunique()}\")\n",
    "print(f\"Giá trị của thuộc tính kind: {track['kind'].unique()}\\n\")\n",
    "      \n",
    "# public\n",
    "print(f\"Số lượng public: {track['public'].nunique()}\")   \n",
    "print(f\"Giá trị của public: {track['public'].unique()}\\n\")         \n",
    "      \n",
    "# sharing\n",
    "print(f\"Số lượng sharing: {track['sharing'].nunique()}\")   \n",
    "print(f\"Giá trị của sharing: {track['sharing'].unique()}\\n\")  \n",
    "\n",
    "# tag_list\n",
    "print(f\"Số lượng tag_list: {track['tag_list'].nunique()}\\n\")   \n",
    "# print(f\"Giá trị của tag_list: {raw_playlist['tag_list'].unique()}\")  \n",
    "\n",
    "# description\n",
    "print(f\"Số lượng description: {track['description'].nunique()}\\n\")   \n",
    "# print(f\"Giá trị của tag_list: {raw_playlist['description'].unique()}\")  \n",
    "      \n",
    "# caption\n",
    "print(f\"Số lượng caption: {track['caption'].nunique()}\\n\")   \n",
    "      \n",
    "# state\n",
    "print(f\"Số lượng state: {track['state'].nunique()}\")   \n",
    "print(f\"Giá trị của state: {track['state'].unique()}\\n\")  \n",
    "    \n",
    "# streamable\n",
    "print(f\"Số lượng streamable: {track['streamable'].nunique()}\")   \n",
    "print(f\"Giá trị của streamable: {track['streamable'].unique()}\\n\")  \n",
    "print(f\"Phân bố thuộc tính streamable:\\n {track['streamable'].value_counts()}\\n\")      "
   ]
  },
  {
   "cell_type": "markdown",
   "id": "c09ad9d6",
   "metadata": {},
   "source": [
    "Theo bảng tóm tắt các thuộc tính ở trên, ta có thể thấy 3 thuộc tính created_at, release_date, display_date có nhiều nét tương đồng với nhau về mặt thông tin"
   ]
  },
  {
   "cell_type": "markdown",
   "id": "437f9b79",
   "metadata": {},
   "source": [
    "### 4. Kiểm tra các thuộc tính tương đồng về ý nghĩa"
   ]
  },
  {
   "cell_type": "markdown",
   "id": "d078b29b",
   "metadata": {},
   "source": [
    "+ created_at là thời điểm người đăng tải bắt đầu khởi tạo track\n",
    "+ display_date là thời điểm track thực sự hiển thị sau khi được người đăng tải phát hành\n",
    "+ release_date là thời điểm người đăng tải dự kiến phát hành track (set trước 1 thời điểm nhất định)"
   ]
  },
  {
   "cell_type": "code",
   "execution_count": 8,
   "id": "f21ff848",
   "metadata": {},
   "outputs": [
    {
     "data": {
      "text/html": [
       "<div>\n",
       "<style scoped>\n",
       "    .dataframe tbody tr th:only-of-type {\n",
       "        vertical-align: middle;\n",
       "    }\n",
       "\n",
       "    .dataframe tbody tr th {\n",
       "        vertical-align: top;\n",
       "    }\n",
       "\n",
       "    .dataframe thead th {\n",
       "        text-align: right;\n",
       "    }\n",
       "</style>\n",
       "<table border=\"1\" class=\"dataframe\">\n",
       "  <thead>\n",
       "    <tr style=\"text-align: right;\">\n",
       "      <th></th>\n",
       "      <th>created_at</th>\n",
       "      <th>display_date</th>\n",
       "      <th>release_date</th>\n",
       "    </tr>\n",
       "  </thead>\n",
       "  <tbody>\n",
       "    <tr>\n",
       "      <th>0</th>\n",
       "      <td>2012-07-29T08:33:56Z</td>\n",
       "      <td>2012-07-29T08:33:56Z</td>\n",
       "      <td>NaN</td>\n",
       "    </tr>\n",
       "    <tr>\n",
       "      <th>1</th>\n",
       "      <td>2012-07-07T22:07:37Z</td>\n",
       "      <td>2012-07-07T22:07:37Z</td>\n",
       "      <td>NaN</td>\n",
       "    </tr>\n",
       "    <tr>\n",
       "      <th>2</th>\n",
       "      <td>2008-12-04T13:34:28Z</td>\n",
       "      <td>2008-12-04T13:34:28Z</td>\n",
       "      <td>NaN</td>\n",
       "    </tr>\n",
       "    <tr>\n",
       "      <th>3</th>\n",
       "      <td>2008-09-03T22:06:47Z</td>\n",
       "      <td>2008-09-03T22:06:47Z</td>\n",
       "      <td>NaN</td>\n",
       "    </tr>\n",
       "    <tr>\n",
       "      <th>4</th>\n",
       "      <td>2007-11-26T13:16:09Z</td>\n",
       "      <td>2007-11-26T13:16:09Z</td>\n",
       "      <td>NaN</td>\n",
       "    </tr>\n",
       "  </tbody>\n",
       "</table>\n",
       "</div>"
      ],
      "text/plain": [
       "             created_at          display_date release_date\n",
       "0  2012-07-29T08:33:56Z  2012-07-29T08:33:56Z          NaN\n",
       "1  2012-07-07T22:07:37Z  2012-07-07T22:07:37Z          NaN\n",
       "2  2008-12-04T13:34:28Z  2008-12-04T13:34:28Z          NaN\n",
       "3  2008-09-03T22:06:47Z  2008-09-03T22:06:47Z          NaN\n",
       "4  2007-11-26T13:16:09Z  2007-11-26T13:16:09Z          NaN"
      ]
     },
     "execution_count": 8,
     "metadata": {},
     "output_type": "execute_result"
    }
   ],
   "source": [
    "track[['created_at', 'display_date', 'release_date']].head()"
   ]
  },
  {
   "cell_type": "markdown",
   "id": "1189acb1",
   "metadata": {},
   "source": [
    "Ta thấy display_date là phù hợp nhất vì nó hiển thị công khai trên Soundcloud"
   ]
  },
  {
   "cell_type": "markdown",
   "id": "39f97aa3",
   "metadata": {},
   "source": [
    "Theo bảng tóm tắt các thuộc tính ở trên, ta có thể thấy 2 thuộc tính duration và full_duration khá liên quan với nhau"
   ]
  },
  {
   "cell_type": "markdown",
   "id": "06c0e9e1",
   "metadata": {},
   "source": [
    "+ full_duration là tổng thời gian của mỗi track nhạc\n",
    "+ duration là thời gian của đoạn nhạc mẫu user có thể nghe nếu họ chỉ là thành viên miễn phí"
   ]
  },
  {
   "cell_type": "code",
   "execution_count": 9,
   "id": "8ff815eb",
   "metadata": {
    "scrolled": true
   },
   "outputs": [
    {
     "data": {
      "text/html": [
       "<div>\n",
       "<style scoped>\n",
       "    .dataframe tbody tr th:only-of-type {\n",
       "        vertical-align: middle;\n",
       "    }\n",
       "\n",
       "    .dataframe tbody tr th {\n",
       "        vertical-align: top;\n",
       "    }\n",
       "\n",
       "    .dataframe thead th {\n",
       "        text-align: right;\n",
       "    }\n",
       "</style>\n",
       "<table border=\"1\" class=\"dataframe\">\n",
       "  <thead>\n",
       "    <tr style=\"text-align: right;\">\n",
       "      <th></th>\n",
       "      <th>id</th>\n",
       "      <th>full_duration</th>\n",
       "      <th>duration</th>\n",
       "    </tr>\n",
       "  </thead>\n",
       "  <tbody>\n",
       "    <tr>\n",
       "      <th>0</th>\n",
       "      <td>54462448</td>\n",
       "      <td>50409</td>\n",
       "      <td>50409</td>\n",
       "    </tr>\n",
       "    <tr>\n",
       "      <th>1</th>\n",
       "      <td>52109081</td>\n",
       "      <td>42177</td>\n",
       "      <td>42177</td>\n",
       "    </tr>\n",
       "    <tr>\n",
       "      <th>2</th>\n",
       "      <td>79966</td>\n",
       "      <td>141348</td>\n",
       "      <td>141348</td>\n",
       "    </tr>\n",
       "    <tr>\n",
       "      <th>3</th>\n",
       "      <td>23867</td>\n",
       "      <td>180636</td>\n",
       "      <td>180636</td>\n",
       "    </tr>\n",
       "    <tr>\n",
       "      <th>4</th>\n",
       "      <td>1293</td>\n",
       "      <td>131690</td>\n",
       "      <td>131690</td>\n",
       "    </tr>\n",
       "  </tbody>\n",
       "</table>\n",
       "</div>"
      ],
      "text/plain": [
       "         id  full_duration  duration\n",
       "0  54462448          50409     50409\n",
       "1  52109081          42177     42177\n",
       "2     79966         141348    141348\n",
       "3     23867         180636    180636\n",
       "4      1293         131690    131690"
      ]
     },
     "execution_count": 9,
     "metadata": {},
     "output_type": "execute_result"
    }
   ],
   "source": [
    "track[['id','full_duration', 'duration']].head()"
   ]
  },
  {
   "cell_type": "markdown",
   "id": "17ea5ecd",
   "metadata": {},
   "source": [
    "### 5. Kiểm tra các thuộc tính còn lại"
   ]
  },
  {
   "cell_type": "code",
   "execution_count": 10,
   "id": "1b08997e",
   "metadata": {},
   "outputs": [
    {
     "name": "stdout",
     "output_type": "stream",
     "text": [
      "Số lượng downloadable: 2\n",
      "Giá trị của downloadable: [ True False]\n",
      "\n",
      "Phân bố thuộc tính downloadable:\n",
      " False    3401\n",
      "True     1154\n",
      "Name: downloadable, dtype: int64\n",
      "\n",
      "Số lượng download_count: 205\n",
      "\n",
      "Số lượng has_downloads_left: 2\n",
      "Giá trị của has_downloads_left: [False  True]\n",
      "\n",
      "Phân bố thuộc tính has_downloads_left:\n",
      " False    3548\n",
      "True     1007\n",
      "Name: has_downloads_left, dtype: int64\n",
      "\n"
     ]
    }
   ],
   "source": [
    "# downloadable\n",
    "print(f\"Số lượng downloadable: {track['downloadable'].nunique()}\")   \n",
    "print(f\"Giá trị của downloadable: {track['downloadable'].unique()}\\n\")  \n",
    "print(f\"Phân bố thuộc tính downloadable:\\n {track['downloadable'].value_counts()}\\n\")\n",
    "      \n",
    "# download_count\n",
    "print(f\"Số lượng download_count: {track['download_count'].nunique()}\\n\")  \n",
    "\n",
    "# has_downloads_left\n",
    "print(f\"Số lượng has_downloads_left: {track['has_downloads_left'].nunique()}\")  \n",
    "print(f\"Giá trị của has_downloads_left: {track['has_downloads_left'].unique()}\\n\")  \n",
    "print(f\"Phân bố thuộc tính has_downloads_left:\\n {track['has_downloads_left'].value_counts()}\\n\")"
   ]
  },
  {
   "cell_type": "markdown",
   "id": "b0d821ba",
   "metadata": {},
   "source": [
    "+ Có rất nhiều trường dữ liệu publisher_metadata nên ta tạm xem số lượng giá trị là duy nhất"
   ]
  },
  {
   "cell_type": "code",
   "execution_count": 11,
   "id": "2c303853",
   "metadata": {},
   "outputs": [
    {
     "name": "stdout",
     "output_type": "stream",
     "text": [
      "Số lượng publisher_metadata.id: 2200\n",
      "Số lượng publisher_metadata.urn: 2200\n",
      "Số lượng publisher_metadata.artist: 438\n",
      "Số lượng publisher_metadata.contains_music: 2\n",
      "Số lượng publisher_metadata.publisher: 66\n",
      "Số lượng publisher_metadata.isrc: 372\n",
      "Số lượng publisher_metadata.writer_composer 150\n",
      "Số lượng publisher_metadata.album_title: 369\n",
      "Số lượng publisher_metadata.upc_or_ean: 129\n",
      "publisher_metadata.explicit:  2\n",
      "publisher_metadata.writer_composer:  150\n",
      "publisher_metadata.release_title:  363\n",
      "publisher_metadata.p_line:  110\n",
      "publisher_metadata.p_line_for_display:  111\n",
      "publisher_metadata.c_line:  81\n",
      "publisher_metadata.c_line_for_display:  81\n",
      "publisher_metadata.iswc:  10\n"
     ]
    }
   ],
   "source": [
    "print(f\"Số lượng publisher_metadata.id: {track['publisher_metadata.id'].nunique()}\") \n",
    "print(f\"Số lượng publisher_metadata.urn: {track['publisher_metadata.urn'].nunique()}\")  \n",
    "print(f\"Số lượng publisher_metadata.artist: {track['publisher_metadata.artist'].nunique()}\")             \n",
    "print(f\"Số lượng publisher_metadata.contains_music: {track['publisher_metadata.contains_music'].nunique()}\")                   \n",
    "print(f\"Số lượng publisher_metadata.publisher: {track['publisher_metadata.publisher'].nunique()}\")                   \n",
    "print(f\"Số lượng publisher_metadata.isrc: {track['publisher_metadata.isrc'].nunique()}\")                   \n",
    "print(f\"Số lượng publisher_metadata.writer_composer {track['publisher_metadata.writer_composer'].nunique()}\")                   \n",
    "print(f\"Số lượng publisher_metadata.album_title: {track['publisher_metadata.album_title'].nunique()}\")                   \n",
    "print(f\"Số lượng publisher_metadata.upc_or_ean: {track['publisher_metadata.upc_or_ean'].nunique()}\") \n",
    "print(f\"publisher_metadata.explicit:  {track['publisher_metadata.explicit'].nunique()}\") \n",
    "print(f\"publisher_metadata.writer_composer:  {track['publisher_metadata.writer_composer'].nunique()}\") \n",
    "print(f\"publisher_metadata.release_title:  {track['publisher_metadata.release_title'].nunique()}\") \n",
    "print(f\"publisher_metadata.p_line:  {track['publisher_metadata.p_line'].nunique()}\") \n",
    "print(f\"publisher_metadata.p_line_for_display:  {track['publisher_metadata.p_line_for_display'].nunique()}\") \n",
    "print(f\"publisher_metadata.c_line:  {track['publisher_metadata.c_line'].nunique()}\") \n",
    "print(f\"publisher_metadata.c_line_for_display:  {track['publisher_metadata.c_line_for_display'].nunique()}\") \n",
    "print(f\"publisher_metadata.iswc:  {track['publisher_metadata.iswc'].nunique()}\") "
   ]
  },
  {
   "cell_type": "markdown",
   "id": "66d51875",
   "metadata": {},
   "source": [
    "### Tổng kết và chọn lọc các thuộc tính cần thiết"
   ]
  },
  {
   "cell_type": "markdown",
   "id": "0bf9cb80",
   "metadata": {},
   "source": [
    "+ Đối tượng track có 63 thuộc tính, trong đó bao gồm 4 loại thuộc tính chính:"
   ]
  },
  {
   "cell_type": "markdown",
   "id": "d4344a0e",
   "metadata": {},
   "source": [
    "+ Các thuộc tính định danh \n",
    "    + id\n",
    "    + permalink_url\n",
    "    + uri\n",
    "    + urn\n",
    "    + waveform_url\n",
    "#### => Chỉ chọn id"
   ]
  },
  {
   "cell_type": "markdown",
   "id": "f498abbf",
   "metadata": {},
   "source": [
    "+ Các thuộc tính không đóng góp đáng kể vào quá trình phân tích khám phá dữ liệu\n",
    "    + artwork_url\n",
    "    + commentable\n",
    "    + kind\n",
    "    + secret_token\n",
    "    + public\n",
    "    + sharing\n",
    "    + tag_list\n",
    "    + description\n",
    "    + caption\n",
    "    + state\n",
    "    + streamable\n",
    "    + visuals\n",
    "    + visuals.enabled\n",
    "    + visuals.tracking\n",
    "    + publisher_metadata\n",
    "#### => Không chọn"
   ]
  },
  {
   "cell_type": "markdown",
   "id": "9f6e2ffc",
   "metadata": {},
   "source": [
    "+ Các thuộc tính khá liên quan nên chỉ cần giữ lại 1 trong số chúng\n",
    "    + created_at, release_date, và display_date => Chọn display_date\n",
    "    + full_duration và duration => Chọn full_duration"
   ]
  },
  {
   "cell_type": "markdown",
   "id": "b4c18efb",
   "metadata": {},
   "source": [
    "+ Các thuộc tính còn lại:\n",
    "    + downloadable\n",
    "    + embeddable_by\n",
    "    + genre\n",
    "    + label_name\n",
    "    + last_modified\n",
    "    + license\n",
    "    + likes_count\n",
    "    + download_count\n",
    "    + comment count\n",
    "    + permalink\n",
    "    + purchase_title\n",
    "    + purchase_url\n",
    "    + reposts_count\n",
    "    + title\n",
    "    + playback_count\n",
    "    + visuals.urn\n",
    "    + visuals.visuals\n",
    "    + Các thuộc tính liên quan đến publisher_metadata\n",
    "#### => Chọn genre, likes_count, reposts_count, playback_count, comment_count, download_count"
   ]
  },
  {
   "cell_type": "markdown",
   "id": "ed3e2247",
   "metadata": {},
   "source": [
    "#### + Cuối cùng ta chọn 9 thuộc tính của tập track để phục vụ cho phân tích và khám phá dữ liệu"
   ]
  },
  {
   "cell_type": "markdown",
   "id": "0385be55",
   "metadata": {},
   "source": [
    "+ id\n",
    "+ full_duration\n",
    "+ display_date\n",
    "+ genre\n",
    "+ comment_count\n",
    "+ likes_count\n",
    "+ playback_count\n",
    "+ reposts_count\n",
    "+ download_count"
   ]
  },
  {
   "cell_type": "code",
   "execution_count": 12,
   "id": "32668c71",
   "metadata": {},
   "outputs": [],
   "source": [
    "selected_track = ['id', 'full_duration', 'genre', 'comment_count', 'likes_count', 'playback_count',\n",
    "                   'reposts_count', 'download_count', 'display_date']\n",
    "new_track = track[selected_track ]"
   ]
  },
  {
   "cell_type": "markdown",
   "id": "17d3f0ec",
   "metadata": {},
   "source": [
    "### 6. Tiền xử lí dữ liệu"
   ]
  },
  {
   "cell_type": "code",
   "execution_count": 13,
   "id": "f74f67b2",
   "metadata": {},
   "outputs": [
    {
     "data": {
      "text/html": [
       "<div>\n",
       "<style scoped>\n",
       "    .dataframe tbody tr th:only-of-type {\n",
       "        vertical-align: middle;\n",
       "    }\n",
       "\n",
       "    .dataframe tbody tr th {\n",
       "        vertical-align: top;\n",
       "    }\n",
       "\n",
       "    .dataframe thead th {\n",
       "        text-align: right;\n",
       "    }\n",
       "</style>\n",
       "<table border=\"1\" class=\"dataframe\">\n",
       "  <thead>\n",
       "    <tr style=\"text-align: right;\">\n",
       "      <th></th>\n",
       "      <th>id</th>\n",
       "      <th>full_duration</th>\n",
       "      <th>genre</th>\n",
       "      <th>comment_count</th>\n",
       "      <th>likes_count</th>\n",
       "      <th>playback_count</th>\n",
       "      <th>reposts_count</th>\n",
       "      <th>download_count</th>\n",
       "      <th>display_date</th>\n",
       "    </tr>\n",
       "  </thead>\n",
       "  <tbody>\n",
       "    <tr>\n",
       "      <th>0</th>\n",
       "      <td>54462448</td>\n",
       "      <td>50409</td>\n",
       "      <td>NaN</td>\n",
       "      <td>61.0</td>\n",
       "      <td>257.0</td>\n",
       "      <td>9978.0</td>\n",
       "      <td>28</td>\n",
       "      <td>201.0</td>\n",
       "      <td>2012-07-29T08:33:56Z</td>\n",
       "    </tr>\n",
       "    <tr>\n",
       "      <th>1</th>\n",
       "      <td>52109081</td>\n",
       "      <td>42177</td>\n",
       "      <td>NaN</td>\n",
       "      <td>37.0</td>\n",
       "      <td>137.0</td>\n",
       "      <td>5622.0</td>\n",
       "      <td>14</td>\n",
       "      <td>101.0</td>\n",
       "      <td>2012-07-07T22:07:37Z</td>\n",
       "    </tr>\n",
       "    <tr>\n",
       "      <th>2</th>\n",
       "      <td>79966</td>\n",
       "      <td>141348</td>\n",
       "      <td>experimental/noise</td>\n",
       "      <td>16.0</td>\n",
       "      <td>52.0</td>\n",
       "      <td>992.0</td>\n",
       "      <td>4</td>\n",
       "      <td>52.0</td>\n",
       "      <td>2008-12-04T13:34:28Z</td>\n",
       "    </tr>\n",
       "    <tr>\n",
       "      <th>3</th>\n",
       "      <td>23867</td>\n",
       "      <td>180636</td>\n",
       "      <td>experimental</td>\n",
       "      <td>9.0</td>\n",
       "      <td>45.0</td>\n",
       "      <td>680.0</td>\n",
       "      <td>5</td>\n",
       "      <td>43.0</td>\n",
       "      <td>2008-09-03T22:06:47Z</td>\n",
       "    </tr>\n",
       "    <tr>\n",
       "      <th>4</th>\n",
       "      <td>1293</td>\n",
       "      <td>131690</td>\n",
       "      <td>NaN</td>\n",
       "      <td>7.0</td>\n",
       "      <td>28.0</td>\n",
       "      <td>649.0</td>\n",
       "      <td>3</td>\n",
       "      <td>35.0</td>\n",
       "      <td>2007-11-26T13:16:09Z</td>\n",
       "    </tr>\n",
       "  </tbody>\n",
       "</table>\n",
       "</div>"
      ],
      "text/plain": [
       "         id  full_duration               genre  comment_count  likes_count  \\\n",
       "0  54462448          50409                 NaN           61.0        257.0   \n",
       "1  52109081          42177                 NaN           37.0        137.0   \n",
       "2     79966         141348  experimental/noise           16.0         52.0   \n",
       "3     23867         180636        experimental            9.0         45.0   \n",
       "4      1293         131690                 NaN            7.0         28.0   \n",
       "\n",
       "   playback_count  reposts_count  download_count          display_date  \n",
       "0          9978.0             28           201.0  2012-07-29T08:33:56Z  \n",
       "1          5622.0             14           101.0  2012-07-07T22:07:37Z  \n",
       "2           992.0              4            52.0  2008-12-04T13:34:28Z  \n",
       "3           680.0              5            43.0  2008-09-03T22:06:47Z  \n",
       "4           649.0              3            35.0  2007-11-26T13:16:09Z  "
      ]
     },
     "execution_count": 13,
     "metadata": {},
     "output_type": "execute_result"
    }
   ],
   "source": [
    "new_track.head()"
   ]
  },
  {
   "cell_type": "code",
   "execution_count": 14,
   "id": "2943b58e",
   "metadata": {},
   "outputs": [
    {
     "name": "stdout",
     "output_type": "stream",
     "text": [
      "<class 'pandas.core.frame.DataFrame'>\n",
      "RangeIndex: 4555 entries, 0 to 4554\n",
      "Data columns (total 9 columns):\n",
      " #   Column          Non-Null Count  Dtype  \n",
      "---  ------          --------------  -----  \n",
      " 0   id              4555 non-null   int64  \n",
      " 1   full_duration   4555 non-null   int64  \n",
      " 2   genre           3295 non-null   object \n",
      " 3   comment_count   4480 non-null   float64\n",
      " 4   likes_count     4480 non-null   float64\n",
      " 5   playback_count  4480 non-null   float64\n",
      " 6   reposts_count   4555 non-null   int64  \n",
      " 7   download_count  4480 non-null   float64\n",
      " 8   display_date    4555 non-null   object \n",
      "dtypes: float64(4), int64(3), object(2)\n",
      "memory usage: 320.4+ KB\n"
     ]
    }
   ],
   "source": [
    "new_track.info()"
   ]
  },
  {
   "cell_type": "markdown",
   "id": "64156822",
   "metadata": {},
   "source": [
    "Có thể thấy 5 thuộc tính bị thiếu dữ liệu đó là genre, comment_count, likes_count, playback_count, download_count. Nên ta phân tích và xử lí các thuộc tính này"
   ]
  },
  {
   "cell_type": "markdown",
   "id": "ae194e60",
   "metadata": {},
   "source": [
    "#### 6.1 Xử lí các giá trị không hợp lệ ở thuộc tính genre"
   ]
  },
  {
   "cell_type": "code",
   "execution_count": 15,
   "id": "1df38cad",
   "metadata": {},
   "outputs": [
    {
     "data": {
      "text/plain": [
       "889"
      ]
     },
     "execution_count": 15,
     "metadata": {},
     "output_type": "execute_result"
    }
   ],
   "source": [
    "new_track['genre'].nunique()"
   ]
  },
  {
   "cell_type": "markdown",
   "id": "899eaf22",
   "metadata": {},
   "source": [
    "Soundcloud chỉ chứa 43 thể loại nhạc chính thức https://gist.github.com/Thinkscape/8b98b82a74c102b31f5d nhưng các giá trị unique của genre lại đạt đến 889"
   ]
  },
  {
   "cell_type": "markdown",
   "id": "611004cf",
   "metadata": {},
   "source": [
    "Do số lượng giá trị unique genre quá nhiều, ta sẽ thực hiện các bước tiền xử lý:\n",
    "   + set genre = NaN với các genre có chứa số hoặc ký tự đặc biệt\n",
    "   + viết thường và xóa tất cả các khoảng trắng thừa"
   ]
  },
  {
   "cell_type": "code",
   "execution_count": 16,
   "id": "97d6a9f1",
   "metadata": {},
   "outputs": [
    {
     "name": "stderr",
     "output_type": "stream",
     "text": [
      "C:\\Anaconda\\lib\\site-packages\\pandas\\core\\indexing.py:1720: SettingWithCopyWarning: \n",
      "A value is trying to be set on a copy of a slice from a DataFrame.\n",
      "Try using .loc[row_indexer,col_indexer] = value instead\n",
      "\n",
      "See the caveats in the documentation: https://pandas.pydata.org/pandas-docs/stable/user_guide/indexing.html#returning-a-view-versus-a-copy\n",
      "  self._setitem_single_column(loc, value, pi)\n"
     ]
    }
   ],
   "source": [
    "import re\n",
    "\n",
    "for index, row in new_track.iterrows():\n",
    "    # chỉ xét các dòng có genre khác NaN\n",
    "    if not pd.isna(row['genre']):\n",
    "        if (re.search(r'\\d', row['genre'])) or ((not re.search('^[a-zA-Z0-9]*$', row['genre'])) and ('#' not in row['genre'])):\n",
    "            new_track.loc[index, 'genre'] = np.NaN"
   ]
  },
  {
   "cell_type": "code",
   "execution_count": 17,
   "id": "35945bad",
   "metadata": {},
   "outputs": [
    {
     "data": {
      "text/plain": [
       "420"
      ]
     },
     "execution_count": 17,
     "metadata": {},
     "output_type": "execute_result"
    }
   ],
   "source": [
    "# Kiểm tra sau khi loại các genre chứa số và ký tự đặc biệt\n",
    "new_track['genre'].nunique()"
   ]
  },
  {
   "cell_type": "code",
   "execution_count": 18,
   "id": "aa2775ab",
   "metadata": {},
   "outputs": [
    {
     "name": "stderr",
     "output_type": "stream",
     "text": [
      "<ipython-input-18-916bc24a5502>:1: SettingWithCopyWarning: \n",
      "A value is trying to be set on a copy of a slice from a DataFrame.\n",
      "Try using .loc[row_indexer,col_indexer] = value instead\n",
      "\n",
      "See the caveats in the documentation: https://pandas.pydata.org/pandas-docs/stable/user_guide/indexing.html#returning-a-view-versus-a-copy\n",
      "  new_track['genre'] = new_track['genre'].str.lower()\n"
     ]
    }
   ],
   "source": [
    "new_track['genre'] = new_track['genre'].str.lower()"
   ]
  },
  {
   "cell_type": "markdown",
   "id": "46aa21ec",
   "metadata": {},
   "source": [
    "Chỉnh các genre đều thành chữ viết thường"
   ]
  },
  {
   "cell_type": "code",
   "execution_count": 19,
   "id": "d439851f",
   "metadata": {},
   "outputs": [
    {
     "name": "stderr",
     "output_type": "stream",
     "text": [
      "<ipython-input-19-65fa1033b745>:1: SettingWithCopyWarning: \n",
      "A value is trying to be set on a copy of a slice from a DataFrame.\n",
      "Try using .loc[row_indexer,col_indexer] = value instead\n",
      "\n",
      "See the caveats in the documentation: https://pandas.pydata.org/pandas-docs/stable/user_guide/indexing.html#returning-a-view-versus-a-copy\n",
      "  new_track['genre'] = new_track['genre'].str.strip()\n"
     ]
    }
   ],
   "source": [
    "new_track['genre'] = new_track['genre'].str.strip()"
   ]
  },
  {
   "cell_type": "markdown",
   "id": "f93ece21",
   "metadata": {},
   "source": [
    "Xóa các khoảng trắng thừa"
   ]
  },
  {
   "cell_type": "code",
   "execution_count": 20,
   "id": "f91b48b9",
   "metadata": {},
   "outputs": [
    {
     "name": "stderr",
     "output_type": "stream",
     "text": [
      "<ipython-input-20-227972194adf>:1: SettingWithCopyWarning: \n",
      "A value is trying to be set on a copy of a slice from a DataFrame.\n",
      "Try using .loc[row_indexer,col_indexer] = value instead\n",
      "\n",
      "See the caveats in the documentation: https://pandas.pydata.org/pandas-docs/stable/user_guide/indexing.html#returning-a-view-versus-a-copy\n",
      "  new_track['genre'] = new_track['genre'].str.strip('#')\n"
     ]
    }
   ],
   "source": [
    "new_track['genre'] = new_track['genre'].str.strip('#')"
   ]
  },
  {
   "cell_type": "markdown",
   "id": "86fb08f3",
   "metadata": {},
   "source": [
    "Xóa ký tự hashtag #"
   ]
  },
  {
   "cell_type": "code",
   "execution_count": 21,
   "id": "919cac9c",
   "metadata": {},
   "outputs": [
    {
     "data": {
      "text/plain": [
       "367"
      ]
     },
     "execution_count": 21,
     "metadata": {},
     "output_type": "execute_result"
    }
   ],
   "source": [
    "# Kiểm tra sau khi xóa chữ viết thường,loại khoảng trắng thừa và xóa hastag #\n",
    "new_track['genre'].nunique()"
   ]
  },
  {
   "cell_type": "code",
   "execution_count": 22,
   "id": "ffb272d0",
   "metadata": {},
   "outputs": [
    {
     "name": "stderr",
     "output_type": "stream",
     "text": [
      "<ipython-input-22-4ff355fcb9f8>:1: SettingWithCopyWarning: \n",
      "A value is trying to be set on a copy of a slice from a DataFrame.\n",
      "Try using .loc[row_indexer,col_indexer] = value instead\n",
      "\n",
      "See the caveats in the documentation: https://pandas.pydata.org/pandas-docs/stable/user_guide/indexing.html#returning-a-view-versus-a-copy\n",
      "  new_track['genre'] = new_track['genre'].str.capitalize()\n"
     ]
    }
   ],
   "source": [
    "new_track['genre'] = new_track['genre'].str.capitalize()\n",
    "# selected_track['genre'].sort_values().unique()"
   ]
  },
  {
   "cell_type": "code",
   "execution_count": 23,
   "id": "ba8e7c96",
   "metadata": {},
   "outputs": [],
   "source": [
    "invalid_genres = {'Abdullah', 'Acehood', 'Addicted','Afroman', 'Ajjae', \n",
    "                  'Andthenjust', 'Anuel', 'Anuelaa', 'Arianagrande', 'Asmr',\n",
    "           'Asoc', 'Astralwave', 'Atif', 'Ayookd', 'Bachata',\n",
    "       'Backendchild', 'Balllikeimkobe', 'Bankhead', 'Bbo', 'Bcx', 'Bftd',\n",
    "       'Billionaireblack', 'Billo', 'Bkbk', 'Blacklivesmatter',\n",
    "       'Blacksilk', 'Blik', 'Blove', 'Blow', 'Bmike', 'Borgeous', 'Bosscash', 'Bosy', 'Bounce', 'Brandy',\n",
    "       'Bryson',  'Butta', 'Carnage', 'Carterv', 'Carti', 'Cash',\n",
    "       'Cashcarti', 'Cashkidd', 'Cdot', 'Chadbahton', 'Chenal', 'Chicago',\n",
    "       'Chiefkeef', 'Chill', 'Chillstep', 'Chingona', 'Chiraq',\n",
    "       'Christmas', 'Chutney', 'Clarity', 'Clariyahboss', 'Clasicos',\n",
    "       'Cmdwn', 'Comeupkid', 'Computers', 'Cozmik', 'Crenshaw', 'Crime',\n",
    "       'Crybaby', 'Cure', 'Dababy', 'Daedae', 'Danielaandrade', 'Dank', 'Dark', 'Deep', 'Desiigner', 'Detroit',\n",
    "       'Diplo', 'Disclosure', 'Dj', 'Djbfront', 'Djtaj', 'Dlow', 'Dmv',\n",
    "       'Dongan', 'Donkstep', 'Dope', 'Dopplebangers', 'Drake', 'Drumstep', 'Drunkinlove', 'Dt', \n",
    "       'Dumb', 'Duranguense', 'Duranguensemix', 'Dutty', 'Dynasty',\n",
    "       'Dystopian', 'Ecmg', 'Eden', 'Edit', 'Edited', 'Effortless', 'Elhae', 'Eminem', 'Experimental',\n",
    "       'Fank', 'Fbg', 'Fbgduck', 'Fetty', 'Fettywap', 'Finallyrich',\n",
    "       'Fkthissongbutitwillshakeyourcar', 'Flavors', 'Flex',\n",
    "       'Flosstradamus', 'Fuckupcunt', 'Fugazi', 'Gamda', 'Gangshit', 'Gangsta', 'Garage', 'Gas',\n",
    "       'Gbe', 'Getnmoneymusic', 'Ghazal', 'Ghostemane', 'Goblinost',\n",
    "       'Gocrazy', 'Goonlife', 'Gorillaz', 'Greaf',\n",
    "       'Groove', 'Grunge', 'Guccimane', 'Guitar', 'Guiz', 'Hahahahaha',\n",
    "       'Harder', 'Hardstyle', 'Hardstyles',\n",
    "       'Heartbrokerecords #seeninsilence #confusethemasses #letthebeatspeak',\n",
    "       'Heat', 'Hellawave', 'Hellawaveboyz', 'High', 'Icamefromnothing', 'Ily', \n",
    "       'Infamousrell', 'Issa', 'Itwillallbeoversoon', 'Jacquees', 'Jayo', 'Jeezy',\n",
    "       'Jheneaiko', 'Jid', 'Jinsang', 'Jmm', 'John', 'Joji', 'Jory',\n",
    "       'Joynerlucas', 'Juice', 'Juicewrld', 'Juke', 'Jungleterror',\n",
    "       'Jusglo', 'Justinbieber', 'Kabhi', 'Kanan', 'Kanyewest',\n",
    "       'Kasaantv', 'Kendricklamar', 'Kerala', 'Keyshiacole',\n",
    "       'Kidsthealbum', 'Kiiara', 'Kill', 'Killstation', 'Kings',\n",
    "       'Kodakblack', 'Kondzilla', 'Kpa', 'Ksrgroup', 'Kygo',\n",
    "       'Laflame', 'Laryover', 'Ldru', 'Lean', 'Leaving', 'Leonbridges', 'Life', 'Lifestyle', 'Like',\n",
    "       'Lildurk', 'Liljon', 'Lilmouse', 'Lilpeep', 'Little', 'Littness',\n",
    "       'Liveforever', 'Logic', 'Londonjae', 'Lostcause', 'Love',\n",
    "        'Lucascoly', 'Lucki', 'Lukebryan', 'Luv',  'Mambo #nicky #jam #nickyjam #elperdon #elperdonremix',\n",
    "       'Manalitrance', 'Mariah', 'Martygrimes', 'Mattybraps',\n",
    "       'Melanie', 'Melaniemartinez', 'Melbournebounce', 'Melodic',\n",
    "       'Memories', 'Memphis', 'Memphistn', 'Mere', 'Metroboominwantsomemore', \n",
    "                  'Mgk', 'Migos', 'Million', 'Missingyou',\n",
    "       'Missmulatto', 'Mitali', 'Mm', 'Moans', 'Moon',\n",
    "       'Mozzy', 'Mulatto', 'Music', 'Nashvillemusichouse', 'Nasty', 'Nav',\n",
    "       'New', 'Newsound', 'Ninja',\n",
    "       'Nipseyhussle', 'Niykeeheaton', 'Nocopyrightsounds', 'Noisestorm',\n",
    "       'Not', 'Nowimjoey', 'Offonoff', 'Offspring', 'Oh', 'Old', 'Oldies',\n",
    "       'Orchestralcrunkwave', 'Otf', 'Outkast',\n",
    "       'Ovo', 'Pashto', 'Philthyrich', 'Phonk', 'Pink',\n",
    "       'Playboicarti', 'Playboifresh', 'Playbook', 'Plies', 'Plurnt',\n",
    "                     'Problematic', 'Promiscuous',\n",
    "       'Promnite', 'Punjabi', 'Purp', 'Pusho',\n",
    "       'Queen', 'Quemix', 'Quilly', 'Radha', 'Rahnrahn', 'Rain', 'Ramy',\n",
    "       'Rare', 'Raw', 'Redman', 'Remyboyz',\n",
    "       'Retromusicgroup', 'Riff', 'Rightnow', 'Rihanna',\n",
    "       'Robotaki', 'Romiti', 'Rondonumbanine',\n",
    "       'Rudimental', 'Runnaway', 'Russ', 'Sangatost', 'Scfirst', 'Schema', 'Schemathraxx', 'Screwston',\n",
    "       'Sdot', 'Serise', 'Sesh', 'Sevyn', 'Shaggy', 'Share',\n",
    "       'Sharmoofers', 'Simpshit', 'Sixset', 'Skizzy', 'Skrillex', 'Skt',\n",
    "       'Sktexclusive', 'Skyfall', 'Slipknot', 'Slipsoknot', 'Slowjams',\n",
    "       'Smooth', 'Soul', 'Soulection', 'Soulful', 'Soundtrack',\n",
    "       'Southpaw', 'Spm', 'Sremmlife', 'Steve', 'Storytelling',\n",
    "       'Streetpoem', 'Study', 'Supportsexworkers', 'Swag', 'Swavey',\n",
    "       'Sway', 'T', 'Tbg', 'Teammulatto', 'Teemid',\n",
    "       'Tekstyle', 'Tgod', 'Throwback', 'Thug', 'Thugstep',\n",
    "       'Tomorrowland', 'Toosmooth', 'Torylanez', 'Tracks', 'Tracy',\n",
    "       'Travisscott', 'Trell', 'Trillsammy', 'Triphop', 'Tropical',\n",
    "       'Twerk', 'Tyga', 'Tylerthecreator', 'Uber', 'Uwu',\n",
    "       'Va', 'Vaporwave', 'Var', 'Variado', 'Vibe',\n",
    "       'Vine',  'Void', 'Wax', 'Wayout', 'Wedidit',\n",
    "       'Werkkk', 'Wiz', 'Wood', 'Work', 'Xo',\n",
    "       'Xxx', 'Yara', 'Yazzie', 'Yoga', 'Yonkers', 'Youngdolph',\n",
    "       'Younghustlers', 'Youngthug', 'Youngthug#youtheone#richgang',\n",
    "       'Zafar', 'Zara', 'Zeeshan', 'Zen', 'Zidd', 'Zombies', 'Zonemusic',\n",
    "       'Zouk'\n",
    "       }"
   ]
  },
  {
   "cell_type": "code",
   "execution_count": 24,
   "id": "1b1263f6",
   "metadata": {},
   "outputs": [],
   "source": [
    "for index, row in new_track.iterrows():\n",
    "    # chỉ xét các dòng có genre <> NaN\n",
    "    if not pd.isna(row['genre']):\n",
    "        if row['genre'] in invalid_genres:\n",
    "            new_track.loc[index, 'genre'] = np.NaN"
   ]
  },
  {
   "cell_type": "code",
   "execution_count": 25,
   "id": "e9f64868",
   "metadata": {},
   "outputs": [],
   "source": [
    "standard_genres = [\n",
    "                    ['Alternative Rock','Allthatsound', 'Alternative Rock'],\n",
    "                    ['Blues','Jazz & Blues'],\n",
    "                    ['Ambient', 'Ambient'],\n",
    "                    ['Contemporary Classical','Cinematic', 'Classical', 'Modern Classical', 'Classical'],\n",
    "                    ['DeepHouse', 'Deep\\\\ House\\\\ Club', 'Deep\\\\ House', \n",
    "                    'Deep techHouse','Deephouse', 'Deephouse #funky', 'Deephouse #summervibes', 'Demo', 'Detroithouse', 'Dirgefunk' 'Deep House'],\n",
    "                    ['Dance & Electronic', '\"Dance & Electronic\" (Dance/Techno/disco)', 'Dance & Electronic/Techno', 'Dance & Edm'],\n",
    "                    ['Dance | House | Deep', 'Dance', 'Dance | House | Tech House', 'Dance | House', 'Dance | Techno',\n",
    "                     'Dance - Soulful House', 'Dance | House | Disco', 'DanceHall'],\n",
    "                    ['nu disco', 'g.i. disco', 'nu-disco', 'disco rap', 'e-boogie/new disco', 'italo disco', 'disco'],\n",
    "                    ['Experimental Electronic', 'Electronic/Dance', 'Electronic pop', 'electronca', 'electronca','electronic',\n",
    "                     'Easy', 'Eclectic', 'Electric', 'Electrobass', 'Electropop',\n",
    "                     'Elektro', 'Eletronic', 'Excerpts', 'Exhibition',\n",
    "                     'Elettronica', 'Electronica', 'Electronica/Dance', 'Electronic music', 'Electronic'],\n",
    "                    ['Hip hop', 'rap Hiphop', 'Hip hop/rap', 'Hip-hop/rap', 'Hiphop', 'Hip-hop', 'rap', \n",
    "                     'Underground', 'Jazz Hip-hop', 'Hip-hop & Rap'],\n",
    "                    ['African House Music', 'Soulful House', 'tech\\\\ House', 'House Electronic', 'tech House', 'raw House',\n",
    "                     'House / Techno', 'House'],\n",
    "                    ['Indie Dance', 'Indie'],\n",
    "                    ['jazz fusion','Beyondjazz','Jazzhouse', 'balearic', 'jazz', 'jazz funk', 'Jazz'],\n",
    "                    ['solo piano', 'piano'],\n",
    "                    ['pop rock', '\"pop\"', 'pop/Electronica', 'pop Electronic', 'pop'],\n",
    "                    ['soul, funk, r&b, disco, 80s, g.i. disco', 'r&b', \"r'n'b\", 'r&b & soul'],\n",
    "                    ['reggae Dancehall', 'reggae'],\n",
    "                    ['Techno minimal', 'Detroit Techno', 'HardTechno', 'Melodic Techno', 'dub Techno',\n",
    "                     'Techno / techHouse', 'Tech House', 'Tech', 'Techno / Tech House', 'Techno / electro'\n",
    "                     'Techno dub', 'Techno / Electro', 'Techno Dub', 'Techno'],\n",
    "                    ['Sci-fi Ballads', 'Ballad'],\n",
    "                    ['House','Housemusic', 'Housey','Afrohouse', 'House'],\n",
    "                    ['Soul #disco #boogie #house #jazz','Soul #funk #boogie #house #jazz', 'Soulbasta','Soulfulvocalhouse', 'Soulsearchnig', 'Soultronica', 'R&B & Soul'],\n",
    "                    ['Anthonymea', 'Antidote', 'Aqwatik','Art', 'Audiocopy', 'Austrojuke', 'Avantgarde', 'Bach', 'Balearic','Acapella', 'Acid', 'Acoustic', 'Af', 'Afrobeat', 'Afx','Alessiomodriandj','Sult','Jumpstyle', 'Jungle', 'Junkbeats', 'Juridik', 'Karate',\n",
    "                       'Khs', 'Kids', 'Klassik', 'Kontor', 'Kosmische', 'Kraut', 'Kruder','Kunst', 'Laica', 'Lazergospel', 'Learning', 'Liketrax', 'Litmus', 'Spoken', 'Spokenwordbeat', 'Sri', 'Steelycore', 'Stephenjkroos','Stroked',\n",
    "                       'Loops', 'Lots', 'Lounge', 'Lsdj', 'Madness #whenmusicwasgood', 'Summermarian', 'Sundayallweeklong', 'Sunset','Pluxemburg', 'Podcast', 'Polynesian',\n",
    "                       'Superspeedpowerpop', 'Surf', 'Svenjozwiak', 'Switchme','Synthpop', 'Synthwave', 'Take', 'Tech', 'Techdingens','Curl', 'Dada', 'Dairmount', \n",
    "                       'Techhouseminimal', 'Techno', 'Technology', 'Techouse', 'Testing','Thaddeusclark', 'Thadduesclark', 'This', 'Tiki', 'Trailer',\n",
    "                       'Trainwreck', 'Trance', 'Trancformational', 'Trap', 'Trip','Triptech', 'Turntablism', 'Twinpeaks', 'Ukg', 'Ultrastrtetch',\n",
    "                       'Unclassified', 'Unformatted', 'Vemod','Vinyl', 'Wallpaper', 'Waltz', 'Walzer', 'Wammen', 'Warehouse', 'Reworked', 'Riccione', 'Riddim', 'Roadmovie', 'Robotfestival','Rubberstep', 'Rural', 'Safari', 'Sarcasm', 'Sax',\n",
    "                       'Webcam', 'Weird', 'Weirdness', 'Weirdomusic', 'Weltmusik', 'Wgar','Whoisback', 'Wilde', 'Witchstep', 'World', 'Wormhole', 'Xmus',\n",
    "                       'Yeps', 'You', 'Zzzune', 'a', 'Glitch', 'Gluegaze', 'Goa', 'Grimestep', 'Grindcore','Hangovermusic', 'Hd', 'Headcleaner', 'Healing', 'Heimatmusik',\n",
    "                       'Improvisation', 'Indian', 'Indie', 'Indietronica', 'Industrial','Inspirational', 'Instalation', 'Installation', 'Instrumental','Internet', 'Interview', 'Intervju', 'It', 'Jam','Unkown']\n",
    "                ]"
   ]
  },
  {
   "cell_type": "code",
   "execution_count": 26,
   "id": "b5430f8b",
   "metadata": {},
   "outputs": [
    {
     "name": "stderr",
     "output_type": "stream",
     "text": [
      "<ipython-input-26-01d87690ef35>:2: SettingWithCopyWarning: \n",
      "A value is trying to be set on a copy of a slice from a DataFrame.\n",
      "Try using .loc[row_indexer,col_indexer] = value instead\n",
      "\n",
      "See the caveats in the documentation: https://pandas.pydata.org/pandas-docs/stable/user_guide/indexing.html#returning-a-view-versus-a-copy\n",
      "  new_track[\"genre\"] = new_track[\"genre\"].replace(i[:-1], i[-1])\n"
     ]
    }
   ],
   "source": [
    "for i in standard_genres:\n",
    "    new_track[\"genre\"] = new_track[\"genre\"].replace(i[:-1], i[-1])"
   ]
  },
  {
   "cell_type": "code",
   "execution_count": 27,
   "id": "7cb76eab",
   "metadata": {
    "scrolled": false
   },
   "outputs": [
    {
     "name": "stdout",
     "output_type": "stream",
     "text": [
      "188\n"
     ]
    },
    {
     "data": {
      "text/plain": [
       "array(['Alternative', 'Alternative Rock', 'Amapiano', 'Amaze', 'Ambiance',\n",
       "       'Ambience', 'Ambient', 'Bass', 'Bastard', 'Beats', 'Beatz',\n",
       "       'Beirut', 'Berlin', 'Biorhythm', 'Blaulichtsafaripunk', 'Bluff',\n",
       "       'Bobrogue', 'Boogie', 'Bootleg', 'Braindance', 'Brainfuck',\n",
       "       'Brazil', 'Breakbeat', 'Breakcore', 'Breaks', 'Brukbeat',\n",
       "       'Business', 'Carbon', 'Cecerogers', 'Chacarron', 'Chilllll',\n",
       "       'Chillout', 'Chiptune', 'Classical', 'Claudeyoung', 'Club',\n",
       "       'Coldplay', 'Collage', 'Comedy', 'Commercial', 'Compilation',\n",
       "       'Cough', 'Country', 'Cover', 'Crazystep', 'Curatedbylaurapoitras',\n",
       "       'DanceHall', 'Dancehall', 'Dancehallhiphop', 'Dansk', 'Daveaju',\n",
       "       'Death', 'Dirgefunk', 'DirgefunkDeep House', 'Disco', 'Discohinrg',\n",
       "       'Djmix', 'Djset', 'Dm', 'Doom', 'Dopewax', 'Downbeat', 'Downtempo',\n",
       "       'Dreamy', 'Drifting', 'Drone', 'Dronecore', 'Dub', 'Dubstep',\n",
       "       'Dubtechno', 'Dumbia', 'Dunno', 'Electro', 'Electronic',\n",
       "       'Electronic #ambient', 'Fachwerk', 'Fashion', 'Feedback',\n",
       "       'Feelgood', 'Felix', 'Fieldrecording', 'Film', 'Firstdecadepop',\n",
       "       'Fishgodeep', 'Folk', 'Football', 'Footwork', 'Freestyle',\n",
       "       'Freestyles', 'Friend', 'Funk', 'Funky', 'Fusion', 'Generative',\n",
       "       'Ghettotechno', 'Giannibini', 'Gipsy', 'Gjerding', 'Hip-hop & Rap',\n",
       "       'House', 'Humor', 'Humour', 'Idm', 'Jazz', 'Jazz & Blues',\n",
       "       'Joyful', 'Latin', 'Latina', 'Magic', 'Malente', 'Marieavril',\n",
       "       'Mashup', 'Mashups', 'Massprod', 'Mauroferrucci', 'Mess', 'Metal',\n",
       "       'Microsound', 'Miniature', 'Minimal', 'Minimalarttechouse',\n",
       "       'Minimalism', 'Minitro', 'Mix', 'Mixed', 'Mixtape', 'Modular',\n",
       "       'Moodymusic', 'Nationalhymne', 'Newwave', 'Nibc', 'Noinput',\n",
       "       'Noise', 'Noisecore', 'None', 'Noneventmass', 'Nts',\n",
       "       'Nudiscohiphopmashup', 'Ocbe', 'Opium', 'Organ', 'Original',\n",
       "       'Other', 'Outrun', 'Ovech #kzradio #ambient #leftfield',\n",
       "       'Ovosound', 'Personal', 'Philosophy', 'Piano', 'Pierreversion',\n",
       "       'Pirate', 'Plum', 'Pop', 'Postchiptune', 'Protonradio',\n",
       "       'Psychedelic', 'Psytrance', 'Punkrock', 'Pxtone', 'R&B & Soul',\n",
       "       'Radio', 'Rame', 'Rap', 'Raregroove', 'Rave', 'Reason',\n",
       "       'Redlightradio', 'Reggae', 'Remix', 'Retrowave', 'Reverb', 'Rock',\n",
       "       'Science', 'Sense', 'Shlow', 'Singersongwriter', 'Sisyphos',\n",
       "       'Skweee', 'Skweeee', 'Slowrave', 'Snowflakes', 'Soundgrid',\n",
       "       'Soundtracks', 'Spacefunk', 'Spacehop', 'Speech', 'Techhouse',\n",
       "       'Unkown', nan], dtype=object)"
      ]
     },
     "execution_count": 27,
     "metadata": {},
     "output_type": "execute_result"
    }
   ],
   "source": [
    "# Kiểm tra các genre sau khi xử lý\n",
    "print(new_track['genre'].nunique())\n",
    "new_track['genre'].sort_values().unique()"
   ]
  },
  {
   "cell_type": "markdown",
   "id": "6f8b0720",
   "metadata": {},
   "source": [
    "#### 6.2 Xử lí các thuộc tính bị thiếu ở các thuộc tính genre, comment_count, likes_count, playback_count, download_count"
   ]
  },
  {
   "cell_type": "code",
   "execution_count": 28,
   "id": "3267c456",
   "metadata": {
    "scrolled": true
   },
   "outputs": [
    {
     "data": {
      "text/plain": [
       "id                   0\n",
       "full_duration        0\n",
       "genre             2516\n",
       "comment_count       75\n",
       "likes_count         75\n",
       "playback_count      75\n",
       "reposts_count        0\n",
       "download_count      75\n",
       "display_date         0\n",
       "dtype: int64"
      ]
     },
     "execution_count": 28,
     "metadata": {},
     "output_type": "execute_result"
    }
   ],
   "source": [
    "new_track.isnull().sum()"
   ]
  },
  {
   "cell_type": "code",
   "execution_count": 29,
   "id": "4174850d",
   "metadata": {},
   "outputs": [],
   "source": [
    "missing_value = {'comment_count':0,\n",
    "               'likes_count':0,\n",
    "               'playback_count':0,\n",
    "               'download_count':0}\n",
    "new_track = new_track.fillna(value = missing_value)"
   ]
  },
  {
   "cell_type": "markdown",
   "id": "1b8fb731",
   "metadata": {},
   "source": [
    "Ta các trường số thực bằng giá trị 0"
   ]
  },
  {
   "cell_type": "markdown",
   "id": "9deb169e",
   "metadata": {},
   "source": [
    "Ta thay thế những chỗ bị missing value bằng cách gán nó bằng chuỗi \"Unknown\""
   ]
  },
  {
   "cell_type": "code",
   "execution_count": 30,
   "id": "a5b90349",
   "metadata": {},
   "outputs": [],
   "source": [
    "genre_missing = {'genre':\"Unknown\"}\n",
    "new_track = new_track.fillna(value = genre_missing)"
   ]
  },
  {
   "cell_type": "code",
   "execution_count": 31,
   "id": "9c69cc6f",
   "metadata": {
    "scrolled": false
   },
   "outputs": [
    {
     "data": {
      "text/plain": [
       "id                0\n",
       "full_duration     0\n",
       "genre             0\n",
       "comment_count     0\n",
       "likes_count       0\n",
       "playback_count    0\n",
       "reposts_count     0\n",
       "download_count    0\n",
       "display_date      0\n",
       "dtype: int64"
      ]
     },
     "execution_count": 31,
     "metadata": {},
     "output_type": "execute_result"
    }
   ],
   "source": [
    "# Kiểm tra sau khi xử lý null cho các trường số thực\n",
    "new_track.isnull().sum()"
   ]
  },
  {
   "cell_type": "markdown",
   "id": "3c870abe",
   "metadata": {},
   "source": [
    "### 7. Biến đổi thuộc tính"
   ]
  },
  {
   "cell_type": "markdown",
   "id": "18b72ad9",
   "metadata": {},
   "source": [
    "+ Biến đổi id thành kiểu string\n",
    "+ Biến đổi display_date thành kiểu datetime\n",
    "+ Biến đổi comment_count, likes_count, playback_count và download_count về kiểu int64"
   ]
  },
  {
   "cell_type": "code",
   "execution_count": 32,
   "id": "7f3ab230",
   "metadata": {
    "scrolled": false
   },
   "outputs": [
    {
     "name": "stdout",
     "output_type": "stream",
     "text": [
      "<class 'pandas.core.frame.DataFrame'>\n",
      "RangeIndex: 4555 entries, 0 to 4554\n",
      "Data columns (total 9 columns):\n",
      " #   Column          Non-Null Count  Dtype  \n",
      "---  ------          --------------  -----  \n",
      " 0   id              4555 non-null   int64  \n",
      " 1   full_duration   4555 non-null   int64  \n",
      " 2   genre           4555 non-null   object \n",
      " 3   comment_count   4555 non-null   float64\n",
      " 4   likes_count     4555 non-null   float64\n",
      " 5   playback_count  4555 non-null   float64\n",
      " 6   reposts_count   4555 non-null   int64  \n",
      " 7   download_count  4555 non-null   float64\n",
      " 8   display_date    4555 non-null   object \n",
      "dtypes: float64(4), int64(3), object(2)\n",
      "memory usage: 320.4+ KB\n"
     ]
    }
   ],
   "source": [
    "new_track.info()"
   ]
  },
  {
   "cell_type": "code",
   "execution_count": 33,
   "id": "353daa7f",
   "metadata": {
    "scrolled": true
   },
   "outputs": [],
   "source": [
    "# Biến đổi các trường về kiểu int64\n",
    "new_track['comment_count'] = new_track['comment_count'].astype('int64')\n",
    "new_track['likes_count'] = new_track['likes_count'].astype('int64')\n",
    "new_track['playback_count'] = new_track['playback_count'].astype('int64')\n",
    "new_track['download_count'] = new_track['download_count'].astype('int64')"
   ]
  },
  {
   "cell_type": "code",
   "execution_count": 34,
   "id": "ae8512af",
   "metadata": {},
   "outputs": [],
   "source": [
    "# Biến đổi trường dữ liệu genre về kiểu string\n",
    "new_track['id'] = new_track['id'].astype('string')"
   ]
  },
  {
   "cell_type": "code",
   "execution_count": 35,
   "id": "2c616e90",
   "metadata": {},
   "outputs": [],
   "source": [
    "# Biến đổi trường dữ liệu display_date về kiểu datetime\n",
    "new_track['display_date'] = pd.to_datetime(new_track['display_date'])"
   ]
  },
  {
   "cell_type": "code",
   "execution_count": 36,
   "id": "244e3d85",
   "metadata": {},
   "outputs": [
    {
     "name": "stdout",
     "output_type": "stream",
     "text": [
      "<class 'pandas.core.frame.DataFrame'>\n",
      "RangeIndex: 4555 entries, 0 to 4554\n",
      "Data columns (total 9 columns):\n",
      " #   Column          Non-Null Count  Dtype              \n",
      "---  ------          --------------  -----              \n",
      " 0   id              4555 non-null   string             \n",
      " 1   full_duration   4555 non-null   int64              \n",
      " 2   genre           4555 non-null   object             \n",
      " 3   comment_count   4555 non-null   int64              \n",
      " 4   likes_count     4555 non-null   int64              \n",
      " 5   playback_count  4555 non-null   int64              \n",
      " 6   reposts_count   4555 non-null   int64              \n",
      " 7   download_count  4555 non-null   int64              \n",
      " 8   display_date    4555 non-null   datetime64[ns, UTC]\n",
      "dtypes: datetime64[ns, UTC](1), int64(6), object(1), string(1)\n",
      "memory usage: 320.4+ KB\n"
     ]
    }
   ],
   "source": [
    "# Kiểm tra lại loại dữ liệu\n",
    "new_track.info()"
   ]
  },
  {
   "cell_type": "code",
   "execution_count": 37,
   "id": "59e8b074",
   "metadata": {
    "scrolled": true
   },
   "outputs": [
    {
     "data": {
      "text/plain": [
       "id                0\n",
       "full_duration     0\n",
       "genre             0\n",
       "comment_count     0\n",
       "likes_count       0\n",
       "playback_count    0\n",
       "reposts_count     0\n",
       "download_count    0\n",
       "display_date      0\n",
       "dtype: int64"
      ]
     },
     "execution_count": 37,
     "metadata": {},
     "output_type": "execute_result"
    }
   ],
   "source": [
    "# Kiểm tra lại missing dữ liệu\n",
    "new_track.isnull().sum()"
   ]
  },
  {
   "cell_type": "markdown",
   "id": "952813f8",
   "metadata": {},
   "source": [
    "### 8. Lưu dữ liệu xuống file CSV"
   ]
  },
  {
   "cell_type": "code",
   "execution_count": 38,
   "id": "e805233c",
   "metadata": {},
   "outputs": [],
   "source": [
    "new_track.to_csv('New_Track.csv', index=False)"
   ]
  }
 ],
 "metadata": {
  "kernelspec": {
   "display_name": "Python 3",
   "language": "python",
   "name": "python3"
  },
  "language_info": {
   "codemirror_mode": {
    "name": "ipython",
    "version": 3
   },
   "file_extension": ".py",
   "mimetype": "text/x-python",
   "name": "python",
   "nbconvert_exporter": "python",
   "pygments_lexer": "ipython3",
   "version": "3.8.8"
  }
 },
 "nbformat": 4,
 "nbformat_minor": 5
}
